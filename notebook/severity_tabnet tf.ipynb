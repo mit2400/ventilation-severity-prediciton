{
 "cells": [
  {
   "cell_type": "markdown",
   "id": "cfc76fc6",
   "metadata": {},
   "source": [
    "# Supervised Classification using TabNet\n",
    "\n",
    "In this notebook, we will see how to use the TabNet layers from this repository to build a supervised learning classifier in TF Keras. As an example, we will analyze the [Adult Census Income dataset](https://archive.ics.uci.edu/ml/datasets/adult). The goal here is to predict the income bracket (earns <=\\$50K or >50K) of an individual based on some descriptive features (e.g., age, sex, race, marital status, occupation, capital gain/loss, etc.)."
   ]
  },
  {
   "cell_type": "code",
   "execution_count": 1,
   "id": "75e43afe",
   "metadata": {},
   "outputs": [
    {
     "name": "stderr",
     "output_type": "stream",
     "text": [
      "/home/minkoo/.conda/envs/tf/lib/python3.9/site-packages/tensorflow_addons/utils/tfa_eol_msg.py:23: UserWarning: \n",
      "\n",
      "TensorFlow Addons (TFA) has ended development and introduction of new features.\n",
      "TFA has entered a minimal maintenance and release mode until a planned end of life in May 2024.\n",
      "Please modify downstream libraries to take dependencies from other repositories in our TensorFlow community (e.g. Keras, Keras-CV, and Keras-NLP). \n",
      "\n",
      "For more information see: https://github.com/tensorflow/addons/issues/2807 \n",
      "\n",
      "  warnings.warn(\n",
      "/home/minkoo/.conda/envs/tf/lib/python3.9/site-packages/tensorflow_addons/utils/ensure_tf_install.py:53: UserWarning: Tensorflow Addons supports using Python ops for all Tensorflow versions above or equal to 2.10.0 and strictly below 2.13.0 (nightly versions are not supported). \n",
      " The versions of TensorFlow you are currently using is 2.8.0 and is not supported. \n",
      "Some things might work, some things might not.\n",
      "If you were to encounter a bug, do not file an issue.\n",
      "If you want to make sure you're using a tested and supported configuration, either change the TensorFlow version or the TensorFlow Addons's version. \n",
      "You can find the compatibility matrix in TensorFlow Addon's readme:\n",
      "https://github.com/tensorflow/addons\n",
      "  warnings.warn(\n"
     ]
    }
   ],
   "source": [
    "import sys \n",
    "sys.path.append(\"../\")\n",
    "\n",
    "# import torch\n",
    "# import pandas as pd\n",
    "import plotly.express as px\n",
    "# import tensorflow as tf\n",
    "import numpy as np\n",
    "import matplotlib.pyplot as plt\n",
    "# from sklearn.preprocessing import LabelEncoder\n",
    "from utils.load_data import get_datasets_np\n",
    "# from pytorch_tabnet.tab_model import TabNetClassifier\n",
    "\n",
    "from tqdm import tqdm\n",
    "import pandas as pd\n",
    "import numpy as np\n",
    "import tensorflow as tf\n",
    "from sklearn.model_selection import train_test_split\n",
    "\n",
    "# from sklearn.preprocessing import StandardScaler, OneHotEncoder\n",
    "# from category_encoders.woe import WOEEncoder\n",
    "# from sklearn.compose import ColumnTransformer\n",
    "from tensorflow.keras import metrics\n",
    "\n",
    "from sklearn.metrics import average_precision_score, roc_auc_score, confusion_matrix\n",
    "\n",
    "from tensorflow_addons.activations import sparsemax\n",
    "from scipy.special import softmax\n",
    "\n",
    "import matplotlib.pyplot as plt\n",
    "import seaborn as sns"
   ]
  },
  {
   "cell_type": "markdown",
   "id": "700a5873",
   "metadata": {},
   "source": [
    "## Loading and preparing data\n",
    "We load the Adult Census Income dataset from the UCI data repository. We impute the missing values with the mode value. We encode the labels into binary. Finally, we convert the data into [TF Dataset format](https://www.tensorflow.org/api_docs/python/tf/data/Dataset)."
   ]
  },
  {
   "cell_type": "code",
   "execution_count": 2,
   "id": "701bff3c",
   "metadata": {},
   "outputs": [
    {
     "name": "stdout",
     "output_type": "stream",
     "text": [
      "(995318, 6, 30)\n",
      "(254005, 6, 30)\n",
      "(114869, 6, 30)\n",
      "(13710, 6, 30)\n"
     ]
    },
    {
     "name": "stderr",
     "output_type": "stream",
     "text": [
      "2023-07-14 10:15:00.700037: I tensorflow/stream_executor/cuda/cuda_gpu_executor.cc:936] successful NUMA node read from SysFS had negative value (-1), but there must be at least one NUMA node, so returning NUMA node zero\n",
      "2023-07-14 10:15:01.123105: I tensorflow/stream_executor/cuda/cuda_gpu_executor.cc:936] successful NUMA node read from SysFS had negative value (-1), but there must be at least one NUMA node, so returning NUMA node zero\n",
      "2023-07-14 10:15:01.123461: I tensorflow/stream_executor/cuda/cuda_gpu_executor.cc:936] successful NUMA node read from SysFS had negative value (-1), but there must be at least one NUMA node, so returning NUMA node zero\n",
      "2023-07-14 10:15:01.124855: I tensorflow/core/platform/cpu_feature_guard.cc:151] This TensorFlow binary is optimized with oneAPI Deep Neural Network Library (oneDNN) to use the following CPU instructions in performance-critical operations:  AVX2 FMA\n",
      "To enable them in other operations, rebuild TensorFlow with the appropriate compiler flags.\n",
      "2023-07-14 10:15:01.125282: I tensorflow/stream_executor/cuda/cuda_gpu_executor.cc:936] successful NUMA node read from SysFS had negative value (-1), but there must be at least one NUMA node, so returning NUMA node zero\n",
      "2023-07-14 10:15:01.125595: I tensorflow/stream_executor/cuda/cuda_gpu_executor.cc:936] successful NUMA node read from SysFS had negative value (-1), but there must be at least one NUMA node, so returning NUMA node zero\n",
      "2023-07-14 10:15:01.125912: I tensorflow/stream_executor/cuda/cuda_gpu_executor.cc:936] successful NUMA node read from SysFS had negative value (-1), but there must be at least one NUMA node, so returning NUMA node zero\n",
      "2023-07-14 10:15:01.838639: I tensorflow/stream_executor/cuda/cuda_gpu_executor.cc:936] successful NUMA node read from SysFS had negative value (-1), but there must be at least one NUMA node, so returning NUMA node zero\n",
      "2023-07-14 10:15:01.839038: I tensorflow/stream_executor/cuda/cuda_gpu_executor.cc:936] successful NUMA node read from SysFS had negative value (-1), but there must be at least one NUMA node, so returning NUMA node zero\n",
      "2023-07-14 10:15:01.839322: I tensorflow/stream_executor/cuda/cuda_gpu_executor.cc:936] successful NUMA node read from SysFS had negative value (-1), but there must be at least one NUMA node, so returning NUMA node zero\n",
      "2023-07-14 10:15:01.839590: I tensorflow/core/common_runtime/gpu/gpu_device.cc:1525] Created device /job:localhost/replica:0/task:0/device:GPU:0 with 6642 MB memory:  -> device: 0, name: NVIDIA GeForce RTX 2080, pci bus id: 0000:01:00.0, compute capability: 7.5\n"
     ]
    }
   ],
   "source": [
    "x,y, class_weights = get_datasets_np()\n",
    "\n",
    "\n",
    "#'time', 'age', 'gender_f', 'gender_m'\n",
    "time = ['time']\n",
    "vital = ['rr','hr','spo2','sbp','dbp','temp']\n",
    "CBC = ['hct','hb','platelets','wbc','rbc','mch','mchc','mcv']\n",
    "ABGA = ['ph','hco3', 'po2','pco2','sao2','fio2','pfratio']\n",
    "time_series = time+vital+CBC+ABGA\n",
    "info = ['age', 'gender_f', 'gender_m']\n",
    "scores = ['Rox', 'MEWS', 'NEWS', 'Sofa', 'QSofa']\n",
    "name = time_series+info+scores\n",
    "\n",
    "def flatten_name(name, N):\n",
    "    return [name[i] + '_' + str(j) for i in range(len(name)) for j in range(1, N+1)]\n",
    "\n",
    "def flatten_ts(X):\n",
    "    X_ts  =X[:,:,:-8]\n",
    "    X_static = X[:,0,-8:-6] #exclude gender_m\n",
    "    X_score = X[:,:,-5:]\n",
    "    flat_x_ts = np.transpose(X_ts, (0, 2, 1)).reshape(X_ts.shape[0], -1)\n",
    "    datasets_score = np.transpose(X_score, (0, 2, 1)).reshape(X_score.shape[0], -1)\n",
    "    flatten_x = np.concatenate((flat_x_ts, X_static, datasets_score), axis=1)\n",
    "    return flatten_x    \n",
    "\n",
    "flat_names = flatten_name(time_series,6) + ['age', 'gender'] + flatten_name(scores,6)\n",
    "\n",
    "flat_x = []\n",
    "df = []\n",
    "for i in range(4):\n",
    "    flat_x.append(flatten_ts(x[i]))\n",
    "    df.append(pd.DataFrame(flat_x[i], columns=flat_names))\n",
    "\n",
    "dataset_names = ['train','valid','test_icu','test_covid']\n",
    "\n",
    "datasets = []\n",
    "for i in range(4):\n",
    "    # y[i] = tf.one_hot(y[i].astype(int), 2)\n",
    "    tfdata = tf.data.Dataset.from_tensor_slices((flat_x[i],y[i]))\n",
    "    # tfdata = tf.data.Dataset.from_tensor_slices(datasets[i],y[i])\n",
    "    tfdata = tfdata.batch(1024).prefetch(tf.data.experimental.AUTOTUNE)\n",
    "    datasets.append(tfdata)"
   ]
  },
  {
   "cell_type": "code",
   "execution_count": 3,
   "id": "42e19981",
   "metadata": {},
   "outputs": [],
   "source": [
    "def glu(x, n_units=None):\n",
    "    \"\"\"Generalized linear unit nonlinear activation.\"\"\"\n",
    "    return x[:, :n_units] * tf.nn.sigmoid(x[:, n_units:])\n",
    "class FeatureBlock(tf.keras.Model):\n",
    "    \"\"\"\n",
    "    Implementation of a FL->BN->GLU block\n",
    "    \"\"\"\n",
    "    def __init__(\n",
    "        self,\n",
    "        feature_dim,\n",
    "        apply_glu = True,\n",
    "        bn_momentum = 0.9,\n",
    "        fc = None,\n",
    "        epsilon = 1e-5,\n",
    "    ):\n",
    "        super(FeatureBlock, self).__init__()\n",
    "        self.apply_gpu = apply_glu\n",
    "        self.feature_dim = feature_dim\n",
    "        units = feature_dim * 2 if apply_glu else feature_dim # desired dimension gets multiplied by 2\n",
    "                                                              # because GLU activation halves it\n",
    "\n",
    "        self.fc = tf.keras.layers.Dense(units, use_bias=False) if fc is None else fc # shared layers can get re-used\n",
    "        self.bn = tf.keras.layers.BatchNormalization(momentum=bn_momentum, epsilon=epsilon)\n",
    "\n",
    "    def call(self, x, training = None):\n",
    "        x = self.fc(x) # inputs passes through the FC layer\n",
    "        x = self.bn(x, training=training) # FC layer output gets passed through the BN\n",
    "        if self.apply_gpu: \n",
    "            return glu(x, self.feature_dim) # GLU activation applied to BN output\n",
    "        return x\n",
    "\n",
    "    \n",
    "class FeatureTransformer(tf.keras.Model):\n",
    "    def __init__(\n",
    "        self,\n",
    "        feature_dim,\n",
    "        fcs = [],\n",
    "        n_total = 4,\n",
    "        n_shared = 2,\n",
    "        bn_momentum = 0.9,\n",
    "    ):\n",
    "        super(FeatureTransformer, self).__init__()\n",
    "        self.n_total, self.n_shared = n_total, n_shared\n",
    "\n",
    "        kwrgs = {\n",
    "            \"feature_dim\": feature_dim,\n",
    "            \"bn_momentum\": bn_momentum,\n",
    "        }\n",
    "\n",
    "        # build blocks\n",
    "        self.blocks = []\n",
    "        for n in range(n_total):\n",
    "            # some shared blocks\n",
    "            if fcs and n < len(fcs):\n",
    "                self.blocks.append(FeatureBlock(**kwrgs, fc=fcs[n])) # Building shared blocks by providing FC layers\n",
    "            # build new blocks\n",
    "            else:\n",
    "                self.blocks.append(FeatureBlock(**kwrgs)) # Step dependent blocks without the shared FC layers\n",
    "\n",
    "    def call(self, x, training = None):\n",
    "        # input passes through the first block\n",
    "        x = self.blocks[0](x, training=training) \n",
    "        # for the remaining blocks\n",
    "        for n in range(1, self.n_total):\n",
    "            # output from previous block gets multiplied by sqrt(0.5) and output of this block gets added\n",
    "            x = x * tf.sqrt(0.5) + self.blocks[n](x, training=training) \n",
    "        return x\n",
    "\n",
    "    @property\n",
    "    def shared_fcs(self):\n",
    "        return [self.blocks[i].fc for i in range(self.n_shared)]\n",
    "    \n",
    "class AttentiveTransformer(tf.keras.Model):\n",
    "    def __init__(self, feature_dim):\n",
    "        super(AttentiveTransformer, self).__init__()\n",
    "        self.block = FeatureBlock(\n",
    "            feature_dim,\n",
    "            apply_glu=False,\n",
    "        )\n",
    "\n",
    "    def call(self, x, prior_scales, training=None):\n",
    "        x = self.block(x, training=training)\n",
    "        return sparsemax(x * prior_scales)\n",
    "    \n",
    "class TabNet(tf.keras.Model):\n",
    "    def __init__(\n",
    "        self,\n",
    "        num_features,\n",
    "        feature_dim,\n",
    "        output_dim,\n",
    "        n_step = 2,\n",
    "        n_total = 4,\n",
    "        n_shared = 2,\n",
    "        relaxation_factor = 1.5,\n",
    "        bn_epsilon = 1e-5,\n",
    "        bn_momentum = 0.7,\n",
    "        sparsity_coefficient = 1e-5\n",
    "    ):\n",
    "        super(TabNet, self).__init__()\n",
    "        self.output_dim, self.num_features = output_dim, num_features\n",
    "        self.n_step, self.relaxation_factor = n_step, relaxation_factor\n",
    "        self.sparsity_coefficient = sparsity_coefficient\n",
    "\n",
    "        self.bn = tf.keras.layers.BatchNormalization(\n",
    "            momentum=bn_momentum, epsilon=bn_epsilon\n",
    "        )\n",
    "\n",
    "        kargs = {\n",
    "            \"feature_dim\": feature_dim + output_dim,\n",
    "            \"n_total\": n_total,\n",
    "            \"n_shared\": n_shared,\n",
    "            \"bn_momentum\": bn_momentum\n",
    "        }\n",
    "\n",
    "        # first feature transformer block is built first to get the shared blocks\n",
    "        self.feature_transforms = [FeatureTransformer(**kargs)]\n",
    "        self.attentive_transforms = []\n",
    "            \n",
    "        # each step consists out of FT and AT\n",
    "        for i in range(n_step):\n",
    "            self.feature_transforms.append(\n",
    "                FeatureTransformer(**kargs, fcs=self.feature_transforms[0].shared_fcs)\n",
    "            )\n",
    "            self.attentive_transforms.append(\n",
    "                AttentiveTransformer(num_features)\n",
    "            )\n",
    "        \n",
    "        # Final output layer\n",
    "        self.head = tf.keras.layers.Dense(1, activation=\"sigmoid\", use_bias=False)\n",
    "\n",
    "    def call(self, features, training = None):\n",
    "\n",
    "        bs = tf.shape(features)[0] # get batch shape\n",
    "        out_agg = tf.zeros((bs, self.output_dim)) # empty array with outputs to fill\n",
    "        prior_scales = tf.ones((bs, self.num_features)) # prior scales initialised as 1s\n",
    "        importance = tf.zeros([bs, self.num_features]) # importances\n",
    "        masks = []\n",
    "\n",
    "        features = self.bn(features, training=training) # Batch Normalisation\n",
    "        masked_features = features\n",
    "\n",
    "        total_entropy = 0.0\n",
    "\n",
    "        for step_i in range(self.n_step + 1):\n",
    "            # (masked) features go through the FT\n",
    "            x = self.feature_transforms[step_i](\n",
    "                masked_features, training=training\n",
    "            )\n",
    "            \n",
    "            # first FT is not used to generate output\n",
    "            if step_i > 0:\n",
    "                # first half of the FT output goes towards the decision \n",
    "                out = tf.keras.activations.relu(x[:, : self.output_dim])\n",
    "                out_agg += out\n",
    "                scale_agg = tf.reduce_sum(out, axis=1, keepdims=True) / (self.n_step - 1)\n",
    "                importance += mask_values * scale_agg\n",
    "                \n",
    "\n",
    "            # no need to build the features mask for the last step\n",
    "            if step_i < self.n_step:\n",
    "                # second half of the FT output goes as input to the AT\n",
    "                x_for_mask = x[:, self.output_dim :]\n",
    "                \n",
    "                # apply AT with prior scales\n",
    "                mask_values = self.attentive_transforms[step_i](\n",
    "                    x_for_mask, prior_scales, training=training\n",
    "                )\n",
    "\n",
    "                # recalculate the prior scales\n",
    "                prior_scales *= self.relaxation_factor - mask_values\n",
    "                \n",
    "                # multiply the second half of the FT output by the attention mask to enforce sparsity\n",
    "                masked_features = tf.multiply(mask_values, features)\n",
    "\n",
    "                # entropy is used to penalize the amount of sparsity in feature selection\n",
    "                total_entropy += tf.reduce_mean(\n",
    "                    tf.reduce_sum(\n",
    "                        tf.multiply(-mask_values, tf.math.log(mask_values + 1e-15)),\n",
    "                        axis=1,\n",
    "                    )\n",
    "                )\n",
    "                \n",
    "                # append mask values for later explainability\n",
    "                masks.append(tf.expand_dims(tf.expand_dims(mask_values, 0), 3))\n",
    "                \n",
    "        #Per step selection masks        \n",
    "        self.selection_masks = masks\n",
    "        \n",
    "        # Final output\n",
    "        final_output = self.head(out)\n",
    "        \n",
    "        # Add sparsity loss\n",
    "        loss = total_entropy / (self.n_step-1)\n",
    "        self.add_loss(self.sparsity_coefficient * loss)\n",
    "        \n",
    "        return final_output, importance"
   ]
  },
  {
   "cell_type": "code",
   "execution_count": 4,
   "id": "e0f3871b",
   "metadata": {},
   "outputs": [],
   "source": [
    "class MultiValidationCallback(tf.keras.callbacks.Callback):\n",
    "    def __init__(self, val_datasets):\n",
    "        super().__init__()\n",
    "        self.val_datasets = val_datasets\n",
    "    def on_epoch_end(self, epoch, logs=None):\n",
    "        metrics = [[] for _ in range(3)]\n",
    "        sum_auc = 0\n",
    "        for i, val_dataset in enumerate(self.val_datasets):\n",
    "            val_preds, val_imps = self.model.predict(val_dataset)\n",
    "            # val_loss, val_auc, val_ap = self.model.evaluate(val_dataset,verbose=0)\n",
    "            # logs[f'val{i+2}_loss'] = val_loss\n",
    "            logs[f'val{i+2}_auc'] = np.round(roc_auc_score(y[i+1], val_preds), 4)\n",
    "            logs[f'val{i+2}_ap'] = np.round(average_precision_score(y[i+1], val_preds), 4)\n",
    "            sum_auc = sum_auc + logs[f'val{i+2}_auc']\n",
    "        logs[f'sum_auc'] = sum_auc\n",
    "        \n",
    "        formatted_items = [f'{key}: {value:.3f}' for key, value in logs.items() if key == 'loss' or key.endswith('auc')]\n",
    "        print(f\"Epoch{epoch}\\t\", end='')\n",
    "        print(formatted_items)"
   ]
  },
  {
   "cell_type": "code",
   "execution_count": 5,
   "id": "e32f024f",
   "metadata": {},
   "outputs": [],
   "source": [
    "class EarlyStopByAUCSUM(tf.keras.callbacks.Callback):\n",
    "    def __init__(self, dataset, mode = 'max', patience = 0,verbose = 1):\n",
    "        super(tf.keras.callbacks.Callback, self).__init__()\n",
    "        self.val_datasets = dataset\n",
    "        self.mode = mode\n",
    "        self.patience = patience\n",
    "        self.verbose = verbose\n",
    "        self.best_weights = None\n",
    "        self.hist = []\n",
    "\n",
    "    def on_epoch_end(self, epoch, logs={}):\n",
    "        sum_auc = 0\n",
    "        for i, val_dataset in enumerate(self.val_datasets):\n",
    "            val_preds, val_imps = self.model.predict(val_dataset)\n",
    "            logs[f'val{i+2}_auc'] = np.round(roc_auc_score(y[i+1], val_preds), 4)\n",
    "            logs[f'val{i+2}_ap'] = np.round(average_precision_score(y[i+1], val_preds), 4)\n",
    "            sum_auc = sum_auc + logs[f'val{i+2}_auc']\n",
    "        logs[f'sum_auc'] = sum_auc\n",
    "        score = sum_auc\n",
    "        \n",
    "        formatted_items = [f'{key}: {value:.3f}' for key, value in logs.items() if key == 'loss' or key.endswith('auc')]\n",
    "        print(f\"Epoch{epoch}\\t\", end='')\n",
    "        print(formatted_items)\n",
    "\n",
    "        self.hist.append(score)\n",
    "\n",
    "        if self.mode == 'max':\n",
    "            if max(self.hist) > score:\n",
    "                if len(self.hist) <= self.patience:\n",
    "                    pass\n",
    "                else:\n",
    "                    if self.verbose >0:\n",
    "                        print(\"Epoch %d: early stopping Threshold\" % epoch)\n",
    "                    self.model.stop_training = True\n",
    "                    self.model.set_weights(self.best_weights)\n",
    "            else:\n",
    "                self.hist = self.hist[-1:]\n",
    "                self.best_weights = self.model.get_weights()\n",
    "\n",
    "        else:\n",
    "            if min(self.hist) < score:\n",
    "                if len(self.hist) <= self.patience:\n",
    "                    pass\n",
    "                else:\n",
    "                    if self.verbose >0:\n",
    "                        print(\"Epoch %d: early stopping Threshold\" % epoch)\n",
    "                    self.model.stop_training = True\n",
    "                    self.model.set_weights(self.best_weights)\n",
    "            else:\n",
    "                self.hist = self.hist[-1:]\n",
    "                self.best_weights = self.model.get_weights()\n",
    "            \n",
    "        if len(self.hist) > self.patience:\n",
    "            self.hist.pop(0)\n",
    "\n"
   ]
  },
  {
   "cell_type": "code",
   "execution_count": null,
   "id": "ab7ab2fc",
   "metadata": {},
   "outputs": [],
   "source": [
    "# Params after 1 hour of tuning\n",
    "tabnet = TabNet(num_features = flat_x[0].shape[1],\n",
    "                output_dim = 128,\n",
    "                feature_dim = 128,\n",
    "                n_step = 2, \n",
    "                relaxation_factor= 2.2,\n",
    "                sparsity_coefficient=2.37e-07,\n",
    "                n_shared = 2,\n",
    "                bn_momentum = 0.9245)\n",
    "\n",
    "\n",
    "# Early stopping based on validation loss    \n",
    "cbs = [\n",
    "    # tf.keras.callbacks.EarlyStopping(monitor=\"val_loss\", patience=30, restore_best_weights=False)\n",
    "        EarlyStopByAUCSUM(dataset= [datasets[1],datasets[2], datasets[3]], patience=5)\n",
    "        # ,  MultiValidationCallback([datasets[1],datasets[2], datasets[3]])\n",
    "        ]\n",
    "\n",
    "# Optimiser \n",
    "optimizer = tf.keras.optimizers.Adam(learning_rate=0.001, clipnorm=10)\n",
    "\n",
    "# Second loss in None because we also output the importances\n",
    "loss = [tf.keras.losses.BinaryCrossentropy()]\n",
    "\n",
    "# Compile the model\n",
    "tabnet.compile(optimizer,\n",
    "               loss=loss\n",
    "            #    metrics = metrics.AUC(name='auc', curve='ROC')\n",
    "            #    ,metrics=[metrics.AUC(name='auc', curve='ROC'), metrics.AUC(name='ap', curve='PR')]\n",
    "               )\n",
    "\n",
    "# Train the model\n",
    "tabnet.fit(datasets[2], \n",
    "           epochs=10, \n",
    "           validation_data=datasets[3],\n",
    "           callbacks=cbs,\n",
    "           verbose=0,\n",
    "          class_weight={\n",
    "              0:1,\n",
    "              1: 10\n",
    "          })"
   ]
  },
  {
   "cell_type": "code",
   "execution_count": null,
   "id": "982242eb",
   "metadata": {},
   "outputs": [],
   "source": [
    "\n",
    "\n",
    "from sklearn.metrics import roc_auc_score, average_precision_score\n",
    "\n",
    "val_preds, val_imps = tabnet.predict(datasets[1])\n",
    "\n",
    "\n",
    "print('Test ROC AUC', np.round(roc_auc_score(y[1], val_preds), 4))\n",
    "print('Test PR AUC', np.round(average_precision_score(y[1], val_preds), 4))"
   ]
  },
  {
   "cell_type": "code",
   "execution_count": 7,
   "id": "37110e79",
   "metadata": {},
   "outputs": [
    {
     "name": "stderr",
     "output_type": "stream",
     "text": [
      "[I 2023-07-14 10:15:34,536] A new study created in memory with name: TabNet optimization\n"
     ]
    },
    {
     "data": {
      "application/json": {
       "ascii": false,
       "bar_format": null,
       "colour": null,
       "elapsed": 0.003567934036254883,
       "initial": 0,
       "n": 0,
       "ncols": null,
       "nrows": 30,
       "postfix": null,
       "prefix": "",
       "rate": null,
       "total": 100,
       "unit": "it",
       "unit_divisor": 1000,
       "unit_scale": false
      },
      "application/vnd.jupyter.widget-view+json": {
       "model_id": "a1bc7a0b06f142b09e37f9628f1382fc",
       "version_major": 2,
       "version_minor": 0
      },
      "text/plain": [
       "  0%|          | 0/100 [00:00<?, ?it/s]"
      ]
     },
     "metadata": {},
     "output_type": "display_data"
    },
    {
     "name": "stdout",
     "output_type": "stream",
     "text": [
      "Epoch0\t['loss: 0.178', 'val2_auc: 0.646', 'val3_auc: 0.624', 'val4_auc: 0.639', 'sum_auc: 1.909']\n",
      "Epoch1\t['loss: 0.166', 'val2_auc: 0.692', 'val3_auc: 0.657', 'val4_auc: 0.695', 'sum_auc: 2.044']\n",
      "Epoch2\t['loss: 0.163', 'val2_auc: 0.707', 'val3_auc: 0.652', 'val4_auc: 0.653', 'sum_auc: 2.012']\n",
      "Epoch3\t['loss: 0.159', 'val2_auc: 0.731', 'val3_auc: 0.672', 'val4_auc: 0.635', 'sum_auc: 2.038']\n",
      "Epoch4\t['loss: 0.157', 'val2_auc: 0.732', 'val3_auc: 0.679', 'val4_auc: 0.705', 'sum_auc: 2.116']\n",
      "Epoch5\t['loss: 0.156', 'val2_auc: 0.737', 'val3_auc: 0.661', 'val4_auc: 0.663', 'sum_auc: 2.062']\n",
      "Epoch6\t['loss: 0.154', 'val2_auc: 0.749', 'val3_auc: 0.660', 'val4_auc: 0.670', 'sum_auc: 2.079']\n",
      "Epoch7\t['loss: 0.153', 'val2_auc: 0.738', 'val3_auc: 0.674', 'val4_auc: 0.665', 'sum_auc: 2.076']\n",
      "Epoch8\t['loss: 0.153', 'val2_auc: 0.742', 'val3_auc: 0.672', 'val4_auc: 0.717', 'sum_auc: 2.132']\n",
      "Epoch9\t['loss: 0.151', 'val2_auc: 0.753', 'val3_auc: 0.678', 'val4_auc: 0.685', 'sum_auc: 2.116']\n",
      "[I 2023-07-14 10:25:14,845] Trial 0 finished with value: 2.1157 and parameters: {'feature_dim': 128, 'n_step': 7, 'n_shared': 1, 'relaxation_factor': 1.6, 'sparsity_coefficient': 0.0020194847589782936, 'bn_momentum': 0.9520714004434059}. Best is trial 0 with value: 2.1157.\n",
      "Epoch0\t['loss: 0.219', 'val2_auc: 0.713', 'val3_auc: 0.679', 'val4_auc: 0.704', 'sum_auc: 2.097']\n",
      "Epoch1\t['loss: 0.156', 'val2_auc: 0.761', 'val3_auc: 0.720', 'val4_auc: 0.736', 'sum_auc: 2.217']\n",
      "Epoch2\t['loss: 0.145', 'val2_auc: 0.776', 'val3_auc: 0.696', 'val4_auc: 0.628', 'sum_auc: 2.100']\n",
      "Epoch3\t['loss: 0.141', 'val2_auc: 0.778', 'val3_auc: 0.683', 'val4_auc: 0.628', 'sum_auc: 2.089']\n",
      "Epoch4\t['loss: 0.140', 'val2_auc: 0.789', 'val3_auc: 0.714', 'val4_auc: 0.583', 'sum_auc: 2.086']\n",
      "Epoch5\t['loss: 0.138', 'val2_auc: 0.787', 'val3_auc: 0.702', 'val4_auc: 0.593', 'sum_auc: 2.082']\n",
      "Epoch6\t['loss: 0.138', 'val2_auc: 0.793', 'val3_auc: 0.720', 'val4_auc: 0.645', 'sum_auc: 2.158']\n",
      "Epoch 6: early stopping Threshold\n",
      "[I 2023-07-14 10:27:38,006] Trial 1 finished with value: 2.2173 and parameters: {'feature_dim': 16, 'n_step': 2, 'n_shared': 3, 'relaxation_factor': 1.4, 'sparsity_coefficient': 5.904039938701995e-06, 'bn_momentum': 0.9542147218085345}. Best is trial 1 with value: 2.2173.\n",
      "Epoch0\t['loss: 0.185', 'val2_auc: 0.719', 'val3_auc: 0.639', 'val4_auc: 0.841', 'sum_auc: 2.199']\n",
      "Epoch1\t['loss: 0.165', 'val2_auc: 0.720', 'val3_auc: 0.687', 'val4_auc: 0.723', 'sum_auc: 2.130']\n",
      "Epoch2\t['loss: 0.159', 'val2_auc: 0.715', 'val3_auc: 0.693', 'val4_auc: 0.720', 'sum_auc: 2.128']\n",
      "Epoch3\t['loss: 0.156', 'val2_auc: 0.723', 'val3_auc: 0.663', 'val4_auc: 0.676', 'sum_auc: 2.063']\n",
      "Epoch4\t['loss: 0.153', 'val2_auc: 0.728', 'val3_auc: 0.688', 'val4_auc: 0.635', 'sum_auc: 2.051']\n",
      "Epoch5\t['loss: 0.152', 'val2_auc: 0.743', 'val3_auc: 0.675', 'val4_auc: 0.683', 'sum_auc: 2.101']\n",
      "Epoch 5: early stopping Threshold\n",
      "[I 2023-07-14 10:31:22,161] Trial 2 finished with value: 2.1988 and parameters: {'feature_dim': 128, 'n_step': 4, 'n_shared': 3, 'relaxation_factor': 1.4, 'sparsity_coefficient': 1.2329846259398628e-05, 'bn_momentum': 0.9976585295726172}. Best is trial 1 with value: 2.2173.\n",
      "Epoch0\t['loss: 0.178', 'val2_auc: 0.663', 'val3_auc: 0.633', 'val4_auc: 0.654', 'sum_auc: 1.951']\n",
      "Epoch1\t['loss: 0.163', 'val2_auc: 0.708', 'val3_auc: 0.661', 'val4_auc: 0.685', 'sum_auc: 2.054']\n",
      "Epoch2\t['loss: 0.158', 'val2_auc: 0.729', 'val3_auc: 0.670', 'val4_auc: 0.746', 'sum_auc: 2.145']\n",
      "Epoch3\t['loss: 0.155', 'val2_auc: 0.728', 'val3_auc: 0.657', 'val4_auc: 0.748', 'sum_auc: 2.133']\n",
      "Epoch4\t['loss: 0.154', 'val2_auc: 0.741', 'val3_auc: 0.674', 'val4_auc: 0.766', 'sum_auc: 2.181']\n",
      "Epoch5\t['loss: 0.153', 'val2_auc: 0.731', 'val3_auc: 0.647', 'val4_auc: 0.716', 'sum_auc: 2.094']\n",
      "Epoch6\t['loss: 0.152', 'val2_auc: 0.741', 'val3_auc: 0.662', 'val4_auc: 0.703', 'sum_auc: 2.106']\n",
      "Epoch7\t['loss: 0.151', 'val2_auc: 0.740', 'val3_auc: 0.664', 'val4_auc: 0.658', 'sum_auc: 2.062']\n",
      "Epoch8\t['loss: 0.150', 'val2_auc: 0.746', 'val3_auc: 0.667', 'val4_auc: 0.682', 'sum_auc: 2.095']\n",
      "Epoch9\t['loss: 0.150', 'val2_auc: 0.747', 'val3_auc: 0.666', 'val4_auc: 0.692', 'sum_auc: 2.105']\n",
      "Epoch 9: early stopping Threshold\n",
      "[I 2023-07-14 10:40:50,101] Trial 3 finished with value: 2.1813 and parameters: {'feature_dim': 64, 'n_step': 7, 'n_shared': 1, 'relaxation_factor': 1.3, 'sparsity_coefficient': 4.37369060770961e-06, 'bn_momentum': 0.9635614958395747}. Best is trial 1 with value: 2.2173.\n",
      "Epoch0\t['loss: 0.191', 'val2_auc: 0.605', 'val3_auc: 0.585', 'val4_auc: 0.596', 'sum_auc: 1.786']\n",
      "Epoch1\t['loss: 0.166', 'val2_auc: 0.678', 'val3_auc: 0.663', 'val4_auc: 0.646', 'sum_auc: 1.987']\n",
      "Epoch2\t['loss: 0.161', 'val2_auc: 0.710', 'val3_auc: 0.639', 'val4_auc: 0.654', 'sum_auc: 2.004']\n",
      "Epoch3\t['loss: 0.159', 'val2_auc: 0.712', 'val3_auc: 0.656', 'val4_auc: 0.641', 'sum_auc: 2.009']\n",
      "Epoch4\t['loss: 0.157', 'val2_auc: 0.724', 'val3_auc: 0.646', 'val4_auc: 0.631', 'sum_auc: 2.001']\n",
      "Epoch5\t['loss: 0.155', 'val2_auc: 0.735', 'val3_auc: 0.657', 'val4_auc: 0.709', 'sum_auc: 2.100']\n",
      "Epoch6\t['loss: 0.154', 'val2_auc: 0.736', 'val3_auc: 0.688', 'val4_auc: 0.721', 'sum_auc: 2.144']\n",
      "Epoch7\t['loss: 0.153', 'val2_auc: 0.739', 'val3_auc: 0.699', 'val4_auc: 0.673', 'sum_auc: 2.110']\n",
      "Epoch8\t['loss: 0.153', 'val2_auc: 0.731', 'val3_auc: 0.676', 'val4_auc: 0.736', 'sum_auc: 2.143']\n",
      "Epoch9\t['loss: 0.153', 'val2_auc: 0.729', 'val3_auc: 0.671', 'val4_auc: 0.762', 'sum_auc: 2.162']\n",
      "[I 2023-07-14 10:46:44,044] Trial 4 finished with value: 2.1619 and parameters: {'feature_dim': 32, 'n_step': 4, 'n_shared': 1, 'relaxation_factor': 2.7, 'sparsity_coefficient': 4.2045769477471956e-06, 'bn_momentum': 0.9744805336008834}. Best is trial 1 with value: 2.2173.\n",
      "Epoch0\t['loss: 0.188', 'val2_auc: 0.554', 'val3_auc: 0.557', 'val4_auc: 0.574', 'sum_auc: 1.684']\n",
      "Epoch1\t['loss: 0.170', 'val2_auc: 0.593', 'val3_auc: 0.588', 'val4_auc: 0.610', 'sum_auc: 1.791']\n",
      "Epoch2\t['loss: 0.170', 'val2_auc: 0.593', 'val3_auc: 0.565', 'val4_auc: 0.533', 'sum_auc: 1.691']\n",
      "Epoch3\t['loss: 0.169', 'val2_auc: 0.562', 'val3_auc: 0.576', 'val4_auc: 0.600', 'sum_auc: 1.739']\n",
      "Epoch4\t['loss: 0.170', 'val2_auc: 0.571', 'val3_auc: 0.588', 'val4_auc: 0.551', 'sum_auc: 1.710']\n",
      "Epoch5\t['loss: 0.169', 'val2_auc: 0.562', 'val3_auc: 0.564', 'val4_auc: 0.599', 'sum_auc: 1.726']\n",
      "Epoch6\t['loss: 0.169', 'val2_auc: 0.578', 'val3_auc: 0.559', 'val4_auc: 0.575', 'sum_auc: 1.711']\n",
      "Epoch 6: early stopping Threshold\n",
      "[I 2023-07-14 10:54:23,938] Trial 5 finished with value: 1.7912 and parameters: {'feature_dim': 64, 'n_step': 8, 'n_shared': 1, 'relaxation_factor': 2.9000000000000004, 'sparsity_coefficient': 0.0014113645392198222, 'bn_momentum': 0.9005550334444576}. Best is trial 1 with value: 2.2173.\n",
      "Epoch0\t['loss: 0.184', 'val2_auc: 0.654', 'val3_auc: 0.628', 'val4_auc: 0.680', 'sum_auc: 1.962']\n",
      "Epoch1\t['loss: 0.165', 'val2_auc: 0.712', 'val3_auc: 0.666', 'val4_auc: 0.670', 'sum_auc: 2.048']\n",
      "Epoch2\t['loss: 0.160', 'val2_auc: 0.727', 'val3_auc: 0.676', 'val4_auc: 0.655', 'sum_auc: 2.058']\n",
      "Epoch3\t['loss: 0.156', 'val2_auc: 0.730', 'val3_auc: 0.668', 'val4_auc: 0.582', 'sum_auc: 1.981']\n",
      "Epoch4\t['loss: 0.155', 'val2_auc: 0.738', 'val3_auc: 0.683', 'val4_auc: 0.679', 'sum_auc: 2.101']\n",
      "Epoch5\t['loss: 0.153', 'val2_auc: 0.753', 'val3_auc: 0.681', 'val4_auc: 0.751', 'sum_auc: 2.185']\n",
      "Epoch6\t['loss: 0.151', 'val2_auc: 0.749', 'val3_auc: 0.664', 'val4_auc: 0.633', 'sum_auc: 2.046']\n",
      "Epoch7\t['loss: 0.149', 'val2_auc: 0.739', 'val3_auc: 0.673', 'val4_auc: 0.631', 'sum_auc: 2.042']\n",
      "Epoch8\t['loss: 0.149', 'val2_auc: 0.755', 'val3_auc: 0.670', 'val4_auc: 0.680', 'sum_auc: 2.105']\n",
      "Epoch9\t['loss: 0.148', 'val2_auc: 0.751', 'val3_auc: 0.668', 'val4_auc: 0.602', 'sum_auc: 2.022']\n",
      "[I 2023-07-14 11:04:58,597] Trial 6 finished with value: 2.0218 and parameters: {'feature_dim': 256, 'n_step': 6, 'n_shared': 4, 'relaxation_factor': 1.2, 'sparsity_coefficient': 1.774451271100977e-06, 'bn_momentum': 0.9387788237552044}. Best is trial 1 with value: 2.2173.\n",
      "Epoch0\t['loss: 0.194', 'val2_auc: 0.596', 'val3_auc: 0.595', 'val4_auc: 0.611', 'sum_auc: 1.801']\n",
      "Epoch1\t['loss: 0.168', 'val2_auc: 0.621', 'val3_auc: 0.616', 'val4_auc: 0.646', 'sum_auc: 1.883']\n",
      "Epoch2\t['loss: 0.164', 'val2_auc: 0.697', 'val3_auc: 0.659', 'val4_auc: 0.654', 'sum_auc: 2.011']\n",
      "Epoch3\t['loss: 0.160', 'val2_auc: 0.690', 'val3_auc: 0.660', 'val4_auc: 0.664', 'sum_auc: 2.014']\n",
      "Epoch4\t['loss: 0.158', 'val2_auc: 0.715', 'val3_auc: 0.669', 'val4_auc: 0.688', 'sum_auc: 2.071']\n",
      "Epoch5\t['loss: 0.156', 'val2_auc: 0.726', 'val3_auc: 0.653', 'val4_auc: 0.685', 'sum_auc: 2.063']\n",
      "Epoch6\t['loss: 0.154', 'val2_auc: 0.735', 'val3_auc: 0.680', 'val4_auc: 0.700', 'sum_auc: 2.114']\n",
      "Epoch7\t['loss: 0.154', 'val2_auc: 0.747', 'val3_auc: 0.671', 'val4_auc: 0.723', 'sum_auc: 2.141']\n",
      "Epoch8\t['loss: 0.152', 'val2_auc: 0.750', 'val3_auc: 0.672', 'val4_auc: 0.754', 'sum_auc: 2.176']\n",
      "Epoch9\t['loss: 0.151', 'val2_auc: 0.740', 'val3_auc: 0.671', 'val4_auc: 0.679', 'sum_auc: 2.091']\n",
      "[I 2023-07-14 11:15:24,279] Trial 7 finished with value: 2.0906 and parameters: {'feature_dim': 64, 'n_step': 8, 'n_shared': 1, 'relaxation_factor': 1.7000000000000002, 'sparsity_coefficient': 4.889798676382166e-08, 'bn_momentum': 0.9886773581865012}. Best is trial 1 with value: 2.2173.\n",
      "Epoch0\t['loss: 0.180', 'val2_auc: 0.661', 'val3_auc: 0.645', 'val4_auc: 0.643', 'sum_auc: 1.950']\n",
      "Epoch1\t['loss: 0.164', 'val2_auc: 0.713', 'val3_auc: 0.676', 'val4_auc: 0.681', 'sum_auc: 2.069']\n",
      "Epoch2\t['loss: 0.159', 'val2_auc: 0.725', 'val3_auc: 0.688', 'val4_auc: 0.719', 'sum_auc: 2.132']\n",
      "Epoch3\t['loss: 0.155', 'val2_auc: 0.742', 'val3_auc: 0.669', 'val4_auc: 0.739', 'sum_auc: 2.151']\n",
      "Epoch4\t['loss: 0.153', 'val2_auc: 0.738', 'val3_auc: 0.674', 'val4_auc: 0.677', 'sum_auc: 2.089']\n",
      "Epoch5\t['loss: 0.152', 'val2_auc: 0.743', 'val3_auc: 0.681', 'val4_auc: 0.692', 'sum_auc: 2.116']\n",
      "Epoch6\t['loss: 0.152', 'val2_auc: 0.743', 'val3_auc: 0.669', 'val4_auc: 0.747', 'sum_auc: 2.160']\n",
      "Epoch7\t['loss: 0.152', 'val2_auc: 0.741', 'val3_auc: 0.675', 'val4_auc: 0.694', 'sum_auc: 2.111']\n",
      "Epoch8\t['loss: 0.151', 'val2_auc: 0.742', 'val3_auc: 0.678', 'val4_auc: 0.607', 'sum_auc: 2.028']\n",
      "Epoch9\t['loss: 0.150', 'val2_auc: 0.745', 'val3_auc: 0.673', 'val4_auc: 0.633', 'sum_auc: 2.051']\n",
      "[I 2023-07-14 11:30:36,749] Trial 8 finished with value: 2.0514 and parameters: {'feature_dim': 256, 'n_step': 9, 'n_shared': 2, 'relaxation_factor': 1.2, 'sparsity_coefficient': 0.0003594992955419046, 'bn_momentum': 0.9557556295156283}. Best is trial 1 with value: 2.2173.\n",
      "Epoch0\t['loss: 0.269', 'val2_auc: 0.541', 'val3_auc: 0.528', 'val4_auc: 0.553', 'sum_auc: 1.621']\n",
      "Epoch1\t['loss: 0.173', 'val2_auc: 0.552', 'val3_auc: 0.545', 'val4_auc: 0.539', 'sum_auc: 1.636']\n",
      "Epoch2\t['loss: 0.172', 'val2_auc: 0.591', 'val3_auc: 0.600', 'val4_auc: 0.561', 'sum_auc: 1.752']\n",
      "Epoch3\t['loss: 0.171', 'val2_auc: 0.610', 'val3_auc: 0.571', 'val4_auc: 0.582', 'sum_auc: 1.763']\n",
      "Epoch4\t['loss: 0.169', 'val2_auc: 0.630', 'val3_auc: 0.621', 'val4_auc: 0.636', 'sum_auc: 1.887']\n",
      "Epoch5\t['loss: 0.166', 'val2_auc: 0.681', 'val3_auc: 0.650', 'val4_auc: 0.666', 'sum_auc: 1.997']\n",
      "Epoch6\t['loss: 0.162', 'val2_auc: 0.706', 'val3_auc: 0.648', 'val4_auc: 0.653', 'sum_auc: 2.007']\n",
      "Epoch7\t['loss: 0.161', 'val2_auc: 0.718', 'val3_auc: 0.673', 'val4_auc: 0.687', 'sum_auc: 2.077']\n",
      "Epoch8\t['loss: 0.159', 'val2_auc: 0.718', 'val3_auc: 0.681', 'val4_auc: 0.702', 'sum_auc: 2.101']\n",
      "Epoch9\t['loss: 0.159', 'val2_auc: 0.714', 'val3_auc: 0.677', 'val4_auc: 0.709', 'sum_auc: 2.100']\n",
      "[I 2023-07-14 11:38:41,372] Trial 9 finished with value: 2.0996 and parameters: {'feature_dim': 16, 'n_step': 6, 'n_shared': 4, 'relaxation_factor': 2.0, 'sparsity_coefficient': 0.0018785579676899528, 'bn_momentum': 0.9282056496721794}. Best is trial 1 with value: 2.2173.\n",
      "Epoch0\t['loss: 0.263', 'val2_auc: 0.568', 'val3_auc: 0.600', 'val4_auc: 0.561', 'sum_auc: 1.729']\n",
      "Epoch1\t['loss: 0.193', 'val2_auc: 0.594', 'val3_auc: 0.609', 'val4_auc: 0.596', 'sum_auc: 1.799']\n",
      "Epoch2\t['loss: 0.176', 'val2_auc: 0.636', 'val3_auc: 0.664', 'val4_auc: 0.670', 'sum_auc: 1.970']\n",
      "Epoch3\t['loss: 0.169', 'val2_auc: 0.649', 'val3_auc: 0.656', 'val4_auc: 0.645', 'sum_auc: 1.950']\n",
      "Epoch4\t['loss: 0.166', 'val2_auc: 0.667', 'val3_auc: 0.645', 'val4_auc: 0.604', 'sum_auc: 1.917']\n",
      "Epoch5\t['loss: 0.164', 'val2_auc: 0.685', 'val3_auc: 0.654', 'val4_auc: 0.610', 'sum_auc: 1.949']\n",
      "Epoch6\t['loss: 0.163', 'val2_auc: 0.670', 'val3_auc: 0.629', 'val4_auc: 0.683', 'sum_auc: 1.983']\n",
      "Epoch7\t['loss: 0.163', 'val2_auc: 0.675', 'val3_auc: 0.654', 'val4_auc: 0.614', 'sum_auc: 1.943']\n",
      "Epoch8\t['loss: 0.161', 'val2_auc: 0.687', 'val3_auc: 0.664', 'val4_auc: 0.658', 'sum_auc: 2.009']\n",
      "Epoch9\t['loss: 0.158', 'val2_auc: 0.697', 'val3_auc: 0.657', 'val4_auc: 0.643', 'sum_auc: 1.997']\n",
      "[I 2023-07-14 11:41:59,017] Trial 10 finished with value: 1.9967 and parameters: {'feature_dim': 16, 'n_step': 2, 'n_shared': 3, 'relaxation_factor': 2.3, 'sparsity_coefficient': 0.030137822426069164, 'bn_momentum': 0.9748275727744757}. Best is trial 1 with value: 2.2173.\n",
      "Epoch0\t['loss: 0.170', 'val2_auc: 0.725', 'val3_auc: 0.619', 'val4_auc: 0.761', 'sum_auc: 2.105']\n",
      "Epoch1\t['loss: 0.149', 'val2_auc: 0.768', 'val3_auc: 0.717', 'val4_auc: 0.791', 'sum_auc: 2.276']\n",
      "Epoch2\t['loss: 0.143', 'val2_auc: 0.786', 'val3_auc: 0.727', 'val4_auc: 0.817', 'sum_auc: 2.330']\n",
      "Epoch3\t['loss: 0.139', 'val2_auc: 0.782', 'val3_auc: 0.735', 'val4_auc: 0.816', 'sum_auc: 2.333']\n",
      "Epoch4\t['loss: 0.137', 'val2_auc: 0.774', 'val3_auc: 0.725', 'val4_auc: 0.819', 'sum_auc: 2.318']\n",
      "Epoch5\t['loss: 0.136', 'val2_auc: 0.777', 'val3_auc: 0.727', 'val4_auc: 0.844', 'sum_auc: 2.348']\n",
      "Epoch6\t['loss: 0.134', 'val2_auc: 0.781', 'val3_auc: 0.731', 'val4_auc: 0.833', 'sum_auc: 2.345']\n",
      "Epoch7\t['loss: 0.134', 'val2_auc: 0.782', 'val3_auc: 0.711', 'val4_auc: 0.836', 'sum_auc: 2.329']\n",
      "Epoch8\t['loss: 0.132', 'val2_auc: 0.782', 'val3_auc: 0.735', 'val4_auc: 0.844', 'sum_auc: 2.361']\n",
      "Epoch9\t['loss: 0.131', 'val2_auc: 0.777', 'val3_auc: 0.705', 'val4_auc: 0.827', 'sum_auc: 2.309']\n",
      "[I 2023-07-14 11:45:26,280] Trial 11 finished with value: 2.309 and parameters: {'feature_dim': 128, 'n_step': 2, 'n_shared': 3, 'relaxation_factor': 1.0, 'sparsity_coefficient': 2.9183306658478137e-05, 'bn_momentum': 0.9998409451668533}. Best is trial 11 with value: 2.309.\n",
      "Epoch0\t['loss: 0.259', 'val2_auc: 0.635', 'val3_auc: 0.556', 'val4_auc: 0.717', 'sum_auc: 1.909']\n",
      "Epoch1\t['loss: 0.160', 'val2_auc: 0.717', 'val3_auc: 0.679', 'val4_auc: 0.799', 'sum_auc: 2.194']\n",
      "Epoch2\t['loss: 0.154', 'val2_auc: 0.752', 'val3_auc: 0.705', 'val4_auc: 0.763', 'sum_auc: 2.221']\n",
      "Epoch3\t['loss: 0.149', 'val2_auc: 0.766', 'val3_auc: 0.721', 'val4_auc: 0.791', 'sum_auc: 2.279']\n",
      "Epoch4\t['loss: 0.145', 'val2_auc: 0.771', 'val3_auc: 0.729', 'val4_auc: 0.755', 'sum_auc: 2.255']\n",
      "Epoch5\t['loss: 0.143', 'val2_auc: 0.778', 'val3_auc: 0.719', 'val4_auc: 0.726', 'sum_auc: 2.223']\n",
      "Epoch6\t['loss: 0.142', 'val2_auc: 0.780', 'val3_auc: 0.728', 'val4_auc: 0.698', 'sum_auc: 2.206']\n",
      "Epoch7\t['loss: 0.141', 'val2_auc: 0.780', 'val3_auc: 0.742', 'val4_auc: 0.701', 'sum_auc: 2.223']\n",
      "Epoch8\t['loss: 0.141', 'val2_auc: 0.781', 'val3_auc: 0.743', 'val4_auc: 0.714', 'sum_auc: 2.239']\n",
      "Epoch 8: early stopping Threshold\n",
      "[I 2023-07-14 11:48:28,266] Trial 12 finished with value: 2.279 and parameters: {'feature_dim': 8, 'n_step': 2, 'n_shared': 3, 'relaxation_factor': 1.0, 'sparsity_coefficient': 5.784176242558977e-05, 'bn_momentum': 0.9983799951856832}. Best is trial 11 with value: 2.309.\n",
      "Epoch0\t['loss: 0.213', 'val2_auc: 0.587', 'val3_auc: 0.623', 'val4_auc: 0.690', 'sum_auc: 1.900']\n",
      "Epoch1\t['loss: 0.167', 'val2_auc: 0.663', 'val3_auc: 0.629', 'val4_auc: 0.789', 'sum_auc: 2.082']\n",
      "Epoch2\t['loss: 0.162', 'val2_auc: 0.737', 'val3_auc: 0.685', 'val4_auc: 0.827', 'sum_auc: 2.248']\n",
      "Epoch3\t['loss: 0.155', 'val2_auc: 0.756', 'val3_auc: 0.697', 'val4_auc: 0.789', 'sum_auc: 2.242']\n",
      "Epoch4\t['loss: 0.150', 'val2_auc: 0.762', 'val3_auc: 0.707', 'val4_auc: 0.762', 'sum_auc: 2.230']\n",
      "Epoch5\t['loss: 0.147', 'val2_auc: 0.764', 'val3_auc: 0.699', 'val4_auc: 0.769', 'sum_auc: 2.232']\n",
      "Epoch6\t['loss: 0.146', 'val2_auc: 0.766', 'val3_auc: 0.686', 'val4_auc: 0.723', 'sum_auc: 2.175']\n",
      "Epoch7\t['loss: 0.144', 'val2_auc: 0.774', 'val3_auc: 0.688', 'val4_auc: 0.707', 'sum_auc: 2.170']\n",
      "Epoch 7: early stopping Threshold\n",
      "[I 2023-07-14 11:52:20,739] Trial 13 finished with value: 2.2484 and parameters: {'feature_dim': 8, 'n_step': 3, 'n_shared': 2, 'relaxation_factor': 1.0, 'sparsity_coefficient': 7.2052398817338e-05, 'bn_momentum': 0.9989749758972103}. Best is trial 11 with value: 2.309.\n",
      "Epoch0\t['loss: 0.253', 'val2_auc: 0.649', 'val3_auc: 0.652', 'val4_auc: 0.685', 'sum_auc: 1.985']\n",
      "Epoch1\t['loss: 0.164', 'val2_auc: 0.719', 'val3_auc: 0.679', 'val4_auc: 0.697', 'sum_auc: 2.095']\n",
      "Epoch2\t['loss: 0.157', 'val2_auc: 0.743', 'val3_auc: 0.670', 'val4_auc: 0.731', 'sum_auc: 2.144']\n",
      "Epoch3\t['loss: 0.153', 'val2_auc: 0.752', 'val3_auc: 0.682', 'val4_auc: 0.704', 'sum_auc: 2.138']\n",
      "Epoch4\t['loss: 0.151', 'val2_auc: 0.758', 'val3_auc: 0.678', 'val4_auc: 0.699', 'sum_auc: 2.135']\n",
      "Epoch5\t['loss: 0.149', 'val2_auc: 0.762', 'val3_auc: 0.687', 'val4_auc: 0.684', 'sum_auc: 2.133']\n",
      "Epoch6\t['loss: 0.147', 'val2_auc: 0.763', 'val3_auc: 0.698', 'val4_auc: 0.694', 'sum_auc: 2.155']\n",
      "Epoch7\t['loss: 0.146', 'val2_auc: 0.768', 'val3_auc: 0.692', 'val4_auc: 0.653', 'sum_auc: 2.114']\n",
      "Epoch8\t['loss: 0.145', 'val2_auc: 0.775', 'val3_auc: 0.694', 'val4_auc: 0.695', 'sum_auc: 2.163']\n",
      "Epoch9\t['loss: 0.144', 'val2_auc: 0.774', 'val3_auc: 0.684', 'val4_auc: 0.689', 'sum_auc: 2.147']\n",
      "[I 2023-07-14 11:58:23,964] Trial 14 finished with value: 2.1474 and parameters: {'feature_dim': 8, 'n_step': 4, 'n_shared': 3, 'relaxation_factor': 1.0, 'sparsity_coefficient': 9.079916451453343e-05, 'bn_momentum': 0.984941258006484}. Best is trial 11 with value: 2.309.\n",
      "Epoch0\t['loss: 0.223', 'val2_auc: 0.689', 'val3_auc: 0.663', 'val4_auc: 0.710', 'sum_auc: 2.062']\n",
      "Epoch1\t['loss: 0.159', 'val2_auc: 0.717', 'val3_auc: 0.675', 'val4_auc: 0.717', 'sum_auc: 2.109']\n",
      "Epoch2\t['loss: 0.156', 'val2_auc: 0.733', 'val3_auc: 0.680', 'val4_auc: 0.705', 'sum_auc: 2.118']\n",
      "Epoch3\t['loss: 0.154', 'val2_auc: 0.736', 'val3_auc: 0.660', 'val4_auc: 0.706', 'sum_auc: 2.101']\n",
      "Epoch4\t['loss: 0.154', 'val2_auc: 0.747', 'val3_auc: 0.653', 'val4_auc: 0.677', 'sum_auc: 2.077']\n",
      "Epoch5\t['loss: 0.150', 'val2_auc: 0.769', 'val3_auc: 0.682', 'val4_auc: 0.606', 'sum_auc: 2.057']\n",
      "Epoch6\t['loss: 0.146', 'val2_auc: 0.776', 'val3_auc: 0.707', 'val4_auc: 0.666', 'sum_auc: 2.150']\n",
      "Epoch7\t['loss: 0.145', 'val2_auc: 0.783', 'val3_auc: 0.691', 'val4_auc: 0.702', 'sum_auc: 2.175']\n",
      "Epoch8\t['loss: 0.144', 'val2_auc: 0.786', 'val3_auc: 0.704', 'val4_auc: 0.573', 'sum_auc: 2.063']\n",
      "Epoch9\t['loss: 0.144', 'val2_auc: 0.778', 'val3_auc: 0.699', 'val4_auc: 0.629', 'sum_auc: 2.106']\n",
      "[I 2023-07-14 12:03:18,491] Trial 15 finished with value: 2.1054 and parameters: {'feature_dim': 8, 'n_step': 3, 'n_shared': 0, 'relaxation_factor': 1.9, 'sparsity_coefficient': 3.299157134450287e-07, 'bn_momentum': 0.9854733986797156}. Best is trial 11 with value: 2.309.\n",
      "Epoch0\t['loss: 0.177', 'val2_auc: 0.758', 'val3_auc: 0.687', 'val4_auc: 0.807', 'sum_auc: 2.252']\n",
      "Epoch1\t['loss: 0.154', 'val2_auc: 0.766', 'val3_auc: 0.693', 'val4_auc: 0.753', 'sum_auc: 2.212']\n",
      "Epoch2\t['loss: 0.147', 'val2_auc: 0.785', 'val3_auc: 0.701', 'val4_auc: 0.678', 'sum_auc: 2.164']\n",
      "Epoch3\t['loss: 0.144', 'val2_auc: 0.792', 'val3_auc: 0.704', 'val4_auc: 0.631', 'sum_auc: 2.126']\n",
      "Epoch4\t['loss: 0.142', 'val2_auc: 0.800', 'val3_auc: 0.692', 'val4_auc: 0.630', 'sum_auc: 2.122']\n",
      "Epoch5\t['loss: 0.140', 'val2_auc: 0.803', 'val3_auc: 0.687', 'val4_auc: 0.686', 'sum_auc: 2.177']\n",
      "Epoch 5: early stopping Threshold\n",
      "[I 2023-07-14 12:05:29,633] Trial 16 finished with value: 2.2524 and parameters: {'feature_dim': 128, 'n_step': 2, 'n_shared': 4, 'relaxation_factor': 2.2, 'sparsity_coefficient': 3.4397490101172444e-05, 'bn_momentum': 0.9978565842017746}. Best is trial 11 with value: 2.309.\n",
      "Epoch0\t['loss: 0.201', 'val2_auc: 0.665', 'val3_auc: 0.660', 'val4_auc: 0.638', 'sum_auc: 1.963']\n",
      "Epoch1\t['loss: 0.163', 'val2_auc: 0.706', 'val3_auc: 0.668', 'val4_auc: 0.703', 'sum_auc: 2.078']\n",
      "Epoch2\t['loss: 0.159', 'val2_auc: 0.720', 'val3_auc: 0.695', 'val4_auc: 0.680', 'sum_auc: 2.096']\n",
      "Epoch3\t['loss: 0.155', 'val2_auc: 0.740', 'val3_auc: 0.687', 'val4_auc: 0.783', 'sum_auc: 2.210']\n",
      "Epoch4\t['loss: 0.152', 'val2_auc: 0.739', 'val3_auc: 0.686', 'val4_auc: 0.693', 'sum_auc: 2.118']\n",
      "Epoch5\t['loss: 0.150', 'val2_auc: 0.740', 'val3_auc: 0.655', 'val4_auc: 0.639', 'sum_auc: 2.035']\n",
      "Epoch6\t['loss: 0.149', 'val2_auc: 0.749', 'val3_auc: 0.670', 'val4_auc: 0.616', 'sum_auc: 2.035']\n",
      "Epoch7\t['loss: 0.148', 'val2_auc: 0.749', 'val3_auc: 0.693', 'val4_auc: 0.600', 'sum_auc: 2.042']\n",
      "Epoch8\t['loss: 0.146', 'val2_auc: 0.769', 'val3_auc: 0.673', 'val4_auc: 0.681', 'sum_auc: 2.123']\n",
      "Epoch 8: early stopping Threshold\n",
      "[I 2023-07-14 12:09:52,371] Trial 17 finished with value: 2.2099 and parameters: {'feature_dim': 32, 'n_step': 3, 'n_shared': 2, 'relaxation_factor': 1.6, 'sparsity_coefficient': 3.035389476366229e-07, 'bn_momentum': 0.9720779704365353}. Best is trial 11 with value: 2.309.\n",
      "Epoch0\t['loss: 0.209', 'val2_auc: 0.610', 'val3_auc: 0.612', 'val4_auc: 0.616', 'sum_auc: 1.837']\n",
      "Epoch1\t['loss: 0.168', 'val2_auc: 0.688', 'val3_auc: 0.679', 'val4_auc: 0.754', 'sum_auc: 2.121']\n",
      "Epoch2\t['loss: 0.161', 'val2_auc: 0.720', 'val3_auc: 0.687', 'val4_auc: 0.743', 'sum_auc: 2.149']\n",
      "Epoch3\t['loss: 0.157', 'val2_auc: 0.737', 'val3_auc: 0.683', 'val4_auc: 0.695', 'sum_auc: 2.114']\n",
      "Epoch4\t['loss: 0.154', 'val2_auc: 0.742', 'val3_auc: 0.693', 'val4_auc: 0.751', 'sum_auc: 2.186']\n",
      "Epoch7\t['loss: 0.150', 'val2_auc: 0.755', 'val3_auc: 0.673', 'val4_auc: 0.746', 'sum_auc: 2.175']\n",
      "Epoch8\t['loss: 0.150', 'val2_auc: 0.756', 'val3_auc: 0.680', 'val4_auc: 0.749', 'sum_auc: 2.185']\n",
      "Epoch9\t['loss: 0.149', 'val2_auc: 0.757', 'val3_auc: 0.688', 'val4_auc: 0.707', 'sum_auc: 2.153']\n",
      "Epoch 9: early stopping Threshold\n",
      "[I 2023-07-14 12:17:05,488] Trial 18 finished with value: 2.1856 and parameters: {'feature_dim': 8, 'n_step': 5, 'n_shared': 3, 'relaxation_factor': 1.0, 'sparsity_coefficient': 0.00017986076956381768, 'bn_momentum': 0.9865259063582231}. Best is trial 11 with value: 2.309.\n",
      "Epoch0\t['loss: 0.195', 'val2_auc: 0.553', 'val3_auc: 0.568', 'val4_auc: 0.545', 'sum_auc: 1.666']\n",
      "Epoch1\t['loss: 0.172', 'val2_auc: 0.598', 'val3_auc: 0.588', 'val4_auc: 0.579', 'sum_auc: 1.765']\n",
      "Epoch2\t['loss: 0.169', 'val2_auc: 0.618', 'val3_auc: 0.618', 'val4_auc: 0.634', 'sum_auc: 1.870']\n",
      "Epoch3\t['loss: 0.167', 'val2_auc: 0.661', 'val3_auc: 0.633', 'val4_auc: 0.644', 'sum_auc: 1.938']\n",
      "Epoch4\t['loss: 0.166', 'val2_auc: 0.670', 'val3_auc: 0.649', 'val4_auc: 0.735', 'sum_auc: 2.054']\n",
      "Epoch5\t['loss: 0.164', 'val2_auc: 0.688', 'val3_auc: 0.658', 'val4_auc: 0.702', 'sum_auc: 2.048']\n",
      "Epoch6\t['loss: 0.160', 'val2_auc: 0.701', 'val3_auc: 0.648', 'val4_auc: 0.642', 'sum_auc: 1.990']\n",
      "Epoch7\t['loss: 0.159', 'val2_auc: 0.704', 'val3_auc: 0.633', 'val4_auc: 0.637', 'sum_auc: 1.974']\n",
      "Epoch8\t['loss: 0.157', 'val2_auc: 0.719', 'val3_auc: 0.663', 'val4_auc: 0.629', 'sum_auc: 2.011']\n",
      "Epoch9\t['loss: 0.155', 'val2_auc: 0.717', 'val3_auc: 0.662', 'val4_auc: 0.757', 'sum_auc: 2.136']\n",
      "[I 2023-07-14 12:24:15,747] Trial 19 finished with value: 2.1358 and parameters: {'feature_dim': 128, 'n_step': 5, 'n_shared': 4, 'relaxation_factor': 2.5, 'sparsity_coefficient': 3.5352191023539376e-05, 'bn_momentum': 0.9649376516617404}. Best is trial 11 with value: 2.309.\n",
      "Epoch0\t['loss: 0.216', 'val2_auc: 0.657', 'val3_auc: 0.631', 'val4_auc: 0.658', 'sum_auc: 1.947']\n",
      "Epoch1\t['loss: 0.164', 'val2_auc: 0.704', 'val3_auc: 0.671', 'val4_auc: 0.701', 'sum_auc: 2.075']\n",
      "Epoch2\t['loss: 0.160', 'val2_auc: 0.716', 'val3_auc: 0.667', 'val4_auc: 0.731', 'sum_auc: 2.114']\n",
      "Epoch3\t['loss: 0.158', 'val2_auc: 0.718', 'val3_auc: 0.670', 'val4_auc: 0.715', 'sum_auc: 2.104']\n",
      "Epoch4\t['loss: 0.157', 'val2_auc: 0.731', 'val3_auc: 0.683', 'val4_auc: 0.785', 'sum_auc: 2.199']\n",
      "Epoch5\t['loss: 0.155', 'val2_auc: 0.735', 'val3_auc: 0.685', 'val4_auc: 0.802', 'sum_auc: 2.221']\n",
      "Epoch6\t['loss: 0.154', 'val2_auc: 0.730', 'val3_auc: 0.673', 'val4_auc: 0.718', 'sum_auc: 2.121']\n",
      "Epoch7\t['loss: 0.153', 'val2_auc: 0.734', 'val3_auc: 0.664', 'val4_auc: 0.745', 'sum_auc: 2.143']\n",
      "Epoch8\t['loss: 0.152', 'val2_auc: 0.742', 'val3_auc: 0.676', 'val4_auc: 0.736', 'sum_auc: 2.155']\n",
      "Epoch9\t['loss: 0.152', 'val2_auc: 0.741', 'val3_auc: 0.663', 'val4_auc: 0.650', 'sum_auc: 2.054']\n",
      "[I 2023-07-14 12:29:05,825] Trial 20 finished with value: 2.0535 and parameters: {'feature_dim': 8, 'n_step': 3, 'n_shared': 2, 'relaxation_factor': 1.8, 'sparsity_coefficient': 1.4284358049601092e-08, 'bn_momentum': 0.9898273393543359}. Best is trial 11 with value: 2.309.\n",
      "Epoch0\t['loss: 0.177', 'val2_auc: 0.746', 'val3_auc: 0.677', 'val4_auc: 0.792', 'sum_auc: 2.215']\n",
      "Epoch1\t['loss: 0.154', 'val2_auc: 0.763', 'val3_auc: 0.664', 'val4_auc: 0.728', 'sum_auc: 2.155']\n",
      "Epoch2\t['loss: 0.149', 'val2_auc: 0.778', 'val3_auc: 0.715', 'val4_auc: 0.679', 'sum_auc: 2.173']\n",
      "Epoch3\t['loss: 0.143', 'val2_auc: 0.788', 'val3_auc: 0.731', 'val4_auc: 0.713', 'sum_auc: 2.231']\n",
      "Epoch4\t['loss: 0.141', 'val2_auc: 0.787', 'val3_auc: 0.719', 'val4_auc: 0.685', 'sum_auc: 2.192']\n",
      "Epoch5\t['loss: 0.140', 'val2_auc: 0.789', 'val3_auc: 0.731', 'val4_auc: 0.670', 'sum_auc: 2.191']\n",
      "Epoch6\t['loss: 0.138', 'val2_auc: 0.785', 'val3_auc: 0.732', 'val4_auc: 0.690', 'sum_auc: 2.208']\n",
      "Epoch7\t['loss: 0.138', 'val2_auc: 0.800', 'val3_auc: 0.719', 'val4_auc: 0.728', 'sum_auc: 2.246']\n",
      "Epoch8\t['loss: 0.136', 'val2_auc: 0.805', 'val3_auc: 0.722', 'val4_auc: 0.684', 'sum_auc: 2.211']\n",
      "Epoch9\t['loss: 0.135', 'val2_auc: 0.806', 'val3_auc: 0.722', 'val4_auc: 0.715', 'sum_auc: 2.243']\n",
      "[I 2023-07-14 12:32:40,688] Trial 21 finished with value: 2.2428 and parameters: {'feature_dim': 128, 'n_step': 2, 'n_shared': 4, 'relaxation_factor': 2.2, 'sparsity_coefficient': 2.7019851188421078e-05, 'bn_momentum': 0.9982357452152011}. Best is trial 11 with value: 2.309.\n",
      "Epoch0\t['loss: 0.176', 'val2_auc: 0.753', 'val3_auc: 0.687', 'val4_auc: 0.852', 'sum_auc: 2.292']\n",
      "Epoch1\t['loss: 0.155', 'val2_auc: 0.757', 'val3_auc: 0.670', 'val4_auc: 0.833', 'sum_auc: 2.260']\n",
      "Epoch2\t['loss: 0.150', 'val2_auc: 0.771', 'val3_auc: 0.680', 'val4_auc: 0.768', 'sum_auc: 2.219']\n",
      "Epoch3\t['loss: 0.144', 'val2_auc: 0.779', 'val3_auc: 0.700', 'val4_auc: 0.699', 'sum_auc: 2.178']\n",
      "Epoch4\t['loss: 0.143', 'val2_auc: 0.780', 'val3_auc: 0.677', 'val4_auc: 0.748', 'sum_auc: 2.205']\n",
      "Epoch5\t['loss: 0.141', 'val2_auc: 0.799', 'val3_auc: 0.718', 'val4_auc: 0.668', 'sum_auc: 2.185']\n",
      "Epoch 5: early stopping Threshold\n",
      "[I 2023-07-14 12:34:49,889] Trial 22 finished with value: 2.2915 and parameters: {'feature_dim': 128, 'n_step': 2, 'n_shared': 4, 'relaxation_factor': 2.2, 'sparsity_coefficient': 1.6003201090865092e-05, 'bn_momentum': 0.9993450840488735}. Best is trial 11 with value: 2.309.\n",
      "Epoch0\t['loss: 0.178', 'val2_auc: 0.699', 'val3_auc: 0.668', 'val4_auc: 0.761', 'sum_auc: 2.127']\n",
      "Epoch1\t['loss: 0.159', 'val2_auc: 0.707', 'val3_auc: 0.706', 'val4_auc: 0.723', 'sum_auc: 2.135']\n",
      "Epoch2\t['loss: 0.154', 'val2_auc: 0.770', 'val3_auc: 0.685', 'val4_auc: 0.664', 'sum_auc: 2.119']\n",
      "Epoch3\t['loss: 0.150', 'val2_auc: 0.769', 'val3_auc: 0.680', 'val4_auc: 0.652', 'sum_auc: 2.102']\n",
      "Epoch4\t['loss: 0.147', 'val2_auc: 0.770', 'val3_auc: 0.685', 'val4_auc: 0.625', 'sum_auc: 2.080']\n",
      "Epoch5\t['loss: 0.145', 'val2_auc: 0.788', 'val3_auc: 0.703', 'val4_auc: 0.583', 'sum_auc: 2.074']\n",
      "Epoch6\t['loss: 0.144', 'val2_auc: 0.792', 'val3_auc: 0.706', 'val4_auc: 0.552', 'sum_auc: 2.050']\n",
      "Epoch 6: early stopping Threshold\n",
      "[I 2023-07-14 12:37:18,876] Trial 23 finished with value: 2.1353 and parameters: {'feature_dim': 128, 'n_step': 2, 'n_shared': 3, 'relaxation_factor': 2.5, 'sparsity_coefficient': 0.00022722049152320005, 'bn_momentum': 0.9810702699153386}. Best is trial 11 with value: 2.309.\n",
      "Epoch0\t['loss: 0.184', 'val2_auc: 0.633', 'val3_auc: 0.609', 'val4_auc: 0.647', 'sum_auc: 1.889']\n",
      "Epoch1\t['loss: 0.164', 'val2_auc: 0.700', 'val3_auc: 0.689', 'val4_auc: 0.754', 'sum_auc: 2.143']\n",
      "Epoch2\t['loss: 0.157', 'val2_auc: 0.743', 'val3_auc: 0.675', 'val4_auc: 0.581', 'sum_auc: 2.000']\n",
      "Epoch3\t['loss: 0.154', 'val2_auc: 0.750', 'val3_auc: 0.670', 'val4_auc: 0.636', 'sum_auc: 2.056']\n",
      "Epoch4\t['loss: 0.151', 'val2_auc: 0.748', 'val3_auc: 0.690', 'val4_auc: 0.624', 'sum_auc: 2.062']\n",
      "Epoch5\t['loss: 0.150', 'val2_auc: 0.757', 'val3_auc: 0.691', 'val4_auc: 0.652', 'sum_auc: 2.099']\n",
      "Epoch6\t['loss: 0.148', 'val2_auc: 0.758', 'val3_auc: 0.684', 'val4_auc: 0.588', 'sum_auc: 2.030']\n",
      "Epoch 6: early stopping Threshold\n",
      "[I 2023-07-14 12:40:48,334] Trial 24 finished with value: 2.1433 and parameters: {'feature_dim': 128, 'n_step': 3, 'n_shared': 4, 'relaxation_factor': 2.0, 'sparsity_coefficient': 1.4932931214607998e-05, 'bn_momentum': 0.9920816393617481}. Best is trial 11 with value: 2.309.\n",
      "Epoch0\t['loss: 0.188', 'val2_auc: 0.611', 'val3_auc: 0.590', 'val4_auc: 0.611', 'sum_auc: 1.811']\n",
      "Epoch1\t['loss: 0.166', 'val2_auc: 0.698', 'val3_auc: 0.642', 'val4_auc: 0.638', 'sum_auc: 1.978']\n",
      "Epoch2\t['loss: 0.159', 'val2_auc: 0.721', 'val3_auc: 0.663', 'val4_auc: 0.675', 'sum_auc: 2.059']\n",
      "Epoch3\t['loss: 0.156', 'val2_auc: 0.743', 'val3_auc: 0.679', 'val4_auc: 0.641', 'sum_auc: 2.063']\n",
      "Epoch4\t['loss: 0.153', 'val2_auc: 0.734', 'val3_auc: 0.675', 'val4_auc: 0.629', 'sum_auc: 2.038']\n",
      "Epoch5\t['loss: 0.151', 'val2_auc: 0.743', 'val3_auc: 0.687', 'val4_auc: 0.629', 'sum_auc: 2.059']\n",
      "Epoch9\t['loss: 0.149', 'val2_auc: 0.753', 'val3_auc: 0.672', 'val4_auc: 0.739', 'sum_auc: 2.164']\n",
      "[I 2023-07-14 12:47:03,349] Trial 25 finished with value: 2.1641 and parameters: {'feature_dim': 128, 'n_step': 4, 'n_shared': 3, 'relaxation_factor': 1.5, 'sparsity_coefficient': 1.3562069543509214e-06, 'bn_momentum': 0.9788171689771782}. Best is trial 11 with value: 2.309.\n",
      "Epoch0\t['loss: 0.192', 'val2_auc: 0.713', 'val3_auc: 0.667', 'val4_auc: 0.709', 'sum_auc: 2.088']\n",
      "Epoch1\t['loss: 0.156', 'val2_auc: 0.759', 'val3_auc: 0.704', 'val4_auc: 0.723', 'sum_auc: 2.186']\n",
      "Epoch2\t['loss: 0.148', 'val2_auc: 0.771', 'val3_auc: 0.717', 'val4_auc: 0.689', 'sum_auc: 2.177']\n",
      "Epoch3\t['loss: 0.143', 'val2_auc: 0.790', 'val3_auc: 0.701', 'val4_auc: 0.706', 'sum_auc: 2.197']\n",
      "Epoch4\t['loss: 0.141', 'val2_auc: 0.798', 'val3_auc: 0.713', 'val4_auc: 0.778', 'sum_auc: 2.290']\n",
      "Epoch5\t['loss: 0.139', 'val2_auc: 0.805', 'val3_auc: 0.709', 'val4_auc: 0.675', 'sum_auc: 2.189']\n",
      "Epoch6\t['loss: 0.138', 'val2_auc: 0.806', 'val3_auc: 0.727', 'val4_auc: 0.701', 'sum_auc: 2.234']\n",
      "Epoch7\t['loss: 0.136', 'val2_auc: 0.811', 'val3_auc: 0.717', 'val4_auc: 0.732', 'sum_auc: 2.260']\n",
      "Epoch8\t['loss: 0.135', 'val2_auc: 0.810', 'val3_auc: 0.702', 'val4_auc: 0.573', 'sum_auc: 2.085']\n",
      "Epoch9\t['loss: 0.134', 'val2_auc: 0.814', 'val3_auc: 0.710', 'val4_auc: 0.596', 'sum_auc: 2.119']\n",
      "Epoch 9: early stopping Threshold\n",
      "[I 2023-07-14 12:50:19,552] Trial 26 finished with value: 2.2903 and parameters: {'feature_dim': 32, 'n_step': 2, 'n_shared': 3, 'relaxation_factor': 1.2, 'sparsity_coefficient': 0.0004717656366560386, 'bn_momentum': 0.9919221494004509}. Best is trial 11 with value: 2.309.\n",
      "Epoch0\t['loss: 0.213', 'val2_auc: 0.597', 'val3_auc: 0.590', 'val4_auc: 0.620', 'sum_auc: 1.808']\n",
      "Epoch1\t['loss: 0.166', 'val2_auc: 0.699', 'val3_auc: 0.667', 'val4_auc: 0.626', 'sum_auc: 1.992']\n",
      "Epoch2\t['loss: 0.162', 'val2_auc: 0.708', 'val3_auc: 0.647', 'val4_auc: 0.648', 'sum_auc: 2.003']\n",
      "Epoch3\t['loss: 0.159', 'val2_auc: 0.718', 'val3_auc: 0.679', 'val4_auc: 0.627', 'sum_auc: 2.025']\n",
      "Epoch4\t['loss: 0.158', 'val2_auc: 0.723', 'val3_auc: 0.673', 'val4_auc: 0.607', 'sum_auc: 2.003']\n",
      "Epoch5\t['loss: 0.155', 'val2_auc: 0.722', 'val3_auc: 0.662', 'val4_auc: 0.701', 'sum_auc: 2.085']\n",
      "Epoch6\t['loss: 0.154', 'val2_auc: 0.727', 'val3_auc: 0.664', 'val4_auc: 0.615', 'sum_auc: 2.005']\n",
      "Epoch7\t['loss: 0.154', 'val2_auc: 0.742', 'val3_auc: 0.666', 'val4_auc: 0.674', 'sum_auc: 2.081']\n",
      "Epoch8\t['loss: 0.153', 'val2_auc: 0.744', 'val3_auc: 0.676', 'val4_auc: 0.828', 'sum_auc: 2.247']\n",
      "Epoch9\t['loss: 0.152', 'val2_auc: 0.738', 'val3_auc: 0.664', 'val4_auc: 0.654', 'sum_auc: 2.056']\n",
      "[I 2023-07-14 12:55:03,220] Trial 27 finished with value: 2.0562 and parameters: {'feature_dim': 32, 'n_step': 3, 'n_shared': 4, 'relaxation_factor': 2.5, 'sparsity_coefficient': 0.0006743250059567324, 'bn_momentum': 0.9914689867277048}. Best is trial 11 with value: 2.309.\n",
      "Epoch0\t['loss: 0.209', 'val2_auc: 0.683', 'val3_auc: 0.668', 'val4_auc: 0.721', 'sum_auc: 2.072']\n",
      "Epoch1\t['loss: 0.159', 'val2_auc: 0.754', 'val3_auc: 0.707', 'val4_auc: 0.747', 'sum_auc: 2.208']\n",
      "Epoch2\t['loss: 0.149', 'val2_auc: 0.777', 'val3_auc: 0.686', 'val4_auc: 0.650', 'sum_auc: 2.113']\n",
      "Epoch3\t['loss: 0.144', 'val2_auc: 0.784', 'val3_auc: 0.665', 'val4_auc: 0.621', 'sum_auc: 2.071']\n",
      "Epoch4\t['loss: 0.143', 'val2_auc: 0.796', 'val3_auc: 0.675', 'val4_auc: 0.603', 'sum_auc: 2.074']\n",
      "Epoch5\t['loss: 0.141', 'val2_auc: 0.800', 'val3_auc: 0.686', 'val4_auc: 0.604', 'sum_auc: 2.090']\n",
      "Epoch6\t['loss: 0.139', 'val2_auc: 0.804', 'val3_auc: 0.678', 'val4_auc: 0.628', 'sum_auc: 2.110']\n",
      "Epoch 6: early stopping Threshold\n",
      "[I 2023-07-14 12:57:31,975] Trial 28 finished with value: 2.2074 and parameters: {'feature_dim': 32, 'n_step': 2, 'n_shared': 2, 'relaxation_factor': 2.3, 'sparsity_coefficient': 0.00010496706438819807, 'bn_momentum': 0.981105562952832}. Best is trial 11 with value: 2.309.\n",
      "Epoch0\t['loss: 0.203', 'val2_auc: 0.709', 'val3_auc: 0.666', 'val4_auc: 0.720', 'sum_auc: 2.094']\n",
      "Epoch1\t['loss: 0.172', 'val2_auc: 0.737', 'val3_auc: 0.680', 'val4_auc: 0.713', 'sum_auc: 2.130']\n",
      "Epoch2\t['loss: 0.167', 'val2_auc: 0.740', 'val3_auc: 0.677', 'val4_auc: 0.743', 'sum_auc: 2.159']\n",
      "Epoch3\t['loss: 0.165', 'val2_auc: 0.748', 'val3_auc: 0.667', 'val4_auc: 0.735', 'sum_auc: 2.149']\n",
      "Epoch4\t['loss: 0.162', 'val2_auc: 0.741', 'val3_auc: 0.683', 'val4_auc: 0.744', 'sum_auc: 2.169']\n",
      "Epoch5\t['loss: 0.161', 'val2_auc: 0.740', 'val3_auc: 0.653', 'val4_auc: 0.725', 'sum_auc: 2.117']\n",
      "Epoch6\t['loss: 0.160', 'val2_auc: 0.743', 'val3_auc: 0.661', 'val4_auc: 0.768', 'sum_auc: 2.173']\n",
      "Epoch7\t['loss: 0.159', 'val2_auc: 0.747', 'val3_auc: 0.661', 'val4_auc: 0.737', 'sum_auc: 2.145']\n",
      "Epoch8\t['loss: 0.158', 'val2_auc: 0.748', 'val3_auc: 0.658', 'val4_auc: 0.734', 'sum_auc: 2.139']\n",
      "Epoch9\t['loss: 0.157', 'val2_auc: 0.747', 'val3_auc: 0.663', 'val4_auc: 0.725', 'sum_auc: 2.135']\n",
      "[I 2023-07-14 13:05:03,220] Trial 29 finished with value: 2.1351 and parameters: {'feature_dim': 32, 'n_step': 5, 'n_shared': 0, 'relaxation_factor': 1.2, 'sparsity_coefficient': 0.010531296310885264, 'bn_momentum': 0.9927324912612053}. Best is trial 11 with value: 2.309.\n",
      "Epoch0\t['loss: 0.196', 'val2_auc: 0.652', 'val3_auc: 0.610', 'val4_auc: 0.624', 'sum_auc: 1.886']\n",
      "Epoch1\t['loss: 0.171', 'val2_auc: 0.689', 'val3_auc: 0.679', 'val4_auc: 0.630', 'sum_auc: 1.998']\n",
      "Epoch2\t['loss: 0.166', 'val2_auc: 0.716', 'val3_auc: 0.667', 'val4_auc: 0.673', 'sum_auc: 2.056']\n",
      "Epoch3\t['loss: 0.163', 'val2_auc: 0.724', 'val3_auc: 0.668', 'val4_auc: 0.710', 'sum_auc: 2.102']\n",
      "Epoch4\t['loss: 0.160', 'val2_auc: 0.746', 'val3_auc: 0.689', 'val4_auc: 0.702', 'sum_auc: 2.137']\n",
      "Epoch5\t['loss: 0.157', 'val2_auc: 0.735', 'val3_auc: 0.681', 'val4_auc: 0.691', 'sum_auc: 2.106']\n",
      "Epoch6\t['loss: 0.156', 'val2_auc: 0.746', 'val3_auc: 0.670', 'val4_auc: 0.716', 'sum_auc: 2.132']\n",
      "Epoch7\t['loss: 0.155', 'val2_auc: 0.746', 'val3_auc: 0.675', 'val4_auc: 0.622', 'sum_auc: 2.043']\n",
      "Epoch8\t['loss: 0.154', 'val2_auc: 0.754', 'val3_auc: 0.690', 'val4_auc: 0.634', 'sum_auc: 2.078']\n",
      "Epoch9\t['loss: 0.153', 'val2_auc: 0.744', 'val3_auc: 0.685', 'val4_auc: 0.665', 'sum_auc: 2.095']\n",
      "Epoch 9: early stopping Threshold\n",
      "[I 2023-07-14 13:11:14,774] Trial 30 finished with value: 2.1369 and parameters: {'feature_dim': 128, 'n_step': 4, 'n_shared': 3, 'relaxation_factor': 1.6, 'sparsity_coefficient': 0.00684467252844028, 'bn_momentum': 0.981983894339528}. Best is trial 11 with value: 2.309.\n",
      "Epoch0\t['loss: 0.174', 'val2_auc: 0.754', 'val3_auc: 0.699', 'val4_auc: 0.862', 'sum_auc: 2.314']\n",
      "Epoch1\t['loss: 0.152', 'val2_auc: 0.755', 'val3_auc: 0.664', 'val4_auc: 0.848', 'sum_auc: 2.268']\n",
      "Epoch2\t['loss: 0.147', 'val2_auc: 0.759', 'val3_auc: 0.674', 'val4_auc: 0.726', 'sum_auc: 2.159']\n",
      "Epoch3\t['loss: 0.143', 'val2_auc: 0.763', 'val3_auc: 0.714', 'val4_auc: 0.732', 'sum_auc: 2.209']\n",
      "Epoch4\t['loss: 0.141', 'val2_auc: 0.765', 'val3_auc: 0.721', 'val4_auc: 0.697', 'sum_auc: 2.182']\n",
      "Epoch5\t['loss: 0.139', 'val2_auc: 0.778', 'val3_auc: 0.699', 'val4_auc: 0.612', 'sum_auc: 2.089']\n",
      "Epoch 5: early stopping Threshold\n",
      "[I 2023-07-14 13:14:07,928] Trial 31 finished with value: 2.3143 and parameters: {'feature_dim': 256, 'n_step': 2, 'n_shared': 3, 'relaxation_factor': 1.1, 'sparsity_coefficient': 0.0002987212968111641, 'bn_momentum': 0.9995243335086753}. Best is trial 31 with value: 2.3143.\n",
      "Epoch0\t['loss: 0.173', 'val2_auc: 0.765', 'val3_auc: 0.701', 'val4_auc: 0.713', 'sum_auc: 2.179']\n",
      "Epoch1\t['loss: 0.151', 'val2_auc: 0.790', 'val3_auc: 0.713', 'val4_auc: 0.654', 'sum_auc: 2.157']\n",
      "Epoch2\t['loss: 0.144', 'val2_auc: 0.791', 'val3_auc: 0.720', 'val4_auc: 0.598', 'sum_auc: 2.109']\n",
      "Epoch3\t['loss: 0.142', 'val2_auc: 0.799', 'val3_auc: 0.716', 'val4_auc: 0.565', 'sum_auc: 2.080']\n",
      "Epoch4\t['loss: 0.141', 'val2_auc: 0.808', 'val3_auc: 0.720', 'val4_auc: 0.545', 'sum_auc: 2.074']\n",
      "Epoch5\t['loss: 0.138', 'val2_auc: 0.809', 'val3_auc: 0.728', 'val4_auc: 0.578', 'sum_auc: 2.115']\n",
      "Epoch 5: early stopping Threshold\n",
      "[I 2023-07-14 13:17:00,575] Trial 32 finished with value: 2.179 and parameters: {'feature_dim': 256, 'n_step': 2, 'n_shared': 3, 'relaxation_factor': 1.2, 'sparsity_coefficient': 0.0006256281995705974, 'bn_momentum': 0.9926137405058187}. Best is trial 31 with value: 2.3143.\n",
      "Epoch3\t['loss: 0.146', 'val2_auc: 0.764', 'val3_auc: 0.678', 'val4_auc: 0.613', 'sum_auc: 2.055']\n",
      "Epoch4\t['loss: 0.144', 'val2_auc: 0.773', 'val3_auc: 0.703', 'val4_auc: 0.713', 'sum_auc: 2.190']\n",
      "Epoch5\t['loss: 0.141', 'val2_auc: 0.791', 'val3_auc: 0.720', 'val4_auc: 0.784', 'sum_auc: 2.295']\n",
      "Epoch 5: early stopping Threshold\n",
      "[I 2023-07-14 13:20:54,070] Trial 33 finished with value: 2.2974 and parameters: {'feature_dim': 256, 'n_step': 3, 'n_shared': 2, 'relaxation_factor': 1.4, 'sparsity_coefficient': 0.0002169622618612959, 'bn_momentum': 0.9991337437435457}. Best is trial 31 with value: 2.3143.\n",
      "Epoch0\t['loss: 0.177', 'val2_auc: 0.703', 'val3_auc: 0.668', 'val4_auc: 0.563', 'sum_auc: 1.934']\n",
      "Epoch1\t['loss: 0.156', 'val2_auc: 0.760', 'val3_auc: 0.727', 'val4_auc: 0.771', 'sum_auc: 2.259']\n",
      "Epoch2\t['loss: 0.150', 'val2_auc: 0.756', 'val3_auc: 0.713', 'val4_auc: 0.795', 'sum_auc: 2.264']\n",
      "Epoch3\t['loss: 0.144', 'val2_auc: 0.740', 'val3_auc: 0.660', 'val4_auc: 0.763', 'sum_auc: 2.163']\n",
      "Epoch4\t['loss: 0.140', 'val2_auc: 0.748', 'val3_auc: 0.676', 'val4_auc: 0.745', 'sum_auc: 2.169']\n",
      "Epoch5\t['loss: 0.140', 'val2_auc: 0.734', 'val3_auc: 0.655', 'val4_auc: 0.633', 'sum_auc: 2.021']\n",
      "Epoch6\t['loss: 0.139', 'val2_auc: 0.730', 'val3_auc: 0.661', 'val4_auc: 0.577', 'sum_auc: 1.967']\n",
      "Epoch7\t['loss: 0.138', 'val2_auc: 0.733', 'val3_auc: 0.657', 'val4_auc: 0.526', 'sum_auc: 1.916']\n",
      "Epoch 7: early stopping Threshold\n",
      "[I 2023-07-14 13:26:01,954] Trial 34 finished with value: 2.2643 and parameters: {'feature_dim': 256, 'n_step': 3, 'n_shared': 2, 'relaxation_factor': 1.3, 'sparsity_coefficient': 1.429998432322495e-05, 'bn_momentum': 0.9998382183112261}. Best is trial 31 with value: 2.3143.\n",
      "Epoch0\t['loss: 0.173', 'val2_auc: 0.723', 'val3_auc: 0.693', 'val4_auc: 0.772', 'sum_auc: 2.189']\n",
      "Epoch1\t['loss: 0.158', 'val2_auc: 0.754', 'val3_auc: 0.695', 'val4_auc: 0.721', 'sum_auc: 2.169']\n",
      "Epoch2\t['loss: 0.153', 'val2_auc: 0.750', 'val3_auc: 0.697', 'val4_auc: 0.743', 'sum_auc: 2.189']\n",
      "Epoch3\t['loss: 0.151', 'val2_auc: 0.762', 'val3_auc: 0.698', 'val4_auc: 0.620', 'sum_auc: 2.081']\n",
      "Epoch4\t['loss: 0.149', 'val2_auc: 0.768', 'val3_auc: 0.687', 'val4_auc: 0.639', 'sum_auc: 2.094']\n",
      "Epoch5\t['loss: 0.147', 'val2_auc: 0.755', 'val3_auc: 0.679', 'val4_auc: 0.670', 'sum_auc: 2.104']\n",
      "Epoch6\t['loss: 0.147', 'val2_auc: 0.775', 'val3_auc: 0.695', 'val4_auc: 0.627', 'sum_auc: 2.096']\n",
      "Epoch7\t['loss: 0.146', 'val2_auc: 0.761', 'val3_auc: 0.695', 'val4_auc: 0.529', 'sum_auc: 1.986']\n",
      "Epoch 7: early stopping Threshold\n",
      "[I 2023-07-14 13:31:09,188] Trial 35 finished with value: 2.1892 and parameters: {'feature_dim': 256, 'n_step': 3, 'n_shared': 2, 'relaxation_factor': 1.5, 'sparsity_coefficient': 0.0001671296188593092, 'bn_momentum': 0.9944829351017186}. Best is trial 31 with value: 2.3143.\n",
      "Epoch0\t['loss: 0.171', 'val2_auc: 0.745', 'val3_auc: 0.665', 'val4_auc: 0.681', 'sum_auc: 2.092']\n",
      "Epoch1\t['loss: 0.152', 'val2_auc: 0.750', 'val3_auc: 0.692', 'val4_auc: 0.656', 'sum_auc: 2.098']\n",
      "Epoch2\t['loss: 0.147', 'val2_auc: 0.770', 'val3_auc: 0.698', 'val4_auc: 0.610', 'sum_auc: 2.078']\n",
      "Epoch3\t['loss: 0.143', 'val2_auc: 0.778', 'val3_auc: 0.708', 'val4_auc: 0.582', 'sum_auc: 2.068']\n",
      "Epoch4\t['loss: 0.141', 'val2_auc: 0.778', 'val3_auc: 0.725', 'val4_auc: 0.625', 'sum_auc: 2.127']\n",
      "Epoch5\t['loss: 0.140', 'val2_auc: 0.792', 'val3_auc: 0.729', 'val4_auc: 0.639', 'sum_auc: 2.160']\n",
      "Epoch6\t['loss: 0.137', 'val2_auc: 0.790', 'val3_auc: 0.746', 'val4_auc: 0.622', 'sum_auc: 2.158']\n",
      "Epoch7\t['loss: 0.137', 'val2_auc: 0.791', 'val3_auc: 0.738', 'val4_auc: 0.639', 'sum_auc: 2.169']\n",
      "Epoch8\t['loss: 0.136', 'val2_auc: 0.796', 'val3_auc: 0.725', 'val4_auc: 0.668', 'sum_auc: 2.189']\n",
      "Epoch9\t['loss: 0.136', 'val2_auc: 0.797', 'val3_auc: 0.735', 'val4_auc: 0.684', 'sum_auc: 2.216']\n",
      "[I 2023-07-14 13:35:51,638] Trial 36 finished with value: 2.2156 and parameters: {'feature_dim': 256, 'n_step': 2, 'n_shared': 2, 'relaxation_factor': 1.4, 'sparsity_coefficient': 9.427920712155374e-06, 'bn_momentum': 0.9882766390299126}. Best is trial 31 with value: 2.3143.\n",
      "Epoch0\t['loss: 0.187', 'val2_auc: 0.720', 'val3_auc: 0.660', 'val4_auc: 0.684', 'sum_auc: 2.065']\n",
      "Epoch1\t['loss: 0.164', 'val2_auc: 0.726', 'val3_auc: 0.676', 'val4_auc: 0.702', 'sum_auc: 2.104']\n",
      "Epoch2\t['loss: 0.157', 'val2_auc: 0.719', 'val3_auc: 0.670', 'val4_auc: 0.631', 'sum_auc: 2.020']\n",
      "Epoch3\t['loss: 0.154', 'val2_auc: 0.751', 'val3_auc: 0.681', 'val4_auc: 0.620', 'sum_auc: 2.053']\n",
      "Epoch4\t['loss: 0.151', 'val2_auc: 0.748', 'val3_auc: 0.694', 'val4_auc: 0.659', 'sum_auc: 2.101']\n",
      "Epoch5\t['loss: 0.150', 'val2_auc: 0.746', 'val3_auc: 0.686', 'val4_auc: 0.661', 'sum_auc: 2.092']\n",
      "Epoch6\t['loss: 0.148', 'val2_auc: 0.754', 'val3_auc: 0.674', 'val4_auc: 0.643', 'sum_auc: 2.071']\n",
      "Epoch 6: early stopping Threshold\n",
      "[I 2023-07-14 13:41:22,391] Trial 37 finished with value: 2.1043 and parameters: {'feature_dim': 256, 'n_step': 4, 'n_shared': 4, 'relaxation_factor': 1.3, 'sparsity_coefficient': 0.0009708550065316644, 'bn_momentum': 0.9946966544179248}. Best is trial 31 with value: 2.3143.\n",
      "Epoch0\t['loss: 0.179', 'val2_auc: 0.734', 'val3_auc: 0.696', 'val4_auc: 0.703', 'sum_auc: 2.133']\n",
      "Epoch1\t['loss: 0.156', 'val2_auc: 0.763', 'val3_auc: 0.685', 'val4_auc: 0.619', 'sum_auc: 2.067']\n",
      "Epoch2\t['loss: 0.152', 'val2_auc: 0.771', 'val3_auc: 0.692', 'val4_auc: 0.631', 'sum_auc: 2.094']\n",
      "Epoch3\t['loss: 0.149', 'val2_auc: 0.770', 'val3_auc: 0.676', 'val4_auc: 0.642', 'sum_auc: 2.088']\n",
      "Epoch4\t['loss: 0.148', 'val2_auc: 0.768', 'val3_auc: 0.667', 'val4_auc: 0.504', 'sum_auc: 1.940']\n",
      "Epoch5\t['loss: 0.147', 'val2_auc: 0.772', 'val3_auc: 0.687', 'val4_auc: 0.552', 'sum_auc: 2.012']\n",
      "Epoch 5: early stopping Threshold\n",
      "[I 2023-07-14 13:45:16,629] Trial 38 finished with value: 2.1329 and parameters: {'feature_dim': 256, 'n_step': 3, 'n_shared': 1, 'relaxation_factor': 1.1, 'sparsity_coefficient': 0.003056533565083659, 'bn_momentum': 0.9851880468602848}. Best is trial 31 with value: 2.3143.\n",
      "Epoch0\t['loss: 0.187', 'val2_auc: 0.725', 'val3_auc: 0.649', 'val4_auc: 0.672', 'sum_auc: 2.047']\n",
      "Epoch1\t['loss: 0.158', 'val2_auc: 0.755', 'val3_auc: 0.666', 'val4_auc: 0.740', 'sum_auc: 2.161']\n",
      "Epoch2\t['loss: 0.152', 'val2_auc: 0.767', 'val3_auc: 0.690', 'val4_auc: 0.573', 'sum_auc: 2.030']\n",
      "Epoch3\t['loss: 0.150', 'val2_auc: 0.777', 'val3_auc: 0.694', 'val4_auc: 0.642', 'sum_auc: 2.112']\n",
      "Epoch4\t['loss: 0.148', 'val2_auc: 0.785', 'val3_auc: 0.648', 'val4_auc: 0.623', 'sum_auc: 2.056']\n",
      "Epoch5\t['loss: 0.145', 'val2_auc: 0.798', 'val3_auc: 0.690', 'val4_auc: 0.586', 'sum_auc: 2.074']\n",
      "Epoch6\t['loss: 0.144', 'val2_auc: 0.801', 'val3_auc: 0.687', 'val4_auc: 0.632', 'sum_auc: 2.119']\n",
      "Epoch 6: early stopping Threshold\n",
      "[I 2023-07-14 13:47:40,937] Trial 39 finished with value: 2.161 and parameters: {'feature_dim': 64, 'n_step': 2, 'n_shared': 3, 'relaxation_factor': 3.0, 'sparsity_coefficient': 0.0003363631102367697, 'bn_momentum': 0.9772956343894748}. Best is trial 31 with value: 2.3143.\n",
      "Epoch0\t['loss: 0.189', 'val2_auc: 0.554', 'val3_auc: 0.575', 'val4_auc: 0.549', 'sum_auc: 1.678']\n",
      "Epoch3\t['loss: 0.164', 'val2_auc: 0.699', 'val3_auc: 0.662', 'val4_auc: 0.638', 'sum_auc: 1.999']\n",
      "Epoch4\t['loss: 0.158', 'val2_auc: 0.730', 'val3_auc: 0.664', 'val4_auc: 0.746', 'sum_auc: 2.140']\n",
      "Epoch5\t['loss: 0.157', 'val2_auc: 0.720', 'val3_auc: 0.655', 'val4_auc: 0.636', 'sum_auc: 2.012']\n",
      "Epoch6\t['loss: 0.155', 'val2_auc: 0.728', 'val3_auc: 0.674', 'val4_auc: 0.671', 'sum_auc: 2.073']\n",
      "Epoch7\t['loss: 0.154', 'val2_auc: 0.721', 'val3_auc: 0.659', 'val4_auc: 0.602', 'sum_auc: 1.982']\n",
      "Epoch8\t['loss: 0.153', 'val2_auc: 0.732', 'val3_auc: 0.663', 'val4_auc: 0.680', 'sum_auc: 2.074']\n",
      "Epoch9\t['loss: 0.153', 'val2_auc: 0.730', 'val3_auc: 0.671', 'val4_auc: 0.601', 'sum_auc: 2.002']\n",
      "Epoch 9: early stopping Threshold\n",
      "[I 2023-07-14 13:57:11,151] Trial 40 finished with value: 2.1404 and parameters: {'feature_dim': 128, 'n_step': 7, 'n_shared': 4, 'relaxation_factor': 1.4, 'sparsity_coefficient': 0.0001235807816948344, 'bn_momentum': 0.9695217340778627}. Best is trial 31 with value: 2.3143.\n",
      "Epoch0\t['loss: 0.212', 'val2_auc: 0.707', 'val3_auc: 0.732', 'val4_auc: 0.848', 'sum_auc: 2.286']\n",
      "Epoch1\t['loss: 0.158', 'val2_auc: 0.721', 'val3_auc: 0.733', 'val4_auc: 0.814', 'sum_auc: 2.268']\n",
      "Epoch2\t['loss: 0.151', 'val2_auc: 0.727', 'val3_auc: 0.735', 'val4_auc: 0.820', 'sum_auc: 2.281']\n",
      "Epoch3\t['loss: 0.147', 'val2_auc: 0.751', 'val3_auc: 0.721', 'val4_auc: 0.774', 'sum_auc: 2.246']\n",
      "Epoch4\t['loss: 0.144', 'val2_auc: 0.752', 'val3_auc: 0.713', 'val4_auc: 0.728', 'sum_auc: 2.194']\n",
      "Epoch5\t['loss: 0.142', 'val2_auc: 0.779', 'val3_auc: 0.725', 'val4_auc: 0.730', 'sum_auc: 2.233']\n",
      "Epoch 5: early stopping Threshold\n",
      "[I 2023-07-14 13:59:16,971] Trial 41 finished with value: 2.2863 and parameters: {'feature_dim': 32, 'n_step': 2, 'n_shared': 3, 'relaxation_factor': 1.1, 'sparsity_coefficient': 0.00044633882846035176, 'bn_momentum': 0.9994951437446402}. Best is trial 31 with value: 2.3143.\n",
      "Epoch0\t['loss: 0.214', 'val2_auc: 0.715', 'val3_auc: 0.700', 'val4_auc: 0.723', 'sum_auc: 2.138']\n",
      "Epoch1\t['loss: 0.156', 'val2_auc: 0.751', 'val3_auc: 0.695', 'val4_auc: 0.693', 'sum_auc: 2.138']\n",
      "Epoch2\t['loss: 0.148', 'val2_auc: 0.767', 'val3_auc: 0.685', 'val4_auc: 0.699', 'sum_auc: 2.151']\n",
      "Epoch3\t['loss: 0.145', 'val2_auc: 0.779', 'val3_auc: 0.693', 'val4_auc: 0.693', 'sum_auc: 2.165']\n",
      "Epoch4\t['loss: 0.143', 'val2_auc: 0.790', 'val3_auc: 0.693', 'val4_auc: 0.718', 'sum_auc: 2.202']\n",
      "Epoch5\t['loss: 0.141', 'val2_auc: 0.800', 'val3_auc: 0.713', 'val4_auc: 0.607', 'sum_auc: 2.120']\n",
      "Epoch6\t['loss: 0.139', 'val2_auc: 0.807', 'val3_auc: 0.715', 'val4_auc: 0.652', 'sum_auc: 2.175']\n",
      "Epoch7\t['loss: 0.138', 'val2_auc: 0.803', 'val3_auc: 0.739', 'val4_auc: 0.732', 'sum_auc: 2.274']\n",
      "Epoch8\t['loss: 0.138', 'val2_auc: 0.806', 'val3_auc: 0.711', 'val4_auc: 0.707', 'sum_auc: 2.224']\n",
      "Epoch9\t['loss: 0.137', 'val2_auc: 0.808', 'val3_auc: 0.727', 'val4_auc: 0.671', 'sum_auc: 2.205']\n",
      "[I 2023-07-14 14:02:43,890] Trial 42 finished with value: 2.2055 and parameters: {'feature_dim': 16, 'n_step': 2, 'n_shared': 3, 'relaxation_factor': 1.1, 'sparsity_coefficient': 0.00028066778246969013, 'bn_momentum': 0.994463239688736}. Best is trial 31 with value: 2.3143.\n",
      "Epoch0\t['loss: 0.175', 'val2_auc: 0.747', 'val3_auc: 0.667', 'val4_auc: 0.711', 'sum_auc: 2.125']\n",
      "Epoch1\t['loss: 0.153', 'val2_auc: 0.769', 'val3_auc: 0.664', 'val4_auc: 0.654', 'sum_auc: 2.087']\n",
      "Epoch2\t['loss: 0.148', 'val2_auc: 0.798', 'val3_auc: 0.684', 'val4_auc: 0.670', 'sum_auc: 2.152']\n",
      "Epoch3\t['loss: 0.146', 'val2_auc: 0.799', 'val3_auc: 0.685', 'val4_auc: 0.644', 'sum_auc: 2.127']\n",
      "Epoch4\t['loss: 0.144', 'val2_auc: 0.796', 'val3_auc: 0.703', 'val4_auc: 0.601', 'sum_auc: 2.100']\n",
      "Epoch5\t['loss: 0.142', 'val2_auc: 0.809', 'val3_auc: 0.708', 'val4_auc: 0.686', 'sum_auc: 2.202']\n",
      "Epoch6\t['loss: 0.139', 'val2_auc: 0.807', 'val3_auc: 0.703', 'val4_auc: 0.709', 'sum_auc: 2.219']\n",
      "Epoch7\t['loss: 0.140', 'val2_auc: 0.804', 'val3_auc: 0.682', 'val4_auc: 0.607', 'sum_auc: 2.093']\n",
      "Epoch8\t['loss: 0.137', 'val2_auc: 0.814', 'val3_auc: 0.711', 'val4_auc: 0.667', 'sum_auc: 2.191']\n",
      "Epoch9\t['loss: 0.137', 'val2_auc: 0.805', 'val3_auc: 0.677', 'val4_auc: 0.581', 'sum_auc: 2.063']\n",
      "[I 2023-07-14 14:07:24,422] Trial 43 finished with value: 2.0631 and parameters: {'feature_dim': 256, 'n_step': 2, 'n_shared': 3, 'relaxation_factor': 1.3, 'sparsity_coefficient': 0.00113689615138572, 'bn_momentum': 0.9885672230911862}. Best is trial 31 with value: 2.3143.\n",
      "Epoch0\t['loss: 0.181', 'val2_auc: 0.726', 'val3_auc: 0.691', 'val4_auc: 0.701', 'sum_auc: 2.118']\n",
      "Epoch5\t['loss: 0.142', 'val2_auc: 0.769', 'val3_auc: 0.680', 'val4_auc: 0.705', 'sum_auc: 2.153']\n",
      "Epoch6\t['loss: 0.141', 'val2_auc: 0.776', 'val3_auc: 0.691', 'val4_auc: 0.676', 'sum_auc: 2.143']\n",
      "Epoch7\t['loss: 0.139', 'val2_auc: 0.773', 'val3_auc: 0.676', 'val4_auc: 0.599', 'sum_auc: 2.048']\n",
      "Epoch8\t['loss: 0.139', 'val2_auc: 0.780', 'val3_auc: 0.697', 'val4_auc: 0.647', 'sum_auc: 2.124']\n",
      "Epoch9\t['loss: 0.138', 'val2_auc: 0.785', 'val3_auc: 0.676', 'val4_auc: 0.742', 'sum_auc: 2.202']\n",
      "[I 2023-07-14 14:12:08,248] Trial 44 finished with value: 2.2022 and parameters: {'feature_dim': 64, 'n_step': 3, 'n_shared': 2, 'relaxation_factor': 1.1, 'sparsity_coefficient': 5.645416307207666e-05, 'bn_momentum': 0.9943768270061402}. Best is trial 31 with value: 2.3143.\n",
      "Epoch0\t['loss: 0.171', 'val2_auc: 0.740', 'val3_auc: 0.686', 'val4_auc: 0.825', 'sum_auc: 2.250']\n",
      "Epoch1\t['loss: 0.151', 'val2_auc: 0.748', 'val3_auc: 0.680', 'val4_auc: 0.851', 'sum_auc: 2.279']\n",
      "Epoch2\t['loss: 0.145', 'val2_auc: 0.754', 'val3_auc: 0.670', 'val4_auc: 0.856', 'sum_auc: 2.281']\n",
      "Epoch3\t['loss: 0.140', 'val2_auc: 0.760', 'val3_auc: 0.685', 'val4_auc: 0.832', 'sum_auc: 2.277']\n",
      "Epoch4\t['loss: 0.139', 'val2_auc: 0.762', 'val3_auc: 0.683', 'val4_auc: 0.743', 'sum_auc: 2.188']\n",
      "Epoch5\t['loss: 0.137', 'val2_auc: 0.761', 'val3_auc: 0.685', 'val4_auc: 0.734', 'sum_auc: 2.180']\n",
      "Epoch6\t['loss: 0.136', 'val2_auc: 0.767', 'val3_auc: 0.670', 'val4_auc: 0.730', 'sum_auc: 2.168']\n",
      "Epoch7\t['loss: 0.136', 'val2_auc: 0.754', 'val3_auc: 0.662', 'val4_auc: 0.689', 'sum_auc: 2.105']\n",
      "Epoch 7: early stopping Threshold\n",
      "[I 2023-07-14 14:15:56,459] Trial 45 finished with value: 2.2809 and parameters: {'feature_dim': 256, 'n_step': 2, 'n_shared': 3, 'relaxation_factor': 1.8, 'sparsity_coefficient': 7.256409248329749e-06, 'bn_momentum': 0.999767835243791}. Best is trial 31 with value: 2.3143.\n",
      "Epoch0\t['loss: 0.213', 'val2_auc: 0.598', 'val3_auc: 0.599', 'val4_auc: 0.602', 'sum_auc: 1.798']\n",
      "Epoch1\t['loss: 0.167', 'val2_auc: 0.665', 'val3_auc: 0.639', 'val4_auc: 0.673', 'sum_auc: 1.978']\n",
      "Epoch2\t['loss: 0.162', 'val2_auc: 0.700', 'val3_auc: 0.666', 'val4_auc: 0.693', 'sum_auc: 2.060']\n",
      "Epoch3\t['loss: 0.158', 'val2_auc: 0.733', 'val3_auc: 0.672', 'val4_auc: 0.712', 'sum_auc: 2.117']\n",
      "Epoch4\t['loss: 0.156', 'val2_auc: 0.730', 'val3_auc: 0.682', 'val4_auc: 0.765', 'sum_auc: 2.177']\n",
      "Epoch5\t['loss: 0.154', 'val2_auc: 0.735', 'val3_auc: 0.671', 'val4_auc: 0.766', 'sum_auc: 2.172']\n",
      "Epoch6\t['loss: 0.152', 'val2_auc: 0.739', 'val3_auc: 0.659', 'val4_auc: 0.765', 'sum_auc: 2.163']\n",
      "Epoch7\t['loss: 0.151', 'val2_auc: 0.745', 'val3_auc: 0.683', 'val4_auc: 0.748', 'sum_auc: 2.176']\n",
      "Epoch8\t['loss: 0.151', 'val2_auc: 0.750', 'val3_auc: 0.666', 'val4_auc: 0.796', 'sum_auc: 2.213']\n",
      "Epoch9\t['loss: 0.150', 'val2_auc: 0.743', 'val3_auc: 0.677', 'val4_auc: 0.666', 'sum_auc: 2.086']\n",
      "[I 2023-07-14 14:22:05,513] Trial 46 finished with value: 2.0862 and parameters: {'feature_dim': 16, 'n_step': 4, 'n_shared': 1, 'relaxation_factor': 2.1, 'sparsity_coefficient': 2.393555306506817e-05, 'bn_momentum': 0.9833135939404118}. Best is trial 31 with value: 2.3143.\n",
      "Epoch0\t['loss: 0.185', 'val2_auc: 0.554', 'val3_auc: 0.497', 'val4_auc: 0.567', 'sum_auc: 1.618']\n",
      "Epoch1\t['loss: 0.170', 'val2_auc: 0.621', 'val3_auc: 0.567', 'val4_auc: 0.604', 'sum_auc: 1.792']\n",
      "Epoch2\t['loss: 0.165', 'val2_auc: 0.685', 'val3_auc: 0.657', 'val4_auc: 0.672', 'sum_auc: 2.014']\n",
      "Epoch3\t['loss: 0.161', 'val2_auc: 0.710', 'val3_auc: 0.660', 'val4_auc: 0.642', 'sum_auc: 2.012']\n",
      "Epoch4\t['loss: 0.158', 'val2_auc: 0.727', 'val3_auc: 0.654', 'val4_auc: 0.709', 'sum_auc: 2.089']\n",
      "Epoch5\t['loss: 0.156', 'val2_auc: 0.725', 'val3_auc: 0.648', 'val4_auc: 0.676', 'sum_auc: 2.048']\n",
      "Epoch6\t['loss: 0.155', 'val2_auc: 0.731', 'val3_auc: 0.681', 'val4_auc: 0.653', 'sum_auc: 2.065']\n",
      "Epoch7\t['loss: 0.154', 'val2_auc: 0.738', 'val3_auc: 0.657', 'val4_auc: 0.685', 'sum_auc: 2.079']\n",
      "Epoch8\t['loss: 0.153', 'val2_auc: 0.735', 'val3_auc: 0.689', 'val4_auc: 0.633', 'sum_auc: 2.058']\n",
      "Epoch9\t['loss: 0.152', 'val2_auc: 0.737', 'val3_auc: 0.670', 'val4_auc: 0.698', 'sum_auc: 2.104']\n",
      "[I 2023-07-14 14:34:06,783] Trial 47 finished with value: 2.1041 and parameters: {'feature_dim': 128, 'n_step': 9, 'n_shared': 2, 'relaxation_factor': 1.5, 'sparsity_coefficient': 6.014281237159105e-05, 'bn_momentum': 0.9900504776682657}. Best is trial 31 with value: 2.3143.\n",
      "Epoch0\t['loss: 0.210', 'val2_auc: 0.642', 'val3_auc: 0.623', 'val4_auc: 0.644', 'sum_auc: 1.909']\n",
      "Epoch1\t['loss: 0.169', 'val2_auc: 0.667', 'val3_auc: 0.669', 'val4_auc: 0.667', 'sum_auc: 2.003']\n",
      "Epoch2\t['loss: 0.166', 'val2_auc: 0.693', 'val3_auc: 0.701', 'val4_auc: 0.712', 'sum_auc: 2.106']\n",
      "Epoch3\t['loss: 0.160', 'val2_auc: 0.734', 'val3_auc: 0.696', 'val4_auc: 0.684', 'sum_auc: 2.114']\n",
      "Epoch4\t['loss: 0.155', 'val2_auc: 0.755', 'val3_auc: 0.708', 'val4_auc: 0.742', 'sum_auc: 2.204']\n",
      "Epoch5\t['loss: 0.151', 'val2_auc: 0.766', 'val3_auc: 0.709', 'val4_auc: 0.800', 'sum_auc: 2.275']\n",
      "Epoch6\t['loss: 0.149', 'val2_auc: 0.772', 'val3_auc: 0.698', 'val4_auc: 0.782', 'sum_auc: 2.252']\n",
      "Epoch7\t['loss: 0.147', 'val2_auc: 0.779', 'val3_auc: 0.699', 'val4_auc: 0.818', 'sum_auc: 2.296']\n",
      "Epoch8\t['loss: 0.147', 'val2_auc: 0.780', 'val3_auc: 0.734', 'val4_auc: 0.802', 'sum_auc: 2.317']\n",
      "Epoch9\t['loss: 0.146', 'val2_auc: 0.783', 'val3_auc: 0.729', 'val4_auc: 0.785', 'sum_auc: 2.297']\n",
      "[I 2023-07-14 14:38:48,930] Trial 48 finished with value: 2.2969 and parameters: {'feature_dim': 32, 'n_step': 3, 'n_shared': 4, 'relaxation_factor': 1.2, 'sparsity_coefficient': 0.0003990515986971999, 'bn_momentum': 0.9953676697967752}. Best is trial 31 with value: 2.3143.\n",
      "Epoch0\t['loss: 0.177', 'val2_auc: 0.757', 'val3_auc: 0.715', 'val4_auc: 0.742', 'sum_auc: 2.214']\n",
      "Epoch1\t['loss: 0.152', 'val2_auc: 0.762', 'val3_auc: 0.677', 'val4_auc: 0.673', 'sum_auc: 2.112']\n",
      "Epoch2\t['loss: 0.147', 'val2_auc: 0.773', 'val3_auc: 0.710', 'val4_auc: 0.666', 'sum_auc: 2.149']\n",
      "Epoch3\t['loss: 0.146', 'val2_auc: 0.775', 'val3_auc: 0.704', 'val4_auc: 0.601', 'sum_auc: 2.080']\n",
      "Epoch4\t['loss: 0.143', 'val2_auc: 0.779', 'val3_auc: 0.730', 'val4_auc: 0.635', 'sum_auc: 2.144']\n",
      "Epoch5\t['loss: 0.142', 'val2_auc: 0.788', 'val3_auc: 0.744', 'val4_auc: 0.714', 'sum_auc: 2.245']\n",
      "Epoch6\t['loss: 0.140', 'val2_auc: 0.795', 'val3_auc: 0.712', 'val4_auc: 0.618', 'sum_auc: 2.124']\n",
      "Epoch7\t['loss: 0.139', 'val2_auc: 0.799', 'val3_auc: 0.738', 'val4_auc: 0.735', 'sum_auc: 2.272']\n",
      "Epoch8\t['loss: 0.137', 'val2_auc: 0.804', 'val3_auc: 0.746', 'val4_auc: 0.711', 'sum_auc: 2.261']\n",
      "Epoch9\t['loss: 0.136', 'val2_auc: 0.806', 'val3_auc: 0.750', 'val4_auc: 0.763', 'sum_auc: 2.319']\n",
      "[I 2023-07-14 14:45:07,265] Trial 49 finished with value: 2.3189 and parameters: {'feature_dim': 256, 'n_step': 3, 'n_shared': 4, 'relaxation_factor': 1.0, 'sparsity_coefficient': 0.00013133458634616966, 'bn_momentum': 0.995789181142114}. Best is trial 49 with value: 2.3189.\n",
      "Epoch0\t['loss: 0.177', 'val2_auc: 0.754', 'val3_auc: 0.694', 'val4_auc: 0.703', 'sum_auc: 2.152']\n",
      "Epoch1\t['loss: 0.155', 'val2_auc: 0.736', 'val3_auc: 0.673', 'val4_auc: 0.616', 'sum_auc: 2.026']\n",
      "Epoch2\t['loss: 0.149', 'val2_auc: 0.762', 'val3_auc: 0.685', 'val4_auc: 0.624', 'sum_auc: 2.072']\n",
      "Epoch3\t['loss: 0.147', 'val2_auc: 0.764', 'val3_auc: 0.684', 'val4_auc: 0.707', 'sum_auc: 2.156']\n",
      "Epoch4\t['loss: 0.145', 'val2_auc: 0.777', 'val3_auc: 0.710', 'val4_auc: 0.613', 'sum_auc: 2.101']\n",
      "Epoch5\t['loss: 0.143', 'val2_auc: 0.777', 'val3_auc: 0.712', 'val4_auc: 0.748', 'sum_auc: 2.237']\n",
      "Epoch6\t['loss: 0.143', 'val2_auc: 0.778', 'val3_auc: 0.698', 'val4_auc: 0.633', 'sum_auc: 2.110']\n",
      "Epoch7\t['loss: 0.143', 'val2_auc: 0.780', 'val3_auc: 0.714', 'val4_auc: 0.630', 'sum_auc: 2.124']\n",
      "Epoch8\t['loss: 0.142', 'val2_auc: 0.781', 'val3_auc: 0.698', 'val4_auc: 0.700', 'sum_auc: 2.179']\n",
      "Epoch9\t['loss: 0.140', 'val2_auc: 0.778', 'val3_auc: 0.694', 'val4_auc: 0.675', 'sum_auc: 2.147']\n",
      "[I 2023-07-14 14:51:24,118] Trial 50 finished with value: 2.1466 and parameters: {'feature_dim': 256, 'n_step': 3, 'n_shared': 4, 'relaxation_factor': 1.0, 'sparsity_coefficient': 0.0001603214729305239, 'bn_momentum': 0.9851664705325368}. Best is trial 49 with value: 2.3189.\n",
      "Epoch0\t['loss: 0.185', 'val2_auc: 0.730', 'val3_auc: 0.667', 'val4_auc: 0.720', 'sum_auc: 2.118']\n",
      "Epoch2\t['loss: 0.160', 'val2_auc: 0.731', 'val3_auc: 0.694', 'val4_auc: 0.699', 'sum_auc: 2.124']\n",
      "Epoch3\t['loss: 0.155', 'val2_auc: 0.744', 'val3_auc: 0.679', 'val4_auc: 0.716', 'sum_auc: 2.139']\n",
      "Epoch4\t['loss: 0.151', 'val2_auc: 0.746', 'val3_auc: 0.693', 'val4_auc: 0.633', 'sum_auc: 2.072']\n",
      "Epoch5\t['loss: 0.149', 'val2_auc: 0.741', 'val3_auc: 0.691', 'val4_auc: 0.533', 'sum_auc: 1.966']\n",
      "Epoch6\t['loss: 0.148', 'val2_auc: 0.746', 'val3_auc: 0.700', 'val4_auc: 0.680', 'sum_auc: 2.126']\n",
      "Epoch7\t['loss: 0.147', 'val2_auc: 0.750', 'val3_auc: 0.685', 'val4_auc: 0.685', 'sum_auc: 2.120']\n",
      "Epoch8\t['loss: 0.147', 'val2_auc: 0.736', 'val3_auc: 0.671', 'val4_auc: 0.557', 'sum_auc: 1.964']\n",
      "Epoch 8: early stopping Threshold\n",
      "[I 2023-07-14 15:03:44,588] Trial 51 finished with value: 2.1391 and parameters: {'feature_dim': 256, 'n_step': 8, 'n_shared': 4, 'relaxation_factor': 1.1, 'sparsity_coefficient': 9.360871725291956e-05, 'bn_momentum': 0.9958829081406799}. Best is trial 49 with value: 2.3189.\n",
      "Epoch0\t['loss: 0.179', 'val2_auc: 0.740', 'val3_auc: 0.671', 'val4_auc: 0.802', 'sum_auc: 2.213']\n",
      "Epoch1\t['loss: 0.159', 'val2_auc: 0.733', 'val3_auc: 0.661', 'val4_auc: 0.709', 'sum_auc: 2.103']\n",
      "Epoch2\t['loss: 0.152', 'val2_auc: 0.761', 'val3_auc: 0.665', 'val4_auc: 0.575', 'sum_auc: 2.002']\n",
      "Epoch3\t['loss: 0.146', 'val2_auc: 0.773', 'val3_auc: 0.696', 'val4_auc: 0.614', 'sum_auc: 2.083']\n",
      "Epoch4\t['loss: 0.144', 'val2_auc: 0.773', 'val3_auc: 0.710', 'val4_auc: 0.564', 'sum_auc: 2.048']\n",
      "Epoch5\t['loss: 0.141', 'val2_auc: 0.781', 'val3_auc: 0.713', 'val4_auc: 0.577', 'sum_auc: 2.071']\n",
      "Epoch 5: early stopping Threshold\n",
      "[I 2023-07-14 15:07:36,232] Trial 52 finished with value: 2.2132 and parameters: {'feature_dim': 256, 'n_step': 3, 'n_shared': 4, 'relaxation_factor': 1.3, 'sparsity_coefficient': 4.537432248340084e-05, 'bn_momentum': 0.9955480885964809}. Best is trial 49 with value: 2.3189.\n",
      "Epoch0\t['loss: 0.180', 'val2_auc: 0.719', 'val3_auc: 0.659', 'val4_auc: 0.664', 'sum_auc: 2.043']\n",
      "Epoch1\t['loss: 0.157', 'val2_auc: 0.743', 'val3_auc: 0.665', 'val4_auc: 0.638', 'sum_auc: 2.046']\n",
      "Epoch2\t['loss: 0.150', 'val2_auc: 0.766', 'val3_auc: 0.701', 'val4_auc: 0.694', 'sum_auc: 2.162']\n",
      "Epoch3\t['loss: 0.145', 'val2_auc: 0.774', 'val3_auc: 0.709', 'val4_auc: 0.567', 'sum_auc: 2.050']\n",
      "Epoch4\t['loss: 0.143', 'val2_auc: 0.784', 'val3_auc: 0.720', 'val4_auc: 0.609', 'sum_auc: 2.113']\n",
      "Epoch5\t['loss: 0.142', 'val2_auc: 0.779', 'val3_auc: 0.695', 'val4_auc: 0.660', 'sum_auc: 2.135']\n",
      "Epoch6\t['loss: 0.142', 'val2_auc: 0.782', 'val3_auc: 0.730', 'val4_auc: 0.657', 'sum_auc: 2.169']\n",
      "Epoch7\t['loss: 0.141', 'val2_auc: 0.787', 'val3_auc: 0.730', 'val4_auc: 0.687', 'sum_auc: 2.204']\n",
      "Epoch8\t['loss: 0.139', 'val2_auc: 0.792', 'val3_auc: 0.726', 'val4_auc: 0.599', 'sum_auc: 2.117']\n",
      "Epoch9\t['loss: 0.138', 'val2_auc: 0.791', 'val3_auc: 0.738', 'val4_auc: 0.595', 'sum_auc: 2.124']\n",
      "[I 2023-07-14 15:15:26,013] Trial 53 finished with value: 2.1239 and parameters: {'feature_dim': 256, 'n_step': 4, 'n_shared': 4, 'relaxation_factor': 1.0, 'sparsity_coefficient': 0.0002681979688375612, 'bn_momentum': 0.9877121585413458}. Best is trial 49 with value: 2.3189.\n",
      "Epoch0\t['loss: 0.194', 'val2_auc: 0.719', 'val3_auc: 0.678', 'val4_auc: 0.833', 'sum_auc: 2.229']\n",
      "Epoch1\t['loss: 0.166', 'val2_auc: 0.760', 'val3_auc: 0.675', 'val4_auc: 0.858', 'sum_auc: 2.293']\n",
      "Epoch2\t['loss: 0.160', 'val2_auc: 0.746', 'val3_auc: 0.687', 'val4_auc: 0.855', 'sum_auc: 2.288']\n",
      "Epoch3\t['loss: 0.157', 'val2_auc: 0.758', 'val3_auc: 0.684', 'val4_auc: 0.860', 'sum_auc: 2.302']\n",
      "Epoch4\t['loss: 0.155', 'val2_auc: 0.749', 'val3_auc: 0.681', 'val4_auc: 0.859', 'sum_auc: 2.290']\n",
      "Epoch5\t['loss: 0.153', 'val2_auc: 0.766', 'val3_auc: 0.685', 'val4_auc: 0.859', 'sum_auc: 2.310']\n",
      "Epoch6\t['loss: 0.152', 'val2_auc: 0.768', 'val3_auc: 0.695', 'val4_auc: 0.856', 'sum_auc: 2.319']\n",
      "Epoch7\t['loss: 0.151', 'val2_auc: 0.760', 'val3_auc: 0.684', 'val4_auc: 0.852', 'sum_auc: 2.297']\n",
      "Epoch8\t['loss: 0.150', 'val2_auc: 0.746', 'val3_auc: 0.682', 'val4_auc: 0.822', 'sum_auc: 2.251']\n",
      "Epoch9\t['loss: 0.150', 'val2_auc: 0.766', 'val3_auc: 0.682', 'val4_auc: 0.857', 'sum_auc: 2.306']\n",
      "[I 2023-07-14 15:23:45,816] Trial 54 finished with value: 2.3057 and parameters: {'feature_dim': 128, 'n_step': 6, 'n_shared': 4, 'relaxation_factor': 1.2, 'sparsity_coefficient': 1.959495692268293e-05, 'bn_momentum': 0.9997440949716035}. Best is trial 49 with value: 2.3189.\n",
      "Epoch0\t['loss: 0.213', 'val2_auc: 0.588', 'val3_auc: 0.598', 'val4_auc: 0.553', 'sum_auc: 1.739']\n",
      "Epoch1\t['loss: 0.169', 'val2_auc: 0.657', 'val3_auc: 0.635', 'val4_auc: 0.603', 'sum_auc: 1.895']\n",
      "Epoch2\t['loss: 0.164', 'val2_auc: 0.698', 'val3_auc: 0.674', 'val4_auc: 0.667', 'sum_auc: 2.038']\n",
      "Epoch3\t['loss: 0.160', 'val2_auc: 0.717', 'val3_auc: 0.668', 'val4_auc: 0.683', 'sum_auc: 2.069']\n",
      "Epoch4\t['loss: 0.158', 'val2_auc: 0.715', 'val3_auc: 0.663', 'val4_auc: 0.625', 'sum_auc: 2.004']\n",
      "Epoch5\t['loss: 0.156', 'val2_auc: 0.719', 'val3_auc: 0.666', 'val4_auc: 0.623', 'sum_auc: 2.008']\n",
      "Epoch6\t['loss: 0.154', 'val2_auc: 0.725', 'val3_auc: 0.658', 'val4_auc: 0.640', 'sum_auc: 2.024']\n",
      "Epoch7\t['loss: 0.153', 'val2_auc: 0.733', 'val3_auc: 0.663', 'val4_auc: 0.693', 'sum_auc: 2.090']\n",
      "Epoch8\t['loss: 0.152', 'val2_auc: 0.742', 'val3_auc: 0.668', 'val4_auc: 0.574', 'sum_auc: 1.984']\n",
      "Epoch9\t['loss: 0.151', 'val2_auc: 0.726', 'val3_auc: 0.664', 'val4_auc: 0.640', 'sum_auc: 2.031']\n",
      "[I 2023-07-14 15:31:48,794] Trial 55 finished with value: 2.0308 and parameters: {'feature_dim': 64, 'n_step': 6, 'n_shared': 4, 'relaxation_factor': 1.4, 'sparsity_coefficient': 8.044277009099852e-05, 'bn_momentum': 0.9896514308382856}. Best is trial 49 with value: 2.3189.\n",
      "Epoch0\t['loss: 0.197', 'val2_auc: 0.650', 'val3_auc: 0.665', 'val4_auc: 0.712', 'sum_auc: 2.028']\n",
      "Epoch1\t['loss: 0.169', 'val2_auc: 0.661', 'val3_auc: 0.637', 'val4_auc: 0.667', 'sum_auc: 1.965']\n",
      "Epoch2\t['loss: 0.163', 'val2_auc: 0.706', 'val3_auc: 0.668', 'val4_auc: 0.671', 'sum_auc: 2.045']\n",
      "Epoch3\t['loss: 0.161', 'val2_auc: 0.705', 'val3_auc: 0.656', 'val4_auc: 0.707', 'sum_auc: 2.068']\n",
      "Epoch4\t['loss: 0.157', 'val2_auc: 0.726', 'val3_auc: 0.660', 'val4_auc: 0.711', 'sum_auc: 2.097']\n",
      "Epoch5\t['loss: 0.155', 'val2_auc: 0.735', 'val3_auc: 0.662', 'val4_auc: 0.640', 'sum_auc: 2.038']\n",
      "Epoch6\t['loss: 0.152', 'val2_auc: 0.745', 'val3_auc: 0.666', 'val4_auc: 0.642', 'sum_auc: 2.052']\n",
      "Epoch7\t['loss: 0.150', 'val2_auc: 0.747', 'val3_auc: 0.666', 'val4_auc: 0.613', 'sum_auc: 2.026']\n",
      "Epoch8\t['loss: 0.150', 'val2_auc: 0.745', 'val3_auc: 0.675', 'val4_auc: 0.610', 'sum_auc: 2.030']\n",
      "Epoch9\t['loss: 0.149', 'val2_auc: 0.735', 'val3_auc: 0.671', 'val4_auc: 0.530', 'sum_auc: 1.936']\n",
      "Epoch 9: early stopping Threshold\n",
      "[I 2023-07-14 15:39:52,030] Trial 56 finished with value: 2.0968 and parameters: {'feature_dim': 32, 'n_step': 6, 'n_shared': 4, 'relaxation_factor': 1.2, 'sparsity_coefficient': 2.7302760829189872e-05, 'bn_momentum': 0.9953449465789945}. Best is trial 49 with value: 2.3189.\n",
      "Epoch0\t['loss: 0.195', 'val2_auc: 0.738', 'val3_auc: 0.688', 'val4_auc: 0.826', 'sum_auc: 2.253']\n",
      "Epoch1\t['loss: 0.165', 'val2_auc: 0.731', 'val3_auc: 0.688', 'val4_auc: 0.708', 'sum_auc: 2.126']\n",
      "Epoch2\t['loss: 0.159', 'val2_auc: 0.736', 'val3_auc: 0.696', 'val4_auc: 0.657', 'sum_auc: 2.089']\n",
      "Epoch3\t['loss: 0.156', 'val2_auc: 0.742', 'val3_auc: 0.673', 'val4_auc: 0.625', 'sum_auc: 2.041']\n",
      "Epoch4\t['loss: 0.153', 'val2_auc: 0.750', 'val3_auc: 0.687', 'val4_auc: 0.692', 'sum_auc: 2.128']\n",
      "Epoch5\t['loss: 0.151', 'val2_auc: 0.747', 'val3_auc: 0.706', 'val4_auc: 0.664', 'sum_auc: 2.117']\n",
      "Epoch 5: early stopping Threshold\n",
      "[I 2023-07-14 15:44:19,387] Trial 57 finished with value: 2.2527 and parameters: {'feature_dim': 128, 'n_step': 5, 'n_shared': 4, 'relaxation_factor': 1.1, 'sparsity_coefficient': 0.0018008992044165632, 'bn_momentum': 0.9966454387252991}. Best is trial 49 with value: 2.3189.\n",
      "Epoch0\t['loss: 0.229', 'val2_auc: 0.611', 'val3_auc: 0.599', 'val4_auc: 0.568', 'sum_auc: 1.777']\n",
      "Epoch1\t['loss: 0.167', 'val2_auc: 0.670', 'val3_auc: 0.644', 'val4_auc: 0.665', 'sum_auc: 1.980']\n",
      "Epoch2\t['loss: 0.164', 'val2_auc: 0.683', 'val3_auc: 0.653', 'val4_auc: 0.643', 'sum_auc: 1.979']\n",
      "Epoch3\t['loss: 0.162', 'val2_auc: 0.703', 'val3_auc: 0.636', 'val4_auc: 0.697', 'sum_auc: 2.037']\n",
      "Epoch4\t['loss: 0.159', 'val2_auc: 0.712', 'val3_auc: 0.639', 'val4_auc: 0.650', 'sum_auc: 2.001']\n",
      "Epoch5\t['loss: 0.157', 'val2_auc: 0.729', 'val3_auc: 0.649', 'val4_auc: 0.680', 'sum_auc: 2.058']\n",
      "Epoch6\t['loss: 0.155', 'val2_auc: 0.731', 'val3_auc: 0.657', 'val4_auc: 0.676', 'sum_auc: 2.064']\n",
      "Epoch7\t['loss: 0.154', 'val2_auc: 0.728', 'val3_auc: 0.653', 'val4_auc: 0.590', 'sum_auc: 1.971']\n",
      "Epoch8\t['loss: 0.152', 'val2_auc: 0.739', 'val3_auc: 0.662', 'val4_auc: 0.719', 'sum_auc: 2.120']\n",
      "Epoch9\t['loss: 0.151', 'val2_auc: 0.739', 'val3_auc: 0.655', 'val4_auc: 0.614', 'sum_auc: 2.009']\n",
      "[I 2023-07-14 15:53:41,091] Trial 58 finished with value: 2.0085 and parameters: {'feature_dim': 16, 'n_step': 7, 'n_shared': 4, 'relaxation_factor': 1.0, 'sparsity_coefficient': 0.00016777669229964078, 'bn_momentum': 0.9776567139060013}. Best is trial 49 with value: 2.3189.\n",
      "Epoch0\t['loss: 0.175', 'val2_auc: 0.685', 'val3_auc: 0.663', 'val4_auc: 0.655', 'sum_auc: 2.004']\n",
      "Epoch1\t['loss: 0.161', 'val2_auc: 0.714', 'val3_auc: 0.664', 'val4_auc: 0.701', 'sum_auc: 2.079']\n",
      "Epoch2\t['loss: 0.155', 'val2_auc: 0.745', 'val3_auc: 0.679', 'val4_auc: 0.749', 'sum_auc: 2.172']\n",
      "Epoch3\t['loss: 0.154', 'val2_auc: 0.742', 'val3_auc: 0.668', 'val4_auc: 0.645', 'sum_auc: 2.055']\n",
      "Epoch4\t['loss: 0.152', 'val2_auc: 0.741', 'val3_auc: 0.660', 'val4_auc: 0.660', 'sum_auc: 2.061']\n",
      "Epoch5\t['loss: 0.151', 'val2_auc: 0.749', 'val3_auc: 0.652', 'val4_auc: 0.696', 'sum_auc: 2.097']\n",
      "Epoch6\t['loss: 0.151', 'val2_auc: 0.746', 'val3_auc: 0.672', 'val4_auc: 0.708', 'sum_auc: 2.126']\n",
      "Epoch7\t['loss: 0.151', 'val2_auc: 0.749', 'val3_auc: 0.661', 'val4_auc: 0.662', 'sum_auc: 2.072']\n",
      "Epoch 7: early stopping Threshold\n",
      "[I 2023-07-14 16:02:11,572] Trial 59 finished with value: 2.1725 and parameters: {'feature_dim': 256, 'n_step': 6, 'n_shared': 1, 'relaxation_factor': 1.3, 'sparsity_coefficient': 3.3863804528666787e-06, 'bn_momentum': 0.9865603530891418}. Best is trial 49 with value: 2.3189.\n",
      "Epoch0\t['loss: 0.187', 'val2_auc: 0.754', 'val3_auc: 0.643', 'val4_auc: 0.792', 'sum_auc: 2.190']\n",
      "Epoch1\t['loss: 0.162', 'val2_auc: 0.755', 'val3_auc: 0.692', 'val4_auc: 0.771', 'sum_auc: 2.219']\n",
      "Epoch2\t['loss: 0.158', 'val2_auc: 0.755', 'val3_auc: 0.715', 'val4_auc: 0.741', 'sum_auc: 2.211']\n",
      "Epoch3\t['loss: 0.155', 'val2_auc: 0.719', 'val3_auc: 0.674', 'val4_auc: 0.564', 'sum_auc: 1.958']\n",
      "Epoch4\t['loss: 0.153', 'val2_auc: 0.721', 'val3_auc: 0.670', 'val4_auc: 0.602', 'sum_auc: 1.993']\n",
      "Epoch5\t['loss: 0.150', 'val2_auc: 0.711', 'val3_auc: 0.688', 'val4_auc: 0.569', 'sum_auc: 1.968']\n",
      "Epoch6\t['loss: 0.149', 'val2_auc: 0.718', 'val3_auc: 0.671', 'val4_auc: 0.535', 'sum_auc: 1.925']\n",
      "Epoch 6: early stopping Threshold\n",
      "[I 2023-07-14 16:06:21,349] Trial 60 finished with value: 2.2185 and parameters: {'feature_dim': 128, 'n_step': 4, 'n_shared': 4, 'relaxation_factor': 1.2, 'sparsity_coefficient': 3.9336290012986225e-05, 'bn_momentum': 0.9998557968495816}. Best is trial 49 with value: 2.3189.\n",
      "Epoch0\t['loss: 0.189', 'val2_auc: 0.546', 'val3_auc: 0.530', 'val4_auc: 0.632', 'sum_auc: 1.708']\n",
      "Epoch1\t['loss: 0.169', 'val2_auc: 0.678', 'val3_auc: 0.651', 'val4_auc: 0.704', 'sum_auc: 2.033']\n",
      "Epoch2\t['loss: 0.164', 'val2_auc: 0.704', 'val3_auc: 0.642', 'val4_auc: 0.659', 'sum_auc: 2.005']\n",
      "Epoch3\t['loss: 0.160', 'val2_auc: 0.717', 'val3_auc: 0.668', 'val4_auc: 0.714', 'sum_auc: 2.099']\n",
      "Epoch4\t['loss: 0.155', 'val2_auc: 0.734', 'val3_auc: 0.685', 'val4_auc: 0.745', 'sum_auc: 2.163']\n",
      "Epoch5\t['loss: 0.153', 'val2_auc: 0.738', 'val3_auc: 0.671', 'val4_auc: 0.678', 'sum_auc: 2.087']\n",
      "Epoch6\t['loss: 0.152', 'val2_auc: 0.747', 'val3_auc: 0.677', 'val4_auc: 0.748', 'sum_auc: 2.172']\n",
      "Epoch7\t['loss: 0.150', 'val2_auc: 0.745', 'val3_auc: 0.684', 'val4_auc: 0.725', 'sum_auc: 2.154']\n",
      "Epoch8\t['loss: 0.149', 'val2_auc: 0.753', 'val3_auc: 0.691', 'val4_auc: 0.716', 'sum_auc: 2.161']\n",
      "Epoch9\t['loss: 0.148', 'val2_auc: 0.750', 'val3_auc: 0.683', 'val4_auc: 0.685', 'sum_auc: 2.118']\n",
      "[I 2023-07-14 16:11:15,215] Trial 61 finished with value: 2.1178 and parameters: {'feature_dim': 128, 'n_step': 3, 'n_shared': 4, 'relaxation_factor': 2.4000000000000004, 'sparsity_coefficient': 1.6728040188892077e-05, 'bn_momentum': 0.9966137949818046}. Best is trial 49 with value: 2.3189.\n",
      "Epoch0\t['loss: 0.179', 'val2_auc: 0.735', 'val3_auc: 0.664', 'val4_auc: 0.745', 'sum_auc: 2.143']\n",
      "Epoch1\t['loss: 0.152', 'val2_auc: 0.772', 'val3_auc: 0.665', 'val4_auc: 0.625', 'sum_auc: 2.062']\n",
      "Epoch2\t['loss: 0.147', 'val2_auc: 0.784', 'val3_auc: 0.726', 'val4_auc: 0.711', 'sum_auc: 2.220']\n",
      "Epoch3\t['loss: 0.144', 'val2_auc: 0.791', 'val3_auc: 0.637', 'val4_auc: 0.591', 'sum_auc: 2.019']\n",
      "Epoch4\t['loss: 0.143', 'val2_auc: 0.784', 'val3_auc: 0.679', 'val4_auc: 0.624', 'sum_auc: 2.087']\n",
      "Epoch5\t['loss: 0.141', 'val2_auc: 0.792', 'val3_auc: 0.724', 'val4_auc: 0.673', 'sum_auc: 2.190']\n",
      "Epoch6\t['loss: 0.140', 'val2_auc: 0.793', 'val3_auc: 0.649', 'val4_auc: 0.635', 'sum_auc: 2.077']\n",
      "Epoch7\t['loss: 0.141', 'val2_auc: 0.799', 'val3_auc: 0.666', 'val4_auc: 0.557', 'sum_auc: 2.022']\n",
      "Epoch 7: early stopping Threshold\n",
      "[I 2023-07-14 16:14:04,975] Trial 62 finished with value: 2.22 and parameters: {'feature_dim': 128, 'n_step': 2, 'n_shared': 4, 'relaxation_factor': 2.1, 'sparsity_coefficient': 2.0469169019872964e-05, 'bn_momentum': 0.991047516893711}. Best is trial 49 with value: 2.3189.\n",
      "Epoch0\t['loss: 0.182', 'val2_auc: 0.752', 'val3_auc: 0.700', 'val4_auc: 0.813', 'sum_auc: 2.265']\n",
      "Epoch1\t['loss: 0.152', 'val2_auc: 0.764', 'val3_auc: 0.682', 'val4_auc: 0.682', 'sum_auc: 2.129']\n",
      "Epoch2\t['loss: 0.146', 'val2_auc: 0.777', 'val3_auc: 0.701', 'val4_auc: 0.710', 'sum_auc: 2.188']\n",
      "Epoch3\t['loss: 0.143', 'val2_auc: 0.785', 'val3_auc: 0.706', 'val4_auc: 0.684', 'sum_auc: 2.175']\n",
      "Epoch4\t['loss: 0.142', 'val2_auc: 0.781', 'val3_auc: 0.688', 'val4_auc: 0.670', 'sum_auc: 2.139']\n",
      "Epoch5\t['loss: 0.140', 'val2_auc: 0.788', 'val3_auc: 0.685', 'val4_auc: 0.721', 'sum_auc: 2.194']\n",
      "Epoch 5: early stopping Threshold\n",
      "[I 2023-07-14 16:17:05,149] Trial 63 finished with value: 2.2651 and parameters: {'feature_dim': 128, 'n_step': 3, 'n_shared': 4, 'relaxation_factor': 1.1, 'sparsity_coefficient': 1.0970623751411055e-05, 'bn_momentum': 0.9966196731726596}. Best is trial 49 with value: 2.3189.\n",
      "Epoch0\t['loss: 0.172', 'val2_auc: 0.745', 'val3_auc: 0.655', 'val4_auc: 0.652', 'sum_auc: 2.052']\n",
      "Epoch1\t['loss: 0.152', 'val2_auc: 0.774', 'val3_auc: 0.681', 'val4_auc: 0.664', 'sum_auc: 2.119']\n",
      "Epoch2\t['loss: 0.145', 'val2_auc: 0.781', 'val3_auc: 0.710', 'val4_auc: 0.709', 'sum_auc: 2.200']\n",
      "Epoch3\t['loss: 0.142', 'val2_auc: 0.796', 'val3_auc: 0.722', 'val4_auc: 0.706', 'sum_auc: 2.225']\n",
      "Epoch4\t['loss: 0.140', 'val2_auc: 0.804', 'val3_auc: 0.723', 'val4_auc: 0.653', 'sum_auc: 2.179']\n",
      "Epoch5\t['loss: 0.139', 'val2_auc: 0.811', 'val3_auc: 0.722', 'val4_auc: 0.630', 'sum_auc: 2.164']\n",
      "Epoch6\t['loss: 0.138', 'val2_auc: 0.811', 'val3_auc: 0.717', 'val4_auc: 0.613', 'sum_auc: 2.140']\n",
      "Epoch7\t['loss: 0.136', 'val2_auc: 0.812', 'val3_auc: 0.723', 'val4_auc: 0.578', 'sum_auc: 2.114']\n",
      "Epoch8\t['loss: 0.135', 'val2_auc: 0.811', 'val3_auc: 0.719', 'val4_auc: 0.671', 'sum_auc: 2.202']\n",
      "Epoch 8: early stopping Threshold\n",
      "[I 2023-07-14 16:20:21,427] Trial 64 finished with value: 2.2248 and parameters: {'feature_dim': 128, 'n_step': 2, 'n_shared': 3, 'relaxation_factor': 1.0, 'sparsity_coefficient': 9.76009622413215e-05, 'bn_momentum': 0.9921909467545443}. Best is trial 49 with value: 2.3189.\n",
      "Epoch0\t['loss: 0.220', 'val2_auc: 0.529', 'val3_auc: 0.505', 'val4_auc: 0.542', 'sum_auc: 1.576']\n",
      "Epoch1\t['loss: 0.171', 'val2_auc: 0.546', 'val3_auc: 0.573', 'val4_auc: 0.577', 'sum_auc: 1.697']\n",
      "Epoch2\t['loss: 0.170', 'val2_auc: 0.618', 'val3_auc: 0.582', 'val4_auc: 0.607', 'sum_auc: 1.807']\n",
      "Epoch3\t['loss: 0.164', 'val2_auc: 0.662', 'val3_auc: 0.638', 'val4_auc: 0.665', 'sum_auc: 1.965']\n",
      "Epoch4\t['loss: 0.162', 'val2_auc: 0.694', 'val3_auc: 0.658', 'val4_auc: 0.685', 'sum_auc: 2.036']\n",
      "Epoch5\t['loss: 0.161', 'val2_auc: 0.700', 'val3_auc: 0.661', 'val4_auc: 0.689', 'sum_auc: 2.050']\n",
      "Epoch6\t['loss: 0.158', 'val2_auc: 0.714', 'val3_auc: 0.662', 'val4_auc: 0.650', 'sum_auc: 2.026']\n",
      "Epoch7\t['loss: 0.156', 'val2_auc: 0.721', 'val3_auc: 0.668', 'val4_auc: 0.680', 'sum_auc: 2.069']\n",
      "Epoch8\t['loss: 0.156', 'val2_auc: 0.721', 'val3_auc: 0.672', 'val4_auc: 0.749', 'sum_auc: 2.143']\n",
      "Epoch9\t['loss: 0.155', 'val2_auc: 0.727', 'val3_auc: 0.678', 'val4_auc: 0.642', 'sum_auc: 2.046']\n",
      "[I 2023-07-14 16:27:07,412] Trial 65 finished with value: 2.0465 and parameters: {'feature_dim': 32, 'n_step': 5, 'n_shared': 4, 'relaxation_factor': 1.7000000000000002, 'sparsity_coefficient': 4.728160494274513e-05, 'bn_momentum': 0.9976622382321227}. Best is trial 49 with value: 2.3189.\n",
      "Epoch0\t['loss: 0.221', 'val2_auc: 0.579', 'val3_auc: 0.650', 'val4_auc: 0.628', 'sum_auc: 1.857']\n",
      "Epoch1\t['loss: 0.166', 'val2_auc: 0.709', 'val3_auc: 0.708', 'val4_auc: 0.752', 'sum_auc: 2.168']\n",
      "Epoch2\t['loss: 0.159', 'val2_auc: 0.742', 'val3_auc: 0.692', 'val4_auc: 0.771', 'sum_auc: 2.205']\n",
      "Epoch3\t['loss: 0.155', 'val2_auc: 0.743', 'val3_auc: 0.690', 'val4_auc: 0.763', 'sum_auc: 2.196']\n",
      "Epoch4\t['loss: 0.152', 'val2_auc: 0.749', 'val3_auc: 0.713', 'val4_auc: 0.786', 'sum_auc: 2.249']\n",
      "Epoch5\t['loss: 0.151', 'val2_auc: 0.755', 'val3_auc: 0.715', 'val4_auc: 0.771', 'sum_auc: 2.240']\n",
      "Epoch6\t['loss: 0.148', 'val2_auc: 0.760', 'val3_auc: 0.722', 'val4_auc: 0.774', 'sum_auc: 2.256']\n",
      "Epoch7\t['loss: 0.146', 'val2_auc: 0.764', 'val3_auc: 0.731', 'val4_auc: 0.766', 'sum_auc: 2.261']\n",
      "Epoch8\t['loss: 0.145', 'val2_auc: 0.756', 'val3_auc: 0.729', 'val4_auc: 0.779', 'sum_auc: 2.264']\n",
      "Epoch9\t['loss: 0.144', 'val2_auc: 0.754', 'val3_auc: 0.740', 'val4_auc: 0.779', 'sum_auc: 2.273']\n",
      "[I 2023-07-14 16:31:54,610] Trial 66 finished with value: 2.2728 and parameters: {'feature_dim': 8, 'n_step': 3, 'n_shared': 2, 'relaxation_factor': 1.2, 'sparsity_coefficient': 0.0006455917996580439, 'bn_momentum': 0.9897072236986766}. Best is trial 49 with value: 2.3189.\n",
      "Epoch0\t['loss: 0.175', 'val2_auc: 0.722', 'val3_auc: 0.634', 'val4_auc: 0.650', 'sum_auc: 2.005']\n",
      "Epoch1\t['loss: 0.155', 'val2_auc: 0.770', 'val3_auc: 0.713', 'val4_auc: 0.734', 'sum_auc: 2.217']\n",
      "Epoch2\t['loss: 0.148', 'val2_auc: 0.794', 'val3_auc: 0.694', 'val4_auc: 0.602', 'sum_auc: 2.090']\n",
      "Epoch3\t['loss: 0.144', 'val2_auc: 0.802', 'val3_auc: 0.704', 'val4_auc: 0.591', 'sum_auc: 2.097']\n",
      "Epoch4\t['loss: 0.141', 'val2_auc: 0.803', 'val3_auc: 0.712', 'val4_auc: 0.648', 'sum_auc: 2.163']\n",
      "Epoch5\t['loss: 0.140', 'val2_auc: 0.803', 'val3_auc: 0.711', 'val4_auc: 0.619', 'sum_auc: 2.133']\n",
      "Epoch6\t['loss: 0.139', 'val2_auc: 0.804', 'val3_auc: 0.705', 'val4_auc: 0.641', 'sum_auc: 2.151']\n",
      "Epoch 6: early stopping Threshold\n",
      "[I 2023-07-14 16:34:20,713] Trial 67 finished with value: 2.217 and parameters: {'feature_dim': 128, 'n_step': 2, 'n_shared': 4, 'relaxation_factor': 1.4, 'sparsity_coefficient': 0.00028873139761325626, 'bn_momentum': 0.9832221729402266}. Best is trial 49 with value: 2.3189.\n",
      "Epoch0\t['loss: 0.181', 'val2_auc: 0.751', 'val3_auc: 0.737', 'val4_auc: 0.761', 'sum_auc: 2.248']\n",
      "Epoch1\t['loss: 0.162', 'val2_auc: 0.762', 'val3_auc: 0.677', 'val4_auc: 0.849', 'sum_auc: 2.287']\n",
      "Epoch2\t['loss: 0.158', 'val2_auc: 0.761', 'val3_auc: 0.675', 'val4_auc: 0.861', 'sum_auc: 2.297']\n",
      "Epoch3\t['loss: 0.155', 'val2_auc: 0.749', 'val3_auc: 0.667', 'val4_auc: 0.858', 'sum_auc: 2.274']\n",
      "Epoch4\t['loss: 0.154', 'val2_auc: 0.751', 'val3_auc: 0.630', 'val4_auc: 0.857', 'sum_auc: 2.238']\n",
      "Epoch5\t['loss: 0.153', 'val2_auc: 0.739', 'val3_auc: 0.656', 'val4_auc: 0.789', 'sum_auc: 2.184']\n",
      "Epoch6\t['loss: 0.153', 'val2_auc: 0.758', 'val3_auc: 0.697', 'val4_auc: 0.835', 'sum_auc: 2.290']\n",
      "Epoch7\t['loss: 0.152', 'val2_auc: 0.749', 'val3_auc: 0.670', 'val4_auc: 0.768', 'sum_auc: 2.187']\n",
      "Epoch 7: early stopping Threshold\n",
      "[I 2023-07-14 16:44:01,670] Trial 68 finished with value: 2.2969 and parameters: {'feature_dim': 256, 'n_step': 7, 'n_shared': 3, 'relaxation_factor': 1.2, 'sparsity_coefficient': 3.05589666821579e-05, 'bn_momentum': 0.9998178835275052}. Best is trial 49 with value: 2.3189.\n",
      "Epoch0\t['loss: 0.178', 'val2_auc: 0.723', 'val3_auc: 0.667', 'val4_auc: 0.685', 'sum_auc: 2.075']\n",
      "Epoch1\t['loss: 0.157', 'val2_auc: 0.751', 'val3_auc: 0.681', 'val4_auc: 0.661', 'sum_auc: 2.093']\n",
      "Epoch2\t['loss: 0.150', 'val2_auc: 0.765', 'val3_auc: 0.676', 'val4_auc: 0.693', 'sum_auc: 2.133']\n",
      "Epoch3\t['loss: 0.147', 'val2_auc: 0.774', 'val3_auc: 0.687', 'val4_auc: 0.711', 'sum_auc: 2.172']\n",
      "Epoch4\t['loss: 0.144', 'val2_auc: 0.763', 'val3_auc: 0.675', 'val4_auc: 0.546', 'sum_auc: 1.983']\n",
      "Epoch5\t['loss: 0.143', 'val2_auc: 0.769', 'val3_auc: 0.689', 'val4_auc: 0.496', 'sum_auc: 1.954']\n",
      "Epoch6\t['loss: 0.142', 'val2_auc: 0.771', 'val3_auc: 0.698', 'val4_auc: 0.610', 'sum_auc: 2.079']\n",
      "Epoch7\t['loss: 0.142', 'val2_auc: 0.772', 'val3_auc: 0.671', 'val4_auc: 0.539', 'sum_auc: 1.982']\n",
      "Epoch8\t['loss: 0.141', 'val2_auc: 0.769', 'val3_auc: 0.672', 'val4_auc: 0.640', 'sum_auc: 2.082']\n",
      "Epoch 8: early stopping Threshold\n",
      "[I 2023-07-14 16:54:52,849] Trial 69 finished with value: 2.1723 and parameters: {'feature_dim': 256, 'n_step': 7, 'n_shared': 3, 'relaxation_factor': 1.0, 'sparsity_coefficient': 0.00015491684510292536, 'bn_momentum': 0.9922495190774453}. Best is trial 49 with value: 2.3189.\n",
      "Epoch0\t['loss: 0.177', 'val2_auc: 0.699', 'val3_auc: 0.665', 'val4_auc: 0.736', 'sum_auc: 2.099']\n",
      "Epoch1\t['loss: 0.160', 'val2_auc: 0.729', 'val3_auc: 0.681', 'val4_auc: 0.760', 'sum_auc: 2.169']\n",
      "Epoch2\t['loss: 0.156', 'val2_auc: 0.728', 'val3_auc: 0.682', 'val4_auc: 0.621', 'sum_auc: 2.031']\n",
      "Epoch3\t['loss: 0.154', 'val2_auc: 0.736', 'val3_auc: 0.686', 'val4_auc: 0.668', 'sum_auc: 2.089']\n",
      "Epoch4\t['loss: 0.152', 'val2_auc: 0.744', 'val3_auc: 0.670', 'val4_auc: 0.651', 'sum_auc: 2.065']\n",
      "Epoch5\t['loss: 0.151', 'val2_auc: 0.750', 'val3_auc: 0.674', 'val4_auc: 0.748', 'sum_auc: 2.171']\n",
      "Epoch6\t['loss: 0.150', 'val2_auc: 0.746', 'val3_auc: 0.675', 'val4_auc: 0.606', 'sum_auc: 2.027']\n",
      "Epoch7\t['loss: 0.150', 'val2_auc: 0.746', 'val3_auc: 0.656', 'val4_auc: 0.659', 'sum_auc: 2.061']\n",
      "Epoch8\t['loss: 0.149', 'val2_auc: 0.745', 'val3_auc: 0.678', 'val4_auc: 0.584', 'sum_auc: 2.006']\n",
      "Epoch9\t['loss: 0.149', 'val2_auc: 0.747', 'val3_auc: 0.655', 'val4_auc: 0.598', 'sum_auc: 2.001']\n",
      "[I 2023-07-14 17:08:35,958] Trial 70 finished with value: 2.0006 and parameters: {'feature_dim': 256, 'n_step': 8, 'n_shared': 2, 'relaxation_factor': 1.2, 'sparsity_coefficient': 6.845200569552851e-05, 'bn_momentum': 0.9870744166358222}. Best is trial 49 with value: 2.3189.\n",
      "Epoch0\t['loss: 0.181', 'val2_auc: 0.760', 'val3_auc: 0.669', 'val4_auc: 0.861', 'sum_auc: 2.290']\n",
      "Epoch1\t['loss: 0.161', 'val2_auc: 0.761', 'val3_auc: 0.672', 'val4_auc: 0.824', 'sum_auc: 2.256']\n",
      "Epoch2\t['loss: 0.155', 'val2_auc: 0.767', 'val3_auc: 0.681', 'val4_auc: 0.656', 'sum_auc: 2.104']\n",
      "Epoch5\t['loss: 0.148', 'val2_auc: 0.756', 'val3_auc: 0.698', 'val4_auc: 0.649', 'sum_auc: 2.103']\n",
      "Epoch 5: early stopping Threshold\n",
      "[I 2023-07-14 17:16:55,812] Trial 71 finished with value: 2.2896 and parameters: {'feature_dim': 256, 'n_step': 8, 'n_shared': 3, 'relaxation_factor': 1.1, 'sparsity_coefficient': 2.9451738548128144e-05, 'bn_momentum': 0.9992353075756529}. Best is trial 49 with value: 2.3189.\n",
      "Epoch0\t['loss: 0.185', 'val2_auc: 0.550', 'val3_auc: 0.525', 'val4_auc: 0.509', 'sum_auc: 1.584']\n",
      "Epoch1\t['loss: 0.172', 'val2_auc: 0.640', 'val3_auc: 0.605', 'val4_auc: 0.626', 'sum_auc: 1.870']\n",
      "Epoch2\t['loss: 0.168', 'val2_auc: 0.638', 'val3_auc: 0.585', 'val4_auc: 0.591', 'sum_auc: 1.814']\n",
      "Epoch3\t['loss: 0.167', 'val2_auc: 0.604', 'val3_auc: 0.595', 'val4_auc: 0.567', 'sum_auc: 1.765']\n",
      "Epoch4\t['loss: 0.166', 'val2_auc: 0.650', 'val3_auc: 0.630', 'val4_auc: 0.611', 'sum_auc: 1.892']\n",
      "Epoch5\t['loss: 0.165', 'val2_auc: 0.646', 'val3_auc: 0.644', 'val4_auc: 0.617', 'sum_auc: 1.907']\n",
      "Epoch6\t['loss: 0.165', 'val2_auc: 0.631', 'val3_auc: 0.620', 'val4_auc: 0.648', 'sum_auc: 1.899']\n",
      "Epoch7\t['loss: 0.164', 'val2_auc: 0.675', 'val3_auc: 0.653', 'val4_auc: 0.671', 'sum_auc: 1.999']\n",
      "Epoch8\t['loss: 0.163', 'val2_auc: 0.666', 'val3_auc: 0.606', 'val4_auc: 0.663', 'sum_auc: 1.935']\n",
      "Epoch9\t['loss: 0.163', 'val2_auc: 0.661', 'val3_auc: 0.624', 'val4_auc: 0.611', 'sum_auc: 1.895']\n",
      "[I 2023-07-14 17:29:05,473] Trial 72 finished with value: 1.8953 and parameters: {'feature_dim': 256, 'n_step': 7, 'n_shared': 3, 'relaxation_factor': 2.7, 'sparsity_coefficient': 6.772428580023055e-06, 'bn_momentum': 0.9942019999833633}. Best is trial 49 with value: 2.3189.\n",
      "Epoch0\t['loss: 0.201', 'val2_auc: 0.556', 'val3_auc: 0.544', 'val4_auc: 0.479', 'sum_auc: 1.580']\n",
      "Epoch1\t['loss: 0.169', 'val2_auc: 0.694', 'val3_auc: 0.669', 'val4_auc: 0.670', 'sum_auc: 2.033']\n",
      "Epoch2\t['loss: 0.163', 'val2_auc: 0.704', 'val3_auc: 0.640', 'val4_auc: 0.653', 'sum_auc: 1.997']\n",
      "Epoch3\t['loss: 0.159', 'val2_auc: 0.708', 'val3_auc: 0.680', 'val4_auc: 0.667', 'sum_auc: 2.055']\n",
      "Epoch6\t['loss: 0.154', 'val2_auc: 0.734', 'val3_auc: 0.667', 'val4_auc: 0.717', 'sum_auc: 2.118']\n",
      "Epoch7\t['loss: 0.153', 'val2_auc: 0.722', 'val3_auc: 0.661', 'val4_auc: 0.606', 'sum_auc: 1.989']\n",
      "Epoch8\t['loss: 0.153', 'val2_auc: 0.743', 'val3_auc: 0.687', 'val4_auc: 0.701', 'sum_auc: 2.131']\n",
      "Epoch9\t['loss: 0.152', 'val2_auc: 0.741', 'val3_auc: 0.670', 'val4_auc: 0.739', 'sum_auc: 2.150']\n",
      "[I 2023-07-14 17:38:23,154] Trial 73 finished with value: 2.1504 and parameters: {'feature_dim': 32, 'n_step': 7, 'n_shared': 3, 'relaxation_factor': 1.3, 'sparsity_coefficient': 1.7789836062517932e-05, 'bn_momentum': 0.9974886146849952}. Best is trial 49 with value: 2.3189.\n",
      "Epoch0\t['loss: 0.195', 'val2_auc: 0.535', 'val3_auc: 0.548', 'val4_auc: 0.521', 'sum_auc: 1.604']\n",
      "Epoch1\t['loss: 0.173', 'val2_auc: 0.542', 'val3_auc: 0.526', 'val4_auc: 0.594', 'sum_auc: 1.662']\n",
      "Epoch2\t['loss: 0.170', 'val2_auc: 0.647', 'val3_auc: 0.629', 'val4_auc: 0.611', 'sum_auc: 1.887']\n",
      "Epoch3\t['loss: 0.165', 'val2_auc: 0.683', 'val3_auc: 0.624', 'val4_auc: 0.582', 'sum_auc: 1.889']\n",
      "Epoch4\t['loss: 0.163', 'val2_auc: 0.688', 'val3_auc: 0.649', 'val4_auc: 0.628', 'sum_auc: 1.965']\n",
      "Epoch5\t['loss: 0.161', 'val2_auc: 0.695', 'val3_auc: 0.640', 'val4_auc: 0.631', 'sum_auc: 1.966']\n",
      "Epoch6\t['loss: 0.160', 'val2_auc: 0.718', 'val3_auc: 0.666', 'val4_auc: 0.710', 'sum_auc: 2.094']\n",
      "Epoch7\t['loss: 0.158', 'val2_auc: 0.720', 'val3_auc: 0.649', 'val4_auc: 0.698', 'sum_auc: 2.067']\n",
      "Epoch8\t['loss: 0.157', 'val2_auc: 0.715', 'val3_auc: 0.656', 'val4_auc: 0.676', 'sum_auc: 2.046']\n",
      "Epoch9\t['loss: 0.155', 'val2_auc: 0.736', 'val3_auc: 0.677', 'val4_auc: 0.711', 'sum_auc: 2.124']\n",
      "[I 2023-07-14 17:46:34,430] Trial 74 finished with value: 2.1242 and parameters: {'feature_dim': 128, 'n_step': 6, 'n_shared': 4, 'relaxation_factor': 2.3, 'sparsity_coefficient': 0.00011803080952084801, 'bn_momentum': 0.9930083215214524}. Best is trial 49 with value: 2.3189.\n",
      "Epoch0\t['loss: 0.170', 'val2_auc: 0.751', 'val3_auc: 0.687', 'val4_auc: 0.653', 'sum_auc: 2.091']\n",
      "Epoch1\t['loss: 0.149', 'val2_auc: 0.768', 'val3_auc: 0.700', 'val4_auc: 0.833', 'sum_auc: 2.301']\n",
      "Epoch2\t['loss: 0.145', 'val2_auc: 0.768', 'val3_auc: 0.674', 'val4_auc: 0.845', 'sum_auc: 2.286']\n",
      "Epoch3\t['loss: 0.143', 'val2_auc: 0.773', 'val3_auc: 0.692', 'val4_auc: 0.827', 'sum_auc: 2.292']\n",
      "Epoch4\t['loss: 0.142', 'val2_auc: 0.775', 'val3_auc: 0.699', 'val4_auc: 0.846', 'sum_auc: 2.319']\n",
      "Epoch5\t['loss: 0.139', 'val2_auc: 0.778', 'val3_auc: 0.691', 'val4_auc: 0.803', 'sum_auc: 2.273']\n",
      "Epoch6\t['loss: 0.138', 'val2_auc: 0.789', 'val3_auc: 0.721', 'val4_auc: 0.767', 'sum_auc: 2.277']\n",
      "Epoch7\t['loss: 0.136', 'val2_auc: 0.776', 'val3_auc: 0.715', 'val4_auc: 0.861', 'sum_auc: 2.353']\n",
      "Epoch8\t['loss: 0.135', 'val2_auc: 0.787', 'val3_auc: 0.728', 'val4_auc: 0.849', 'sum_auc: 2.364']\n",
      "Epoch9\t['loss: 0.134', 'val2_auc: 0.781', 'val3_auc: 0.726', 'val4_auc: 0.854', 'sum_auc: 2.361']\n",
      "[I 2023-07-14 17:51:16,139] Trial 75 finished with value: 2.3607 and parameters: {'feature_dim': 256, 'n_step': 2, 'n_shared': 2, 'relaxation_factor': 1.0, 'sparsity_coefficient': 0.00044768001615344994, 'bn_momentum': 0.9998302996755233}. Best is trial 75 with value: 2.3607.\n",
      "Epoch0\t['loss: 0.174', 'val2_auc: 0.759', 'val3_auc: 0.694', 'val4_auc: 0.792', 'sum_auc: 2.245']\n",
      "Epoch1\t['loss: 0.152', 'val2_auc: 0.763', 'val3_auc: 0.697', 'val4_auc: 0.651', 'sum_auc: 2.110']\n",
      "Epoch4\t['loss: 0.145', 'val2_auc: 0.767', 'val3_auc: 0.720', 'val4_auc: 0.661', 'sum_auc: 2.148']\n",
      "Epoch5\t['loss: 0.144', 'val2_auc: 0.775', 'val3_auc: 0.711', 'val4_auc: 0.670', 'sum_auc: 2.156']\n",
      "Epoch 5: early stopping Threshold\n",
      "[I 2023-07-14 17:55:07,958] Trial 76 finished with value: 2.2453 and parameters: {'feature_dim': 256, 'n_step': 3, 'n_shared': 2, 'relaxation_factor': 1.0, 'sparsity_coefficient': 0.00036367078408910226, 'bn_momentum': 0.9967010915202621}. Best is trial 75 with value: 2.3607.\n",
      "Epoch0\t['loss: 0.171', 'val2_auc: 0.732', 'val3_auc: 0.636', 'val4_auc: 0.846', 'sum_auc: 2.214']\n",
      "Epoch1\t['loss: 0.149', 'val2_auc: 0.749', 'val3_auc: 0.696', 'val4_auc: 0.860', 'sum_auc: 2.305']\n",
      "Epoch2\t['loss: 0.144', 'val2_auc: 0.769', 'val3_auc: 0.722', 'val4_auc: 0.851', 'sum_auc: 2.342']\n",
      "Epoch3\t['loss: 0.142', 'val2_auc: 0.774', 'val3_auc: 0.727', 'val4_auc: 0.815', 'sum_auc: 2.316']\n",
      "Epoch4\t['loss: 0.140', 'val2_auc: 0.766', 'val3_auc: 0.709', 'val4_auc: 0.849', 'sum_auc: 2.323']\n",
      "Epoch5\t['loss: 0.139', 'val2_auc: 0.768', 'val3_auc: 0.705', 'val4_auc: 0.777', 'sum_auc: 2.250']\n",
      "Epoch6\t['loss: 0.137', 'val2_auc: 0.779', 'val3_auc: 0.670', 'val4_auc: 0.775', 'sum_auc: 2.225']\n",
      "Epoch7\t['loss: 0.136', 'val2_auc: 0.782', 'val3_auc: 0.691', 'val4_auc: 0.778', 'sum_auc: 2.251']\n",
      "Epoch 7: early stopping Threshold\n",
      "[I 2023-07-14 17:58:57,738] Trial 77 finished with value: 2.3423 and parameters: {'feature_dim': 256, 'n_step': 2, 'n_shared': 2, 'relaxation_factor': 1.1, 'sparsity_coefficient': 0.0005102820827684426, 'bn_momentum': 0.9997942081537435}. Best is trial 75 with value: 2.3607.\n",
      "Epoch0\t['loss: 0.168', 'val2_auc: 0.763', 'val3_auc: 0.700', 'val4_auc: 0.625', 'sum_auc: 2.089']\n",
      "Epoch1\t['loss: 0.149', 'val2_auc: 0.784', 'val3_auc: 0.728', 'val4_auc: 0.681', 'sum_auc: 2.193']\n",
      "Epoch2\t['loss: 0.144', 'val2_auc: 0.789', 'val3_auc: 0.714', 'val4_auc: 0.709', 'sum_auc: 2.213']\n",
      "Epoch3\t['loss: 0.142', 'val2_auc: 0.789', 'val3_auc: 0.724', 'val4_auc: 0.595', 'sum_auc: 2.107']\n",
      "Epoch4\t['loss: 0.141', 'val2_auc: 0.792', 'val3_auc: 0.732', 'val4_auc: 0.620', 'sum_auc: 2.145']\n",
      "Epoch5\t['loss: 0.139', 'val2_auc: 0.807', 'val3_auc: 0.719', 'val4_auc: 0.595', 'sum_auc: 2.121']\n",
      "Epoch6\t['loss: 0.138', 'val2_auc: 0.811', 'val3_auc: 0.716', 'val4_auc: 0.628', 'sum_auc: 2.156']\n",
      "Epoch7\t['loss: 0.137', 'val2_auc: 0.815', 'val3_auc: 0.727', 'val4_auc: 0.659', 'sum_auc: 2.200']\n",
      "Epoch 7: early stopping Threshold\n",
      "[I 2023-07-14 18:02:45,326] Trial 78 finished with value: 2.2126 and parameters: {'feature_dim': 256, 'n_step': 2, 'n_shared': 2, 'relaxation_factor': 1.1, 'sparsity_coefficient': 0.0008997470463120219, 'bn_momentum': 0.9904237869716954}. Best is trial 75 with value: 2.3607.\n",
      "Epoch0\t['loss: 0.165', 'val2_auc: 0.775', 'val3_auc: 0.713', 'val4_auc: 0.662', 'sum_auc: 2.150']\n",
      "Epoch1\t['loss: 0.148', 'val2_auc: 0.786', 'val3_auc: 0.721', 'val4_auc: 0.630', 'sum_auc: 2.136']\n",
      "Epoch2\t['loss: 0.144', 'val2_auc: 0.791', 'val3_auc: 0.731', 'val4_auc: 0.628', 'sum_auc: 2.151']\n",
      "Epoch3\t['loss: 0.141', 'val2_auc: 0.800', 'val3_auc: 0.718', 'val4_auc: 0.628', 'sum_auc: 2.146']\n",
      "Epoch4\t['loss: 0.141', 'val2_auc: 0.801', 'val3_auc: 0.740', 'val4_auc: 0.651', 'sum_auc: 2.193']\n",
      "Epoch5\t['loss: 0.139', 'val2_auc: 0.806', 'val3_auc: 0.716', 'val4_auc: 0.655', 'sum_auc: 2.176']\n",
      "Epoch6\t['loss: 0.138', 'val2_auc: 0.810', 'val3_auc: 0.698', 'val4_auc: 0.613', 'sum_auc: 2.121']\n",
      "Epoch7\t['loss: 0.137', 'val2_auc: 0.813', 'val3_auc: 0.711', 'val4_auc: 0.684', 'sum_auc: 2.208']\n",
      "Epoch8\t['loss: 0.135', 'val2_auc: 0.820', 'val3_auc: 0.725', 'val4_auc: 0.677', 'sum_auc: 2.221']\n",
      "Epoch9\t['loss: 0.134', 'val2_auc: 0.821', 'val3_auc: 0.737', 'val4_auc: 0.698', 'sum_auc: 2.256']\n",
      "[I 2023-07-14 18:07:27,860] Trial 79 finished with value: 2.2562 and parameters: {'feature_dim': 256, 'n_step': 2, 'n_shared': 2, 'relaxation_factor': 1.0, 'sparsity_coefficient': 0.00047138808584308155, 'bn_momentum': 0.9943875668988038}. Best is trial 75 with value: 2.3607.\n",
      "Epoch0\t['loss: 0.251', 'val2_auc: 0.663', 'val3_auc: 0.663', 'val4_auc: 0.685', 'sum_auc: 2.010']\n",
      "Epoch1\t['loss: 0.163', 'val2_auc: 0.706', 'val3_auc: 0.671', 'val4_auc: 0.728', 'sum_auc: 2.105']\n",
      "Epoch2\t['loss: 0.159', 'val2_auc: 0.733', 'val3_auc: 0.682', 'val4_auc: 0.786', 'sum_auc: 2.202']\n",
      "Epoch3\t['loss: 0.156', 'val2_auc: 0.738', 'val3_auc: 0.702', 'val4_auc: 0.784', 'sum_auc: 2.224']\n",
      "Epoch4\t['loss: 0.153', 'val2_auc: 0.752', 'val3_auc: 0.725', 'val4_auc: 0.760', 'sum_auc: 2.238']\n",
      "Epoch5\t['loss: 0.151', 'val2_auc: 0.764', 'val3_auc: 0.732', 'val4_auc: 0.720', 'sum_auc: 2.216']\n",
      "Epoch6\t['loss: 0.149', 'val2_auc: 0.774', 'val3_auc: 0.734', 'val4_auc: 0.644', 'sum_auc: 2.152']\n",
      "Epoch7\t['loss: 0.146', 'val2_auc: 0.779', 'val3_auc: 0.722', 'val4_auc: 0.719', 'sum_auc: 2.220']\n",
      "Epoch8\t['loss: 0.145', 'val2_auc: 0.788', 'val3_auc: 0.726', 'val4_auc: 0.714', 'sum_auc: 2.228']\n",
      "Epoch9\t['loss: 0.144', 'val2_auc: 0.789', 'val3_auc: 0.722', 'val4_auc: 0.769', 'sum_auc: 2.281']\n",
      "[I 2023-07-14 18:10:54,314] Trial 80 finished with value: 2.2807 and parameters: {'feature_dim': 8, 'n_step': 2, 'n_shared': 2, 'relaxation_factor': 1.5, 'sparsity_coefficient': 0.00021452091637857315, 'bn_momentum': 0.992418891661106}. Best is trial 75 with value: 2.3607.\n",
      "Epoch0\t['loss: 0.168', 'val2_auc: 0.752', 'val3_auc: 0.671', 'val4_auc: 0.770', 'sum_auc: 2.194']\n",
      "Epoch1\t['loss: 0.149', 'val2_auc: 0.775', 'val3_auc: 0.681', 'val4_auc: 0.759', 'sum_auc: 2.215']\n",
      "Epoch2\t['loss: 0.144', 'val2_auc: 0.793', 'val3_auc: 0.729', 'val4_auc: 0.718', 'sum_auc: 2.240']\n",
      "Epoch3\t['loss: 0.143', 'val2_auc: 0.807', 'val3_auc: 0.733', 'val4_auc: 0.660', 'sum_auc: 2.200']\n",
      "Epoch4\t['loss: 0.140', 'val2_auc: 0.813', 'val3_auc: 0.739', 'val4_auc: 0.673', 'sum_auc: 2.225']\n",
      "Epoch5\t['loss: 0.139', 'val2_auc: 0.804', 'val3_auc: 0.717', 'val4_auc: 0.647', 'sum_auc: 2.168']\n",
      "Epoch6\t['loss: 0.139', 'val2_auc: 0.811', 'val3_auc: 0.750', 'val4_auc: 0.647', 'sum_auc: 2.208']\n",
      "Epoch7\t['loss: 0.138', 'val2_auc: 0.815', 'val3_auc: 0.755', 'val4_auc: 0.650', 'sum_auc: 2.221']\n",
      "Epoch 7: early stopping Threshold\n",
      "[I 2023-07-14 18:14:40,396] Trial 81 finished with value: 2.24 and parameters: {'feature_dim': 256, 'n_step': 2, 'n_shared': 2, 'relaxation_factor': 1.2, 'sparsity_coefficient': 0.0006315509316055307, 'bn_momentum': 0.9973207497783388}. Best is trial 75 with value: 2.3607.\n",
      "Epoch0\t['loss: 0.169', 'val2_auc: 0.765', 'val3_auc: 0.688', 'val4_auc: 0.790', 'sum_auc: 2.243']\n",
      "Epoch1\t['loss: 0.150', 'val2_auc: 0.763', 'val3_auc: 0.697', 'val4_auc: 0.779', 'sum_auc: 2.239']\n",
      "Epoch2\t['loss: 0.147', 'val2_auc: 0.757', 'val3_auc: 0.696', 'val4_auc: 0.697', 'sum_auc: 2.150']\n",
      "Epoch3\t['loss: 0.144', 'val2_auc: 0.778', 'val3_auc: 0.710', 'val4_auc: 0.749', 'sum_auc: 2.237']\n",
      "Epoch4\t['loss: 0.140', 'val2_auc: 0.770', 'val3_auc: 0.701', 'val4_auc: 0.642', 'sum_auc: 2.113']\n",
      "Epoch5\t['loss: 0.139', 'val2_auc: 0.771', 'val3_auc: 0.677', 'val4_auc: 0.592', 'sum_auc: 2.039']\n",
      "Epoch 5: early stopping Threshold\n",
      "[I 2023-07-14 18:18:29,464] Trial 82 finished with value: 2.2431 and parameters: {'feature_dim': 256, 'n_step': 3, 'n_shared': 2, 'relaxation_factor': 1.2, 'sparsity_coefficient': 0.00025771982195155863, 'bn_momentum': 0.9997458570779307}. Best is trial 75 with value: 2.3607.\n",
      "Epoch0\t['loss: 0.170', 'val2_auc: 0.656', 'val3_auc: 0.592', 'val4_auc: 0.610', 'sum_auc: 1.857']\n",
      "Epoch1\t['loss: 0.148', 'val2_auc: 0.762', 'val3_auc: 0.677', 'val4_auc: 0.843', 'sum_auc: 2.282']\n",
      "Epoch2\t['loss: 0.142', 'val2_auc: 0.757', 'val3_auc: 0.696', 'val4_auc: 0.825', 'sum_auc: 2.278']\n",
      "Epoch3\t['loss: 0.139', 'val2_auc: 0.771', 'val3_auc: 0.706', 'val4_auc: 0.748', 'sum_auc: 2.225']\n",
      "Epoch4\t['loss: 0.138', 'val2_auc: 0.777', 'val3_auc: 0.695', 'val4_auc: 0.798', 'sum_auc: 2.270']\n",
      "Epoch5\t['loss: 0.139', 'val2_auc: 0.777', 'val3_auc: 0.698', 'val4_auc: 0.800', 'sum_auc: 2.275']\n",
      "Epoch6\t['loss: 0.137', 'val2_auc: 0.787', 'val3_auc: 0.694', 'val4_auc: 0.757', 'sum_auc: 2.237']\n",
      "Epoch 6: early stopping Threshold\n",
      "[I 2023-07-14 18:21:51,702] Trial 83 finished with value: 2.2821 and parameters: {'feature_dim': 256, 'n_step': 2, 'n_shared': 1, 'relaxation_factor': 1.1, 'sparsity_coefficient': 0.0004229873784852526, 'bn_momentum': 0.99983121971374}. Best is trial 75 with value: 2.3607.\n",
      "Epoch0\t['loss: 0.183', 'val2_auc: 0.746', 'val3_auc: 0.670', 'val4_auc: 0.766', 'sum_auc: 2.182']\n",
      "Epoch1\t['loss: 0.160', 'val2_auc: 0.742', 'val3_auc: 0.666', 'val4_auc: 0.685', 'sum_auc: 2.093']\n",
      "Epoch2\t['loss: 0.152', 'val2_auc: 0.749', 'val3_auc: 0.672', 'val4_auc: 0.675', 'sum_auc: 2.096']\n",
      "Epoch3\t['loss: 0.149', 'val2_auc: 0.755', 'val3_auc: 0.657', 'val4_auc: 0.680', 'sum_auc: 2.092']\n",
      "Epoch4\t['loss: 0.146', 'val2_auc: 0.754', 'val3_auc: 0.668', 'val4_auc: 0.706', 'sum_auc: 2.128']\n",
      "Epoch5\t['loss: 0.145', 'val2_auc: 0.758', 'val3_auc: 0.671', 'val4_auc: 0.749', 'sum_auc: 2.178']\n",
      "Epoch 5: early stopping Threshold\n",
      "[I 2023-07-14 18:26:40,426] Trial 84 finished with value: 2.182 and parameters: {'feature_dim': 256, 'n_step': 4, 'n_shared': 2, 'relaxation_factor': 1.3, 'sparsity_coefficient': 7.016133038937755e-05, 'bn_momentum': 0.9949521931858448}. Best is trial 75 with value: 2.3607.\n",
      "Epoch0\t['loss: 0.179', 'val2_auc: 0.729', 'val3_auc: 0.666', 'val4_auc: 0.769', 'sum_auc: 2.164']\n",
      "Epoch1\t['loss: 0.155', 'val2_auc: 0.762', 'val3_auc: 0.676', 'val4_auc: 0.710', 'sum_auc: 2.148']\n",
      "Epoch2\t['loss: 0.149', 'val2_auc: 0.763', 'val3_auc: 0.670', 'val4_auc: 0.689', 'sum_auc: 2.121']\n",
      "Epoch3\t['loss: 0.146', 'val2_auc: 0.785', 'val3_auc: 0.697', 'val4_auc: 0.720', 'sum_auc: 2.202']\n",
      "Epoch4\t['loss: 0.143', 'val2_auc: 0.792', 'val3_auc: 0.694', 'val4_auc: 0.621', 'sum_auc: 2.107']\n",
      "Epoch5\t['loss: 0.143', 'val2_auc: 0.769', 'val3_auc: 0.695', 'val4_auc: 0.613', 'sum_auc: 2.077']\n",
      "Epoch6\t['loss: 0.142', 'val2_auc: 0.790', 'val3_auc: 0.691', 'val4_auc: 0.600', 'sum_auc: 2.081']\n",
      "Epoch7\t['loss: 0.141', 'val2_auc: 0.791', 'val3_auc: 0.683', 'val4_auc: 0.708', 'sum_auc: 2.182']\n",
      "Epoch8\t['loss: 0.141', 'val2_auc: 0.795', 'val3_auc: 0.707', 'val4_auc: 0.635', 'sum_auc: 2.138']\n",
      "Epoch 8: early stopping Threshold\n",
      "[I 2023-07-14 18:32:19,281] Trial 85 finished with value: 2.2018 and parameters: {'feature_dim': 256, 'n_step': 3, 'n_shared': 3, 'relaxation_factor': 1.1, 'sparsity_coefficient': 0.0016227597672671306, 'bn_momentum': 0.9881692688593857}. Best is trial 75 with value: 2.3607.\n",
      "Epoch0\t['loss: 0.186', 'val2_auc: 0.760', 'val3_auc: 0.710', 'val4_auc: 0.834', 'sum_auc: 2.304']\n",
      "Epoch1\t['loss: 0.161', 'val2_auc: 0.735', 'val3_auc: 0.678', 'val4_auc: 0.696', 'sum_auc: 2.109']\n",
      "Epoch2\t['loss: 0.155', 'val2_auc: 0.750', 'val3_auc: 0.675', 'val4_auc: 0.702', 'sum_auc: 2.128']\n",
      "Epoch3\t['loss: 0.150', 'val2_auc: 0.766', 'val3_auc: 0.695', 'val4_auc: 0.724', 'sum_auc: 2.185']\n",
      "Epoch4\t['loss: 0.147', 'val2_auc: 0.774', 'val3_auc: 0.688', 'val4_auc: 0.673', 'sum_auc: 2.135']\n",
      "Epoch5\t['loss: 0.144', 'val2_auc: 0.780', 'val3_auc: 0.703', 'val4_auc: 0.682', 'sum_auc: 2.164']\n",
      "Epoch 5: early stopping Threshold\n",
      "[I 2023-07-14 18:37:25,261] Trial 86 finished with value: 2.3042 and parameters: {'feature_dim': 64, 'n_step': 6, 'n_shared': 2, 'relaxation_factor': 1.0, 'sparsity_coefficient': 0.0002120760333962052, 'bn_momentum': 0.9963993214320468}. Best is trial 75 with value: 2.3607.\n",
      "Epoch2\t['loss: 0.154', 'val2_auc: 0.762', 'val3_auc: 0.694', 'val4_auc: 0.681', 'sum_auc: 2.137']\n",
      "Epoch3\t['loss: 0.149', 'val2_auc: 0.771', 'val3_auc: 0.691', 'val4_auc: 0.611', 'sum_auc: 2.073']\n",
      "Epoch4\t['loss: 0.145', 'val2_auc: 0.784', 'val3_auc: 0.693', 'val4_auc: 0.590', 'sum_auc: 2.067']\n",
      "Epoch5\t['loss: 0.143', 'val2_auc: 0.791', 'val3_auc: 0.702', 'val4_auc: 0.676', 'sum_auc: 2.170']\n",
      "Epoch6\t['loss: 0.141', 'val2_auc: 0.791', 'val3_auc: 0.697', 'val4_auc: 0.674', 'sum_auc: 2.161']\n",
      "Epoch7\t['loss: 0.141', 'val2_auc: 0.795', 'val3_auc: 0.705', 'val4_auc: 0.652', 'sum_auc: 2.152']\n",
      "Epoch8\t['loss: 0.140', 'val2_auc: 0.801', 'val3_auc: 0.700', 'val4_auc: 0.686', 'sum_auc: 2.187']\n",
      "Epoch9\t['loss: 0.138', 'val2_auc: 0.800', 'val3_auc: 0.697', 'val4_auc: 0.663', 'sum_auc: 2.160']\n",
      "[I 2023-07-14 18:45:41,040] Trial 87 finished with value: 2.1601 and parameters: {'feature_dim': 64, 'n_step': 6, 'n_shared': 2, 'relaxation_factor': 1.0, 'sparsity_coefficient': 0.0009694012228379899, 'bn_momentum': 0.9904114148574527}. Best is trial 75 with value: 2.3607.\n",
      "Epoch0\t['loss: 0.184', 'val2_auc: 0.726', 'val3_auc: 0.670', 'val4_auc: 0.723', 'sum_auc: 2.119']\n",
      "Epoch1\t['loss: 0.160', 'val2_auc: 0.735', 'val3_auc: 0.683', 'val4_auc: 0.688', 'sum_auc: 2.106']\n",
      "Epoch2\t['loss: 0.154', 'val2_auc: 0.750', 'val3_auc: 0.701', 'val4_auc: 0.727', 'sum_auc: 2.178']\n",
      "Epoch3\t['loss: 0.150', 'val2_auc: 0.758', 'val3_auc: 0.692', 'val4_auc: 0.739', 'sum_auc: 2.189']\n",
      "Epoch4\t['loss: 0.148', 'val2_auc: 0.769', 'val3_auc: 0.682', 'val4_auc: 0.714', 'sum_auc: 2.165']\n",
      "Epoch5\t['loss: 0.145', 'val2_auc: 0.772', 'val3_auc: 0.684', 'val4_auc: 0.727', 'sum_auc: 2.183']\n",
      "Epoch6\t['loss: 0.144', 'val2_auc: 0.775', 'val3_auc: 0.685', 'val4_auc: 0.709', 'sum_auc: 2.169']\n",
      "Epoch7\t['loss: 0.142', 'val2_auc: 0.779', 'val3_auc: 0.688', 'val4_auc: 0.687', 'sum_auc: 2.153']\n",
      "Epoch8\t['loss: 0.141', 'val2_auc: 0.780', 'val3_auc: 0.693', 'val4_auc: 0.692', 'sum_auc: 2.165']\n",
      "Epoch 8: early stopping Threshold\n",
      "[I 2023-07-14 18:53:11,833] Trial 88 finished with value: 2.1891 and parameters: {'feature_dim': 64, 'n_step': 6, 'n_shared': 2, 'relaxation_factor': 1.0, 'sparsity_coefficient': 0.0001442139844906696, 'bn_momentum': 0.9936643967947719}. Best is trial 75 with value: 2.3607.\n",
      "Epoch0\t['loss: 0.179', 'val2_auc: 0.726', 'val3_auc: 0.678', 'val4_auc: 0.738', 'sum_auc: 2.142']\n",
      "Epoch1\t['loss: 0.153', 'val2_auc: 0.773', 'val3_auc: 0.685', 'val4_auc: 0.720', 'sum_auc: 2.178']\n",
      "Epoch2\t['loss: 0.146', 'val2_auc: 0.789', 'val3_auc: 0.698', 'val4_auc: 0.685', 'sum_auc: 2.173']\n",
      "Epoch3\t['loss: 0.141', 'val2_auc: 0.796', 'val3_auc: 0.713', 'val4_auc: 0.631', 'sum_auc: 2.139']\n",
      "Epoch4\t['loss: 0.139', 'val2_auc: 0.801', 'val3_auc: 0.705', 'val4_auc: 0.608', 'sum_auc: 2.114']\n",
      "Epoch5\t['loss: 0.137', 'val2_auc: 0.806', 'val3_auc: 0.728', 'val4_auc: 0.676', 'sum_auc: 2.210']\n",
      "Epoch6\t['loss: 0.136', 'val2_auc: 0.807', 'val3_auc: 0.729', 'val4_auc: 0.736', 'sum_auc: 2.272']\n",
      "Epoch7\t['loss: 0.135', 'val2_auc: 0.809', 'val3_auc: 0.731', 'val4_auc: 0.674', 'sum_auc: 2.214']\n",
      "Epoch8\t['loss: 0.134', 'val2_auc: 0.814', 'val3_auc: 0.744', 'val4_auc: 0.659', 'sum_auc: 2.217']\n",
      "Epoch9\t['loss: 0.133', 'val2_auc: 0.812', 'val3_auc: 0.725', 'val4_auc: 0.680', 'sum_auc: 2.217']\n",
      "[I 2023-07-14 18:56:38,605] Trial 89 finished with value: 2.2166 and parameters: {'feature_dim': 64, 'n_step': 2, 'n_shared': 2, 'relaxation_factor': 1.1, 'sparsity_coefficient': 0.00018319494771933977, 'bn_momentum': 0.9853866165847156}. Best is trial 75 with value: 2.3607.\n",
      "Epoch2\t['loss: 0.153', 'val2_auc: 0.750', 'val3_auc: 0.697', 'val4_auc: 0.706', 'sum_auc: 2.154']\n",
      "Epoch3\t['loss: 0.148', 'val2_auc: 0.764', 'val3_auc: 0.716', 'val4_auc: 0.734', 'sum_auc: 2.214']\n",
      "Epoch4\t['loss: 0.146', 'val2_auc: 0.772', 'val3_auc: 0.723', 'val4_auc: 0.725', 'sum_auc: 2.220']\n",
      "Epoch5\t['loss: 0.144', 'val2_auc: 0.774', 'val3_auc: 0.701', 'val4_auc: 0.761', 'sum_auc: 2.236']\n",
      "Epoch 5: early stopping Threshold\n",
      "[I 2023-07-14 19:01:03,336] Trial 90 finished with value: 2.2419 and parameters: {'feature_dim': 64, 'n_step': 5, 'n_shared': 1, 'relaxation_factor': 1.0, 'sparsity_coefficient': 0.0003805120552356859, 'bn_momentum': 0.9967111541697032}. Best is trial 75 with value: 2.3607.\n",
      "Epoch0\t['loss: 0.191', 'val2_auc: 0.717', 'val3_auc: 0.666', 'val4_auc: 0.836', 'sum_auc: 2.220']\n",
      "Epoch1\t['loss: 0.165', 'val2_auc: 0.733', 'val3_auc: 0.676', 'val4_auc: 0.803', 'sum_auc: 2.212']\n",
      "Epoch2\t['loss: 0.159', 'val2_auc: 0.725', 'val3_auc: 0.683', 'val4_auc: 0.740', 'sum_auc: 2.148']\n",
      "Epoch3\t['loss: 0.156', 'val2_auc: 0.738', 'val3_auc: 0.668', 'val4_auc: 0.724', 'sum_auc: 2.130']\n",
      "Epoch4\t['loss: 0.154', 'val2_auc: 0.740', 'val3_auc: 0.669', 'val4_auc: 0.735', 'sum_auc: 2.144']\n",
      "Epoch5\t['loss: 0.152', 'val2_auc: 0.738', 'val3_auc: 0.677', 'val4_auc: 0.685', 'sum_auc: 2.099']\n",
      "Epoch 5: early stopping Threshold\n",
      "[I 2023-07-14 19:06:50,847] Trial 91 finished with value: 2.2194 and parameters: {'feature_dim': 32, 'n_step': 7, 'n_shared': 2, 'relaxation_factor': 1.2, 'sparsity_coefficient': 3.889995099610577e-05, 'bn_momentum': 0.9981869788531498}. Best is trial 75 with value: 2.3607.\n",
      "Epoch0\t['loss: 0.225', 'val2_auc: 0.655', 'val3_auc: 0.649', 'val4_auc: 0.687', 'sum_auc: 1.992']\n",
      "Epoch1\t['loss: 0.166', 'val2_auc: 0.689', 'val3_auc: 0.662', 'val4_auc: 0.664', 'sum_auc: 2.015']\n",
      "Epoch2\t['loss: 0.161', 'val2_auc: 0.704', 'val3_auc: 0.669', 'val4_auc: 0.637', 'sum_auc: 2.010']\n",
      "Epoch3\t['loss: 0.158', 'val2_auc: 0.717', 'val3_auc: 0.706', 'val4_auc: 0.695', 'sum_auc: 2.118']\n",
      "Epoch4\t['loss: 0.157', 'val2_auc: 0.734', 'val3_auc: 0.689', 'val4_auc: 0.734', 'sum_auc: 2.157']\n",
      "Epoch5\t['loss: 0.155', 'val2_auc: 0.731', 'val3_auc: 0.688', 'val4_auc: 0.663', 'sum_auc: 2.082']\n",
      "Epoch6\t['loss: 0.154', 'val2_auc: 0.732', 'val3_auc: 0.673', 'val4_auc: 0.677', 'sum_auc: 2.082']\n",
      "Epoch7\t['loss: 0.153', 'val2_auc: 0.739', 'val3_auc: 0.680', 'val4_auc: 0.681', 'sum_auc: 2.101']\n",
      "Epoch8\t['loss: 0.152', 'val2_auc: 0.754', 'val3_auc: 0.675', 'val4_auc: 0.728', 'sum_auc: 2.157']\n",
      "Epoch9\t['loss: 0.151', 'val2_auc: 0.730', 'val3_auc: 0.671', 'val4_auc: 0.589', 'sum_auc: 1.990']\n",
      "[I 2023-07-14 19:15:05,115] Trial 92 finished with value: 1.99 and parameters: {'feature_dim': 16, 'n_step': 6, 'n_shared': 3, 'relaxation_factor': 1.1, 'sparsity_coefficient': 0.00011441915453862153, 'bn_momentum': 0.9958119007995833}. Best is trial 75 with value: 2.3607.\n",
      "Epoch0\t['loss: 0.174', 'val2_auc: 0.747', 'val3_auc: 0.684', 'val4_auc: 0.647', 'sum_auc: 2.079']\n",
      "Epoch1\t['loss: 0.151', 'val2_auc: 0.753', 'val3_auc: 0.674', 'val4_auc: 0.641', 'sum_auc: 2.068']\n",
      "Epoch2\t['loss: 0.147', 'val2_auc: 0.770', 'val3_auc: 0.670', 'val4_auc: 0.641', 'sum_auc: 2.081']\n",
      "Epoch3\t['loss: 0.146', 'val2_auc: 0.763', 'val3_auc: 0.682', 'val4_auc: 0.678', 'sum_auc: 2.124']\n",
      "Epoch4\t['loss: 0.144', 'val2_auc: 0.767', 'val3_auc: 0.692', 'val4_auc: 0.649', 'sum_auc: 2.108']\n",
      "Epoch5\t['loss: 0.143', 'val2_auc: 0.770', 'val3_auc: 0.676', 'val4_auc: 0.576', 'sum_auc: 2.022']\n",
      "Epoch6\t['loss: 0.141', 'val2_auc: 0.775', 'val3_auc: 0.680', 'val4_auc: 0.660', 'sum_auc: 2.116']\n",
      "Epoch7\t['loss: 0.141', 'val2_auc: 0.783', 'val3_auc: 0.690', 'val4_auc: 0.694', 'sum_auc: 2.168']\n",
      "Epoch8\t['loss: 0.140', 'val2_auc: 0.776', 'val3_auc: 0.695', 'val4_auc: 0.625', 'sum_auc: 2.096']\n",
      "Epoch9\t['loss: 0.140', 'val2_auc: 0.786', 'val3_auc: 0.696', 'val4_auc: 0.613', 'sum_auc: 2.095']\n",
      "[I 2023-07-14 19:21:22,654] Trial 93 finished with value: 2.0952 and parameters: {'feature_dim': 256, 'n_step': 3, 'n_shared': 2, 'relaxation_factor': 1.3, 'sparsity_coefficient': 0.00021827966947781855, 'bn_momentum': 0.9933788924983785}. Best is trial 75 with value: 2.3607.\n",
      "Epoch0\t['loss: 0.166', 'val2_auc: 0.763', 'val3_auc: 0.697', 'val4_auc: 0.784', 'sum_auc: 2.244']\n",
      "Epoch1\t['loss: 0.147', 'val2_auc: 0.781', 'val3_auc: 0.695', 'val4_auc: 0.632', 'sum_auc: 2.108']\n",
      "Epoch2\t['loss: 0.144', 'val2_auc: 0.786', 'val3_auc: 0.705', 'val4_auc: 0.706', 'sum_auc: 2.198']\n",
      "Epoch3\t['loss: 0.142', 'val2_auc: 0.766', 'val3_auc: 0.739', 'val4_auc: 0.672', 'sum_auc: 2.177']\n",
      "Epoch4\t['loss: 0.142', 'val2_auc: 0.796', 'val3_auc: 0.739', 'val4_auc: 0.687', 'sum_auc: 2.222']\n",
      "Epoch5\t['loss: 0.140', 'val2_auc: 0.799', 'val3_auc: 0.708', 'val4_auc: 0.756', 'sum_auc: 2.263']\n",
      "Epoch6\t['loss: 0.138', 'val2_auc: 0.802', 'val3_auc: 0.740', 'val4_auc: 0.736', 'sum_auc: 2.279']\n",
      "Epoch7\t['loss: 0.137', 'val2_auc: 0.804', 'val3_auc: 0.719', 'val4_auc: 0.755', 'sum_auc: 2.278']\n",
      "Epoch8\t['loss: 0.136', 'val2_auc: 0.806', 'val3_auc: 0.721', 'val4_auc: 0.757', 'sum_auc: 2.284']\n",
      "Epoch9\t['loss: 0.135', 'val2_auc: 0.809', 'val3_auc: 0.752', 'val4_auc: 0.732', 'sum_auc: 2.293']\n",
      "[I 2023-07-14 19:26:03,127] Trial 94 finished with value: 2.2935 and parameters: {'feature_dim': 256, 'n_step': 2, 'n_shared': 2, 'relaxation_factor': 1.2, 'sparsity_coefficient': 8.363144151094225e-05, 'bn_momentum': 0.9973218744954349}. Best is trial 75 with value: 2.3607.\n",
      "Epoch0\t['loss: 0.178', 'val2_auc: 0.766', 'val3_auc: 0.685', 'val4_auc: 0.797', 'sum_auc: 2.247']\n",
      "Epoch1\t['loss: 0.158', 'val2_auc: 0.756', 'val3_auc: 0.684', 'val4_auc: 0.761', 'sum_auc: 2.200']\n",
      "Epoch2\t['loss: 0.151', 'val2_auc: 0.763', 'val3_auc: 0.687', 'val4_auc: 0.777', 'sum_auc: 2.227']\n",
      "Epoch3\t['loss: 0.147', 'val2_auc: 0.769', 'val3_auc: 0.707', 'val4_auc: 0.838', 'sum_auc: 2.314']\n",
      "Epoch4\t['loss: 0.145', 'val2_auc: 0.772', 'val3_auc: 0.694', 'val4_auc: 0.795', 'sum_auc: 2.261']\n",
      "Epoch5\t['loss: 0.144', 'val2_auc: 0.769', 'val3_auc: 0.694', 'val4_auc: 0.835', 'sum_auc: 2.298']\n",
      "Epoch6\t['loss: 0.143', 'val2_auc: 0.764', 'val3_auc: 0.699', 'val4_auc: 0.838', 'sum_auc: 2.302']\n",
      "Epoch7\t['loss: 0.141', 'val2_auc: 0.769', 'val3_auc: 0.705', 'val4_auc: 0.751', 'sum_auc: 2.224']\n",
      "Epoch8\t['loss: 0.140', 'val2_auc: 0.769', 'val3_auc: 0.704', 'val4_auc: 0.786', 'sum_auc: 2.258']\n",
      "Epoch 8: early stopping Threshold\n",
      "[I 2023-07-14 19:35:43,165] Trial 95 finished with value: 2.3139 and parameters: {'feature_dim': 256, 'n_step': 6, 'n_shared': 3, 'relaxation_factor': 1.0, 'sparsity_coefficient': 5.678098990179924e-05, 'bn_momentum': 0.9998255140851426}. Best is trial 75 with value: 2.3607.\n",
      "Epoch0\t['loss: 0.195', 'val2_auc: 0.689', 'val3_auc: 0.669', 'val4_auc: 0.731', 'sum_auc: 2.089']\n",
      "Epoch1\t['loss: 0.164', 'val2_auc: 0.725', 'val3_auc: 0.683', 'val4_auc: 0.675', 'sum_auc: 2.083']\n",
      "Epoch2\t['loss: 0.158', 'val2_auc: 0.729', 'val3_auc: 0.678', 'val4_auc: 0.666', 'sum_auc: 2.073']\n",
      "Epoch3\t['loss: 0.155', 'val2_auc: 0.745', 'val3_auc: 0.694', 'val4_auc: 0.651', 'sum_auc: 2.090']\n",
      "Epoch4\t['loss: 0.152', 'val2_auc: 0.753', 'val3_auc: 0.685', 'val4_auc: 0.621', 'sum_auc: 2.060']\n",
      "Epoch5\t['loss: 0.151', 'val2_auc: 0.753', 'val3_auc: 0.680', 'val4_auc: 0.623', 'sum_auc: 2.056']\n",
      "Epoch6\t['loss: 0.149', 'val2_auc: 0.765', 'val3_auc: 0.676', 'val4_auc: 0.662', 'sum_auc: 2.103']\n",
      "Epoch9\t['loss: 0.144', 'val2_auc: 0.767', 'val3_auc: 0.665', 'val4_auc: 0.576', 'sum_auc: 2.008']\n",
      "[I 2023-07-14 19:43:57,548] Trial 96 finished with value: 2.0082 and parameters: {'feature_dim': 64, 'n_step': 6, 'n_shared': 3, 'relaxation_factor': 1.0, 'sparsity_coefficient': 0.0005612943998910708, 'bn_momentum': 0.9945284931462776}. Best is trial 75 with value: 2.3607.\n",
      "Epoch0\t['loss: 0.179', 'val2_auc: 0.729', 'val3_auc: 0.680', 'val4_auc: 0.734', 'sum_auc: 2.143']\n",
      "Epoch1\t['loss: 0.154', 'val2_auc: 0.750', 'val3_auc: 0.679', 'val4_auc: 0.731', 'sum_auc: 2.161']\n",
      "Epoch2\t['loss: 0.149', 'val2_auc: 0.762', 'val3_auc: 0.684', 'val4_auc: 0.740', 'sum_auc: 2.186']\n",
      "Epoch3\t['loss: 0.146', 'val2_auc: 0.774', 'val3_auc: 0.678', 'val4_auc: 0.676', 'sum_auc: 2.129']\n",
      "Epoch4\t['loss: 0.144', 'val2_auc: 0.782', 'val3_auc: 0.676', 'val4_auc: 0.651', 'sum_auc: 2.109']\n",
      "Epoch5\t['loss: 0.142', 'val2_auc: 0.780', 'val3_auc: 0.676', 'val4_auc: 0.661', 'sum_auc: 2.117']\n",
      "Epoch6\t['loss: 0.141', 'val2_auc: 0.789', 'val3_auc: 0.678', 'val4_auc: 0.627', 'sum_auc: 2.093']\n",
      "Epoch7\t['loss: 0.139', 'val2_auc: 0.790', 'val3_auc: 0.685', 'val4_auc: 0.672', 'sum_auc: 2.147']\n",
      "Epoch 7: early stopping Threshold\n",
      "[I 2023-07-14 19:50:44,543] Trial 97 finished with value: 2.1858 and parameters: {'feature_dim': 32, 'n_step': 6, 'n_shared': 0, 'relaxation_factor': 1.1, 'sparsity_coefficient': 5.955696381402883e-05, 'bn_momentum': 0.9908961238772228}. Best is trial 75 with value: 2.3607.\n",
      "Epoch0\t['loss: 0.175', 'val2_auc: 0.762', 'val3_auc: 0.682', 'val4_auc: 0.814', 'sum_auc: 2.257']\n",
      "Epoch1\t['loss: 0.156', 'val2_auc: 0.760', 'val3_auc: 0.712', 'val4_auc: 0.730', 'sum_auc: 2.202']\n",
      "Epoch2\t['loss: 0.149', 'val2_auc: 0.765', 'val3_auc: 0.696', 'val4_auc: 0.620', 'sum_auc: 2.081']\n",
      "Epoch3\t['loss: 0.145', 'val2_auc: 0.770', 'val3_auc: 0.705', 'val4_auc: 0.623', 'sum_auc: 2.098']\n",
      "Epoch4\t['loss: 0.142', 'val2_auc: 0.776', 'val3_auc: 0.706', 'val4_auc: 0.637', 'sum_auc: 2.119']\n",
      "Epoch5\t['loss: 0.141', 'val2_auc: 0.775', 'val3_auc: 0.696', 'val4_auc: 0.591', 'sum_auc: 2.062']\n",
      "Epoch 5: early stopping Threshold\n",
      "[I 2023-07-14 19:56:29,827] Trial 98 finished with value: 2.2575 and parameters: {'feature_dim': 256, 'n_step': 5, 'n_shared': 2, 'relaxation_factor': 1.0, 'sparsity_coefficient': 0.0002774976235016847, 'bn_momentum': 0.9976715881606901}. Best is trial 75 with value: 2.3607.\n",
      "Epoch0\t['loss: 0.179', 'val2_auc: 0.667', 'val3_auc: 0.648', 'val4_auc: 0.638', 'sum_auc: 1.953']\n",
      "Epoch1\t['loss: 0.162', 'val2_auc: 0.728', 'val3_auc: 0.656', 'val4_auc: 0.656', 'sum_auc: 2.040']\n",
      "Epoch2\t['loss: 0.155', 'val2_auc: 0.738', 'val3_auc: 0.663', 'val4_auc: 0.683', 'sum_auc: 2.084']\n",
      "Epoch3\t['loss: 0.152', 'val2_auc: 0.755', 'val3_auc: 0.682', 'val4_auc: 0.695', 'sum_auc: 2.132']\n",
      "Epoch5\t['loss: 0.148', 'val2_auc: 0.757', 'val3_auc: 0.671', 'val4_auc: 0.682', 'sum_auc: 2.110']\n",
      "Epoch6\t['loss: 0.146', 'val2_auc: 0.756', 'val3_auc: 0.667', 'val4_auc: 0.714', 'sum_auc: 2.138']\n",
      "Epoch7\t['loss: 0.145', 'val2_auc: 0.758', 'val3_auc: 0.656', 'val4_auc: 0.639', 'sum_auc: 2.054']\n",
      "Epoch8\t['loss: 0.144', 'val2_auc: 0.765', 'val3_auc: 0.656', 'val4_auc: 0.617', 'sum_auc: 2.038']\n",
      "Epoch9\t['loss: 0.143', 'val2_auc: 0.762', 'val3_auc: 0.668', 'val4_auc: 0.575', 'sum_auc: 2.005']\n",
      "[I 2023-07-14 20:07:19,471] Trial 99 finished with value: 2.0047 and parameters: {'feature_dim': 256, 'n_step': 6, 'n_shared': 2, 'relaxation_factor': 1.1, 'sparsity_coefficient': 0.0007651948881843217, 'bn_momentum': 0.9881640366790869}. Best is trial 75 with value: 2.3607.\n"
     ]
    }
   ],
   "source": [
    "import optuna\n",
    "from optuna import Trial, visualization\n",
    "\n",
    "def Objective(trial):\n",
    "    feature_dim = trial.suggest_categorical(\"feature_dim\", [8,16,32, 64, 128,256])\n",
    "    n_step = trial.suggest_int(\"n_step\", 2, 9, step=1)\n",
    "    n_shared = trial.suggest_int(\"n_shared\", 0, 4, step=1)\n",
    "    relaxation_factor = trial.suggest_float(\"relaxation_factor\", 1., 3., step=0.1)\n",
    "    sparsity_coefficient = trial.suggest_float(\"sparsity_coefficient\", 0.00000001, 0.1, log=True)\n",
    "    bn_momentum = trial.suggest_float('bn_momentum', 0.9, 0.9999)\n",
    "    tabnet_params = dict(num_features=flat_x[0].shape[1],\n",
    "                         output_dim=feature_dim,\n",
    "                         feature_dim=feature_dim,\n",
    "                         n_step=n_step, \n",
    "                         relaxation_factor=relaxation_factor,\n",
    "                         sparsity_coefficient=sparsity_coefficient,\n",
    "                         n_shared = n_shared,\n",
    "                         bn_momentum = bn_momentum\n",
    "                     )\n",
    "    \n",
    "    cbs = [\n",
    "    # tf.keras.callbacks.EarlyStopping(monitor=\"val_loss\", patience=30, restore_best_weights=False)\n",
    "        EarlyStopByAUCSUM(dataset= [datasets[1],datasets[2], datasets[3]], patience=5)\n",
    "        # ,  MultiValidationCallback([datasets[1],datasets[2], datasets[3]])\n",
    "        ]\n",
    "    \n",
    "    tn = TabNet(**tabnet_params)\n",
    "    optimizer = tf.keras.optimizers.Adam(learning_rate=0.001,clipnorm=10)\n",
    "    loss = [tf.keras.losses.BinaryCrossentropy()]\n",
    "    \n",
    "    tn.compile(\n",
    "            optimizer,\n",
    "            loss=loss)\n",
    "            #    metrics = metrics.AUC(name='auc', curve='ROC')\n",
    "\n",
    "    tn.fit(datasets[0], \n",
    "          epochs=10, \n",
    "          validation_data=datasets[1],\n",
    "          callbacks=cbs,\n",
    "          verbose=0)\n",
    "    \n",
    "    \n",
    "    auc_scores = []\n",
    "    for i in range(3):\n",
    "        idx = i+1\n",
    "        val_preds, _ =  tn.predict(datasets[idx])\n",
    "        auc_scores.append(roc_auc_score(y[idx], val_preds))\n",
    "    score = np.round(sum(auc_scores),4)\n",
    "    \n",
    "    return score\n",
    "\n",
    "study = optuna.create_study(direction=\"maximize\", study_name='TabNet optimization')\n",
    "study.optimize(Objective, n_jobs=1, n_trials=100, gc_after_trial=True, show_progress_bar=True) "
   ]
  },
  {
   "cell_type": "code",
   "execution_count": 10,
   "id": "aa70d0e1",
   "metadata": {},
   "outputs": [
    {
     "name": "stdout",
     "output_type": "stream",
     "text": [
      "Best trial: score 2.3607,\n",
      "params {'feature_dim': 256, 'n_step': 2, 'n_shared': 2, 'relaxation_factor': 1.0, 'sparsity_coefficient': 0.00044768001615344994, 'bn_momentum': 0.9998302996755233}\n"
     ]
    },
    {
     "data": {
      "application/vnd.plotly.v1+json": {
       "config": {
        "plotlyServerURL": "https://plot.ly"
       },
       "data": [
        {
         "cliponaxis": false,
         "hovertemplate": [
          "sparsity_coefficient (FloatDistribution): 0.012651115255380334<extra></extra>",
          "n_shared (IntDistribution): 0.019043681289581376<extra></extra>",
          "feature_dim (CategoricalDistribution): 0.05198031409673394<extra></extra>",
          "n_step (IntDistribution): 0.14416550423495308<extra></extra>",
          "relaxation_factor (FloatDistribution): 0.30318175047124607<extra></extra>",
          "bn_momentum (FloatDistribution): 0.46897763465210524<extra></extra>"
         ],
         "marker": {
          "color": "rgb(66,146,198)"
         },
         "orientation": "h",
         "text": [
          "0.01",
          "0.02",
          "0.05",
          "0.14",
          "0.30",
          "0.47"
         ],
         "textposition": "outside",
         "type": "bar",
         "x": [
          0.012651115255380334,
          0.019043681289581376,
          0.05198031409673394,
          0.14416550423495308,
          0.30318175047124607,
          0.46897763465210524
         ],
         "y": [
          "sparsity_coefficient",
          "n_shared",
          "feature_dim",
          "n_step",
          "relaxation_factor",
          "bn_momentum"
         ]
        }
       ],
       "layout": {
        "autosize": true,
        "showlegend": false,
        "template": {
         "data": {
          "bar": [
           {
            "error_x": {
             "color": "#2a3f5f"
            },
            "error_y": {
             "color": "#2a3f5f"
            },
            "marker": {
             "line": {
              "color": "#E5ECF6",
              "width": 0.5
             },
             "pattern": {
              "fillmode": "overlay",
              "size": 10,
              "solidity": 0.2
             }
            },
            "type": "bar"
           }
          ],
          "barpolar": [
           {
            "marker": {
             "line": {
              "color": "#E5ECF6",
              "width": 0.5
             },
             "pattern": {
              "fillmode": "overlay",
              "size": 10,
              "solidity": 0.2
             }
            },
            "type": "barpolar"
           }
          ],
          "carpet": [
           {
            "aaxis": {
             "endlinecolor": "#2a3f5f",
             "gridcolor": "white",
             "linecolor": "white",
             "minorgridcolor": "white",
             "startlinecolor": "#2a3f5f"
            },
            "baxis": {
             "endlinecolor": "#2a3f5f",
             "gridcolor": "white",
             "linecolor": "white",
             "minorgridcolor": "white",
             "startlinecolor": "#2a3f5f"
            },
            "type": "carpet"
           }
          ],
          "choropleth": [
           {
            "colorbar": {
             "outlinewidth": 0,
             "ticks": ""
            },
            "type": "choropleth"
           }
          ],
          "contour": [
           {
            "colorbar": {
             "outlinewidth": 0,
             "ticks": ""
            },
            "colorscale": [
             [
              0,
              "#0d0887"
             ],
             [
              0.1111111111111111,
              "#46039f"
             ],
             [
              0.2222222222222222,
              "#7201a8"
             ],
             [
              0.3333333333333333,
              "#9c179e"
             ],
             [
              0.4444444444444444,
              "#bd3786"
             ],
             [
              0.5555555555555556,
              "#d8576b"
             ],
             [
              0.6666666666666666,
              "#ed7953"
             ],
             [
              0.7777777777777778,
              "#fb9f3a"
             ],
             [
              0.8888888888888888,
              "#fdca26"
             ],
             [
              1,
              "#f0f921"
             ]
            ],
            "type": "contour"
           }
          ],
          "contourcarpet": [
           {
            "colorbar": {
             "outlinewidth": 0,
             "ticks": ""
            },
            "type": "contourcarpet"
           }
          ],
          "heatmap": [
           {
            "colorbar": {
             "outlinewidth": 0,
             "ticks": ""
            },
            "colorscale": [
             [
              0,
              "#0d0887"
             ],
             [
              0.1111111111111111,
              "#46039f"
             ],
             [
              0.2222222222222222,
              "#7201a8"
             ],
             [
              0.3333333333333333,
              "#9c179e"
             ],
             [
              0.4444444444444444,
              "#bd3786"
             ],
             [
              0.5555555555555556,
              "#d8576b"
             ],
             [
              0.6666666666666666,
              "#ed7953"
             ],
             [
              0.7777777777777778,
              "#fb9f3a"
             ],
             [
              0.8888888888888888,
              "#fdca26"
             ],
             [
              1,
              "#f0f921"
             ]
            ],
            "type": "heatmap"
           }
          ],
          "heatmapgl": [
           {
            "colorbar": {
             "outlinewidth": 0,
             "ticks": ""
            },
            "colorscale": [
             [
              0,
              "#0d0887"
             ],
             [
              0.1111111111111111,
              "#46039f"
             ],
             [
              0.2222222222222222,
              "#7201a8"
             ],
             [
              0.3333333333333333,
              "#9c179e"
             ],
             [
              0.4444444444444444,
              "#bd3786"
             ],
             [
              0.5555555555555556,
              "#d8576b"
             ],
             [
              0.6666666666666666,
              "#ed7953"
             ],
             [
              0.7777777777777778,
              "#fb9f3a"
             ],
             [
              0.8888888888888888,
              "#fdca26"
             ],
             [
              1,
              "#f0f921"
             ]
            ],
            "type": "heatmapgl"
           }
          ],
          "histogram": [
           {
            "marker": {
             "pattern": {
              "fillmode": "overlay",
              "size": 10,
              "solidity": 0.2
             }
            },
            "type": "histogram"
           }
          ],
          "histogram2d": [
           {
            "colorbar": {
             "outlinewidth": 0,
             "ticks": ""
            },
            "colorscale": [
             [
              0,
              "#0d0887"
             ],
             [
              0.1111111111111111,
              "#46039f"
             ],
             [
              0.2222222222222222,
              "#7201a8"
             ],
             [
              0.3333333333333333,
              "#9c179e"
             ],
             [
              0.4444444444444444,
              "#bd3786"
             ],
             [
              0.5555555555555556,
              "#d8576b"
             ],
             [
              0.6666666666666666,
              "#ed7953"
             ],
             [
              0.7777777777777778,
              "#fb9f3a"
             ],
             [
              0.8888888888888888,
              "#fdca26"
             ],
             [
              1,
              "#f0f921"
             ]
            ],
            "type": "histogram2d"
           }
          ],
          "histogram2dcontour": [
           {
            "colorbar": {
             "outlinewidth": 0,
             "ticks": ""
            },
            "colorscale": [
             [
              0,
              "#0d0887"
             ],
             [
              0.1111111111111111,
              "#46039f"
             ],
             [
              0.2222222222222222,
              "#7201a8"
             ],
             [
              0.3333333333333333,
              "#9c179e"
             ],
             [
              0.4444444444444444,
              "#bd3786"
             ],
             [
              0.5555555555555556,
              "#d8576b"
             ],
             [
              0.6666666666666666,
              "#ed7953"
             ],
             [
              0.7777777777777778,
              "#fb9f3a"
             ],
             [
              0.8888888888888888,
              "#fdca26"
             ],
             [
              1,
              "#f0f921"
             ]
            ],
            "type": "histogram2dcontour"
           }
          ],
          "mesh3d": [
           {
            "colorbar": {
             "outlinewidth": 0,
             "ticks": ""
            },
            "type": "mesh3d"
           }
          ],
          "parcoords": [
           {
            "line": {
             "colorbar": {
              "outlinewidth": 0,
              "ticks": ""
             }
            },
            "type": "parcoords"
           }
          ],
          "pie": [
           {
            "automargin": true,
            "type": "pie"
           }
          ],
          "scatter": [
           {
            "fillpattern": {
             "fillmode": "overlay",
             "size": 10,
             "solidity": 0.2
            },
            "type": "scatter"
           }
          ],
          "scatter3d": [
           {
            "line": {
             "colorbar": {
              "outlinewidth": 0,
              "ticks": ""
             }
            },
            "marker": {
             "colorbar": {
              "outlinewidth": 0,
              "ticks": ""
             }
            },
            "type": "scatter3d"
           }
          ],
          "scattercarpet": [
           {
            "marker": {
             "colorbar": {
              "outlinewidth": 0,
              "ticks": ""
             }
            },
            "type": "scattercarpet"
           }
          ],
          "scattergeo": [
           {
            "marker": {
             "colorbar": {
              "outlinewidth": 0,
              "ticks": ""
             }
            },
            "type": "scattergeo"
           }
          ],
          "scattergl": [
           {
            "marker": {
             "colorbar": {
              "outlinewidth": 0,
              "ticks": ""
             }
            },
            "type": "scattergl"
           }
          ],
          "scattermapbox": [
           {
            "marker": {
             "colorbar": {
              "outlinewidth": 0,
              "ticks": ""
             }
            },
            "type": "scattermapbox"
           }
          ],
          "scatterpolar": [
           {
            "marker": {
             "colorbar": {
              "outlinewidth": 0,
              "ticks": ""
             }
            },
            "type": "scatterpolar"
           }
          ],
          "scatterpolargl": [
           {
            "marker": {
             "colorbar": {
              "outlinewidth": 0,
              "ticks": ""
             }
            },
            "type": "scatterpolargl"
           }
          ],
          "scatterternary": [
           {
            "marker": {
             "colorbar": {
              "outlinewidth": 0,
              "ticks": ""
             }
            },
            "type": "scatterternary"
           }
          ],
          "surface": [
           {
            "colorbar": {
             "outlinewidth": 0,
             "ticks": ""
            },
            "colorscale": [
             [
              0,
              "#0d0887"
             ],
             [
              0.1111111111111111,
              "#46039f"
             ],
             [
              0.2222222222222222,
              "#7201a8"
             ],
             [
              0.3333333333333333,
              "#9c179e"
             ],
             [
              0.4444444444444444,
              "#bd3786"
             ],
             [
              0.5555555555555556,
              "#d8576b"
             ],
             [
              0.6666666666666666,
              "#ed7953"
             ],
             [
              0.7777777777777778,
              "#fb9f3a"
             ],
             [
              0.8888888888888888,
              "#fdca26"
             ],
             [
              1,
              "#f0f921"
             ]
            ],
            "type": "surface"
           }
          ],
          "table": [
           {
            "cells": {
             "fill": {
              "color": "#EBF0F8"
             },
             "line": {
              "color": "white"
             }
            },
            "header": {
             "fill": {
              "color": "#C8D4E3"
             },
             "line": {
              "color": "white"
             }
            },
            "type": "table"
           }
          ]
         },
         "layout": {
          "annotationdefaults": {
           "arrowcolor": "#2a3f5f",
           "arrowhead": 0,
           "arrowwidth": 1
          },
          "autotypenumbers": "strict",
          "coloraxis": {
           "colorbar": {
            "outlinewidth": 0,
            "ticks": ""
           }
          },
          "colorscale": {
           "diverging": [
            [
             0,
             "#8e0152"
            ],
            [
             0.1,
             "#c51b7d"
            ],
            [
             0.2,
             "#de77ae"
            ],
            [
             0.3,
             "#f1b6da"
            ],
            [
             0.4,
             "#fde0ef"
            ],
            [
             0.5,
             "#f7f7f7"
            ],
            [
             0.6,
             "#e6f5d0"
            ],
            [
             0.7,
             "#b8e186"
            ],
            [
             0.8,
             "#7fbc41"
            ],
            [
             0.9,
             "#4d9221"
            ],
            [
             1,
             "#276419"
            ]
           ],
           "sequential": [
            [
             0,
             "#0d0887"
            ],
            [
             0.1111111111111111,
             "#46039f"
            ],
            [
             0.2222222222222222,
             "#7201a8"
            ],
            [
             0.3333333333333333,
             "#9c179e"
            ],
            [
             0.4444444444444444,
             "#bd3786"
            ],
            [
             0.5555555555555556,
             "#d8576b"
            ],
            [
             0.6666666666666666,
             "#ed7953"
            ],
            [
             0.7777777777777778,
             "#fb9f3a"
            ],
            [
             0.8888888888888888,
             "#fdca26"
            ],
            [
             1,
             "#f0f921"
            ]
           ],
           "sequentialminus": [
            [
             0,
             "#0d0887"
            ],
            [
             0.1111111111111111,
             "#46039f"
            ],
            [
             0.2222222222222222,
             "#7201a8"
            ],
            [
             0.3333333333333333,
             "#9c179e"
            ],
            [
             0.4444444444444444,
             "#bd3786"
            ],
            [
             0.5555555555555556,
             "#d8576b"
            ],
            [
             0.6666666666666666,
             "#ed7953"
            ],
            [
             0.7777777777777778,
             "#fb9f3a"
            ],
            [
             0.8888888888888888,
             "#fdca26"
            ],
            [
             1,
             "#f0f921"
            ]
           ]
          },
          "colorway": [
           "#636efa",
           "#EF553B",
           "#00cc96",
           "#ab63fa",
           "#FFA15A",
           "#19d3f3",
           "#FF6692",
           "#B6E880",
           "#FF97FF",
           "#FECB52"
          ],
          "font": {
           "color": "#2a3f5f"
          },
          "geo": {
           "bgcolor": "white",
           "lakecolor": "white",
           "landcolor": "#E5ECF6",
           "showlakes": true,
           "showland": true,
           "subunitcolor": "white"
          },
          "hoverlabel": {
           "align": "left"
          },
          "hovermode": "closest",
          "mapbox": {
           "style": "light"
          },
          "paper_bgcolor": "white",
          "plot_bgcolor": "#E5ECF6",
          "polar": {
           "angularaxis": {
            "gridcolor": "white",
            "linecolor": "white",
            "ticks": ""
           },
           "bgcolor": "#E5ECF6",
           "radialaxis": {
            "gridcolor": "white",
            "linecolor": "white",
            "ticks": ""
           }
          },
          "scene": {
           "xaxis": {
            "backgroundcolor": "#E5ECF6",
            "gridcolor": "white",
            "gridwidth": 2,
            "linecolor": "white",
            "showbackground": true,
            "ticks": "",
            "zerolinecolor": "white"
           },
           "yaxis": {
            "backgroundcolor": "#E5ECF6",
            "gridcolor": "white",
            "gridwidth": 2,
            "linecolor": "white",
            "showbackground": true,
            "ticks": "",
            "zerolinecolor": "white"
           },
           "zaxis": {
            "backgroundcolor": "#E5ECF6",
            "gridcolor": "white",
            "gridwidth": 2,
            "linecolor": "white",
            "showbackground": true,
            "ticks": "",
            "zerolinecolor": "white"
           }
          },
          "shapedefaults": {
           "line": {
            "color": "#2a3f5f"
           }
          },
          "ternary": {
           "aaxis": {
            "gridcolor": "white",
            "linecolor": "white",
            "ticks": ""
           },
           "baxis": {
            "gridcolor": "white",
            "linecolor": "white",
            "ticks": ""
           },
           "bgcolor": "#E5ECF6",
           "caxis": {
            "gridcolor": "white",
            "linecolor": "white",
            "ticks": ""
           }
          },
          "title": {
           "x": 0.05
          },
          "xaxis": {
           "automargin": true,
           "gridcolor": "white",
           "linecolor": "white",
           "ticks": "",
           "title": {
            "standoff": 15
           },
           "zerolinecolor": "white",
           "zerolinewidth": 2
          },
          "yaxis": {
           "automargin": true,
           "gridcolor": "white",
           "linecolor": "white",
           "ticks": "",
           "title": {
            "standoff": 15
           },
           "zerolinecolor": "white",
           "zerolinewidth": 2
          }
         }
        },
        "title": {
         "text": "Hyperparameter Importances"
        },
        "xaxis": {
         "autorange": true,
         "range": [
          0,
          0.4936606680548476
         ],
         "title": {
          "text": "Importance for Objective Value"
         },
         "type": "linear"
        },
        "yaxis": {
         "autorange": true,
         "range": [
          -0.5,
          5.5
         ],
         "title": {
          "text": "Hyperparameter"
         },
         "type": "category"
        }
       }
      },
      "image/png": "[encoded data removed]",
      "text/html": [
       "<div>                            <div id=\"1e720933-52a9-4012-976d-1c076df362e6\" class=\"plotly-graph-div\" style=\"height:525px; width:100%;\"></div>            <script type=\"text/javascript\">                require([\"plotly\"], function(Plotly) {                    window.PLOTLYENV=window.PLOTLYENV || {};                                    if (document.getElementById(\"1e720933-52a9-4012-976d-1c076df362e6\")) {                    Plotly.newPlot(                        \"1e720933-52a9-4012-976d-1c076df362e6\",                        [{\"cliponaxis\":false,\"hovertemplate\":[\"sparsity_coefficient (FloatDistribution): 0.012651115255380334\\u003cextra\\u003e\\u003c\\u002fextra\\u003e\",\"n_shared (IntDistribution): 0.019043681289581376\\u003cextra\\u003e\\u003c\\u002fextra\\u003e\",\"feature_dim (CategoricalDistribution): 0.05198031409673394\\u003cextra\\u003e\\u003c\\u002fextra\\u003e\",\"n_step (IntDistribution): 0.14416550423495308\\u003cextra\\u003e\\u003c\\u002fextra\\u003e\",\"relaxation_factor (FloatDistribution): 0.30318175047124607\\u003cextra\\u003e\\u003c\\u002fextra\\u003e\",\"bn_momentum (FloatDistribution): 0.46897763465210524\\u003cextra\\u003e\\u003c\\u002fextra\\u003e\"],\"marker\":{\"color\":\"rgb(66,146,198)\"},\"orientation\":\"h\",\"text\":[\"0.01\",\"0.02\",\"0.05\",\"0.14\",\"0.30\",\"0.47\"],\"textposition\":\"outside\",\"x\":[0.012651115255380334,0.019043681289581376,0.05198031409673394,0.14416550423495308,0.30318175047124607,0.46897763465210524],\"y\":[\"sparsity_coefficient\",\"n_shared\",\"feature_dim\",\"n_step\",\"relaxation_factor\",\"bn_momentum\"],\"type\":\"bar\"}],                        {\"showlegend\":false,\"title\":{\"text\":\"Hyperparameter Importances\"},\"xaxis\":{\"title\":{\"text\":\"Importance for Objective Value\"}},\"yaxis\":{\"title\":{\"text\":\"Hyperparameter\"}},\"template\":{\"data\":{\"histogram2dcontour\":[{\"type\":\"histogram2dcontour\",\"colorbar\":{\"outlinewidth\":0,\"ticks\":\"\"},\"colorscale\":[[0.0,\"#0d0887\"],[0.1111111111111111,\"#46039f\"],[0.2222222222222222,\"#7201a8\"],[0.3333333333333333,\"#9c179e\"],[0.4444444444444444,\"#bd3786\"],[0.5555555555555556,\"#d8576b\"],[0.6666666666666666,\"#ed7953\"],[0.7777777777777778,\"#fb9f3a\"],[0.8888888888888888,\"#fdca26\"],[1.0,\"#f0f921\"]]}],\"choropleth\":[{\"type\":\"choropleth\",\"colorbar\":{\"outlinewidth\":0,\"ticks\":\"\"}}],\"histogram2d\":[{\"type\":\"histogram2d\",\"colorbar\":{\"outlinewidth\":0,\"ticks\":\"\"},\"colorscale\":[[0.0,\"#0d0887\"],[0.1111111111111111,\"#46039f\"],[0.2222222222222222,\"#7201a8\"],[0.3333333333333333,\"#9c179e\"],[0.4444444444444444,\"#bd3786\"],[0.5555555555555556,\"#d8576b\"],[0.6666666666666666,\"#ed7953\"],[0.7777777777777778,\"#fb9f3a\"],[0.8888888888888888,\"#fdca26\"],[1.0,\"#f0f921\"]]}],\"heatmap\":[{\"type\":\"heatmap\",\"colorbar\":{\"outlinewidth\":0,\"ticks\":\"\"},\"colorscale\":[[0.0,\"#0d0887\"],[0.1111111111111111,\"#46039f\"],[0.2222222222222222,\"#7201a8\"],[0.3333333333333333,\"#9c179e\"],[0.4444444444444444,\"#bd3786\"],[0.5555555555555556,\"#d8576b\"],[0.6666666666666666,\"#ed7953\"],[0.7777777777777778,\"#fb9f3a\"],[0.8888888888888888,\"#fdca26\"],[1.0,\"#f0f921\"]]}],\"heatmapgl\":[{\"type\":\"heatmapgl\",\"colorbar\":{\"outlinewidth\":0,\"ticks\":\"\"},\"colorscale\":[[0.0,\"#0d0887\"],[0.1111111111111111,\"#46039f\"],[0.2222222222222222,\"#7201a8\"],[0.3333333333333333,\"#9c179e\"],[0.4444444444444444,\"#bd3786\"],[0.5555555555555556,\"#d8576b\"],[0.6666666666666666,\"#ed7953\"],[0.7777777777777778,\"#fb9f3a\"],[0.8888888888888888,\"#fdca26\"],[1.0,\"#f0f921\"]]}],\"contourcarpet\":[{\"type\":\"contourcarpet\",\"colorbar\":{\"outlinewidth\":0,\"ticks\":\"\"}}],\"contour\":[{\"type\":\"contour\",\"colorbar\":{\"outlinewidth\":0,\"ticks\":\"\"},\"colorscale\":[[0.0,\"#0d0887\"],[0.1111111111111111,\"#46039f\"],[0.2222222222222222,\"#7201a8\"],[0.3333333333333333,\"#9c179e\"],[0.4444444444444444,\"#bd3786\"],[0.5555555555555556,\"#d8576b\"],[0.6666666666666666,\"#ed7953\"],[0.7777777777777778,\"#fb9f3a\"],[0.8888888888888888,\"#fdca26\"],[1.0,\"#f0f921\"]]}],\"surface\":[{\"type\":\"surface\",\"colorbar\":{\"outlinewidth\":0,\"ticks\":\"\"},\"colorscale\":[[0.0,\"#0d0887\"],[0.1111111111111111,\"#46039f\"],[0.2222222222222222,\"#7201a8\"],[0.3333333333333333,\"#9c179e\"],[0.4444444444444444,\"#bd3786\"],[0.5555555555555556,\"#d8576b\"],[0.6666666666666666,\"#ed7953\"],[0.7777777777777778,\"#fb9f3a\"],[0.8888888888888888,\"#fdca26\"],[1.0,\"#f0f921\"]]}],\"mesh3d\":[{\"type\":\"mesh3d\",\"colorbar\":{\"outlinewidth\":0,\"ticks\":\"\"}}],\"scatter\":[{\"fillpattern\":{\"fillmode\":\"overlay\",\"size\":10,\"solidity\":0.2},\"type\":\"scatter\"}],\"parcoords\":[{\"type\":\"parcoords\",\"line\":{\"colorbar\":{\"outlinewidth\":0,\"ticks\":\"\"}}}],\"scatterpolargl\":[{\"type\":\"scatterpolargl\",\"marker\":{\"colorbar\":{\"outlinewidth\":0,\"ticks\":\"\"}}}],\"bar\":[{\"error_x\":{\"color\":\"#2a3f5f\"},\"error_y\":{\"color\":\"#2a3f5f\"},\"marker\":{\"line\":{\"color\":\"#E5ECF6\",\"width\":0.5},\"pattern\":{\"fillmode\":\"overlay\",\"size\":10,\"solidity\":0.2}},\"type\":\"bar\"}],\"scattergeo\":[{\"type\":\"scattergeo\",\"marker\":{\"colorbar\":{\"outlinewidth\":0,\"ticks\":\"\"}}}],\"scatterpolar\":[{\"type\":\"scatterpolar\",\"marker\":{\"colorbar\":{\"outlinewidth\":0,\"ticks\":\"\"}}}],\"histogram\":[{\"marker\":{\"pattern\":{\"fillmode\":\"overlay\",\"size\":10,\"solidity\":0.2}},\"type\":\"histogram\"}],\"scattergl\":[{\"type\":\"scattergl\",\"marker\":{\"colorbar\":{\"outlinewidth\":0,\"ticks\":\"\"}}}],\"scatter3d\":[{\"type\":\"scatter3d\",\"line\":{\"colorbar\":{\"outlinewidth\":0,\"ticks\":\"\"}},\"marker\":{\"colorbar\":{\"outlinewidth\":0,\"ticks\":\"\"}}}],\"scattermapbox\":[{\"type\":\"scattermapbox\",\"marker\":{\"colorbar\":{\"outlinewidth\":0,\"ticks\":\"\"}}}],\"scatterternary\":[{\"type\":\"scatterternary\",\"marker\":{\"colorbar\":{\"outlinewidth\":0,\"ticks\":\"\"}}}],\"scattercarpet\":[{\"type\":\"scattercarpet\",\"marker\":{\"colorbar\":{\"outlinewidth\":0,\"ticks\":\"\"}}}],\"carpet\":[{\"aaxis\":{\"endlinecolor\":\"#2a3f5f\",\"gridcolor\":\"white\",\"linecolor\":\"white\",\"minorgridcolor\":\"white\",\"startlinecolor\":\"#2a3f5f\"},\"baxis\":{\"endlinecolor\":\"#2a3f5f\",\"gridcolor\":\"white\",\"linecolor\":\"white\",\"minorgridcolor\":\"white\",\"startlinecolor\":\"#2a3f5f\"},\"type\":\"carpet\"}],\"table\":[{\"cells\":{\"fill\":{\"color\":\"#EBF0F8\"},\"line\":{\"color\":\"white\"}},\"header\":{\"fill\":{\"color\":\"#C8D4E3\"},\"line\":{\"color\":\"white\"}},\"type\":\"table\"}],\"barpolar\":[{\"marker\":{\"line\":{\"color\":\"#E5ECF6\",\"width\":0.5},\"pattern\":{\"fillmode\":\"overlay\",\"size\":10,\"solidity\":0.2}},\"type\":\"barpolar\"}],\"pie\":[{\"automargin\":true,\"type\":\"pie\"}]},\"layout\":{\"autotypenumbers\":\"strict\",\"colorway\":[\"#636efa\",\"#EF553B\",\"#00cc96\",\"#ab63fa\",\"#FFA15A\",\"#19d3f3\",\"#FF6692\",\"#B6E880\",\"#FF97FF\",\"#FECB52\"],\"font\":{\"color\":\"#2a3f5f\"},\"hovermode\":\"closest\",\"hoverlabel\":{\"align\":\"left\"},\"paper_bgcolor\":\"white\",\"plot_bgcolor\":\"#E5ECF6\",\"polar\":{\"bgcolor\":\"#E5ECF6\",\"angularaxis\":{\"gridcolor\":\"white\",\"linecolor\":\"white\",\"ticks\":\"\"},\"radialaxis\":{\"gridcolor\":\"white\",\"linecolor\":\"white\",\"ticks\":\"\"}},\"ternary\":{\"bgcolor\":\"#E5ECF6\",\"aaxis\":{\"gridcolor\":\"white\",\"linecolor\":\"white\",\"ticks\":\"\"},\"baxis\":{\"gridcolor\":\"white\",\"linecolor\":\"white\",\"ticks\":\"\"},\"caxis\":{\"gridcolor\":\"white\",\"linecolor\":\"white\",\"ticks\":\"\"}},\"coloraxis\":{\"colorbar\":{\"outlinewidth\":0,\"ticks\":\"\"}},\"colorscale\":{\"sequential\":[[0.0,\"#0d0887\"],[0.1111111111111111,\"#46039f\"],[0.2222222222222222,\"#7201a8\"],[0.3333333333333333,\"#9c179e\"],[0.4444444444444444,\"#bd3786\"],[0.5555555555555556,\"#d8576b\"],[0.6666666666666666,\"#ed7953\"],[0.7777777777777778,\"#fb9f3a\"],[0.8888888888888888,\"#fdca26\"],[1.0,\"#f0f921\"]],\"sequentialminus\":[[0.0,\"#0d0887\"],[0.1111111111111111,\"#46039f\"],[0.2222222222222222,\"#7201a8\"],[0.3333333333333333,\"#9c179e\"],[0.4444444444444444,\"#bd3786\"],[0.5555555555555556,\"#d8576b\"],[0.6666666666666666,\"#ed7953\"],[0.7777777777777778,\"#fb9f3a\"],[0.8888888888888888,\"#fdca26\"],[1.0,\"#f0f921\"]],\"diverging\":[[0,\"#8e0152\"],[0.1,\"#c51b7d\"],[0.2,\"#de77ae\"],[0.3,\"#f1b6da\"],[0.4,\"#fde0ef\"],[0.5,\"#f7f7f7\"],[0.6,\"#e6f5d0\"],[0.7,\"#b8e186\"],[0.8,\"#7fbc41\"],[0.9,\"#4d9221\"],[1,\"#276419\"]]},\"xaxis\":{\"gridcolor\":\"white\",\"linecolor\":\"white\",\"ticks\":\"\",\"title\":{\"standoff\":15},\"zerolinecolor\":\"white\",\"automargin\":true,\"zerolinewidth\":2},\"yaxis\":{\"gridcolor\":\"white\",\"linecolor\":\"white\",\"ticks\":\"\",\"title\":{\"standoff\":15},\"zerolinecolor\":\"white\",\"automargin\":true,\"zerolinewidth\":2},\"scene\":{\"xaxis\":{\"backgroundcolor\":\"#E5ECF6\",\"gridcolor\":\"white\",\"linecolor\":\"white\",\"showbackground\":true,\"ticks\":\"\",\"zerolinecolor\":\"white\",\"gridwidth\":2},\"yaxis\":{\"backgroundcolor\":\"#E5ECF6\",\"gridcolor\":\"white\",\"linecolor\":\"white\",\"showbackground\":true,\"ticks\":\"\",\"zerolinecolor\":\"white\",\"gridwidth\":2},\"zaxis\":{\"backgroundcolor\":\"#E5ECF6\",\"gridcolor\":\"white\",\"linecolor\":\"white\",\"showbackground\":true,\"ticks\":\"\",\"zerolinecolor\":\"white\",\"gridwidth\":2}},\"shapedefaults\":{\"line\":{\"color\":\"#2a3f5f\"}},\"annotationdefaults\":{\"arrowcolor\":\"#2a3f5f\",\"arrowhead\":0,\"arrowwidth\":1},\"geo\":{\"bgcolor\":\"white\",\"landcolor\":\"#E5ECF6\",\"subunitcolor\":\"white\",\"showland\":true,\"showlakes\":true,\"lakecolor\":\"white\"},\"title\":{\"x\":0.05},\"mapbox\":{\"style\":\"light\"}}}},                        {\"responsive\": true}                    ).then(function(){\n",
       "                            \n",
       "var gd = document.getElementById('1e720933-52a9-4012-976d-1c076df362e6');\n",
       "var x = new MutationObserver(function (mutations, observer) {{\n",
       "        var display = window.getComputedStyle(gd).display;\n",
       "        if (!display || display === 'none') {{\n",
       "            console.log([gd, 'removed!']);\n",
       "            Plotly.purge(gd);\n",
       "            observer.disconnect();\n",
       "        }}\n",
       "}});\n",
       "\n",
       "// Listen for the removal of the full notebook cells\n",
       "var notebookContainer = gd.closest('#notebook-container');\n",
       "if (notebookContainer) {{\n",
       "    x.observe(notebookContainer, {childList: true});\n",
       "}}\n",
       "\n",
       "// Listen for the clearing of the current output cell\n",
       "var outputEl = gd.closest('.output');\n",
       "if (outputEl) {{\n",
       "    x.observe(outputEl, {childList: true});\n",
       "}}\n",
       "\n",
       "                        })                };                });            </script>        </div>"
      ]
     },
     "metadata": {},
     "output_type": "display_data"
    }
   ],
   "source": [
    "print('Best trial: score {},\\nparams {}'.format(study.best_trial.value,study.best_trial.params))\n",
    "optuna.visualization.plot_param_importances(study)"
   ]
  },
  {
   "cell_type": "code",
   "execution_count": 9,
   "id": "e63c8724",
   "metadata": {},
   "outputs": [
    {
     "data": {
      "application/vnd.plotly.v1+json": {
       "config": {
        "plotlyServerURL": "https://plot.ly"
       },
       "data": [
        {
         "mode": "markers",
         "name": "Objective Value",
         "type": "scatter",
         "x": [
          0,
          1,
          2,
          3,
          4,
          5,
          6,
          7,
          8,
          9,
          10,
          11,
          12,
          13,
          14,
          15,
          16,
          17,
          18,
          19,
          20,
          21,
          22,
          23,
          24,
          25,
          26,
          27,
          28,
          29,
          30,
          31,
          32,
          33,
          34,
          35,
          36,
          37,
          38,
          39,
          40,
          41,
          42,
          43,
          44,
          45,
          46,
          47,
          48,
          49,
          50,
          51,
          52,
          53,
          54,
          55,
          56,
          57,
          58,
          59,
          60,
          61,
          62,
          63,
          64,
          65,
          66,
          67,
          68,
          69,
          70,
          71,
          72,
          73,
          74,
          75,
          76,
          77,
          78,
          79,
          80,
          81,
          82,
          83,
          84,
          85,
          86,
          87,
          88,
          89,
          90,
          91,
          92,
          93,
          94,
          95,
          96,
          97,
          98,
          99
         ],
         "y": [
          2.1157,
          2.2173,
          2.1988,
          2.1813,
          2.1619,
          1.7912,
          2.0218,
          2.0906,
          2.0514,
          2.0996,
          1.9967,
          2.309,
          2.279,
          2.2484,
          2.1474,
          2.1054,
          2.2524,
          2.2099,
          2.1856,
          2.1358,
          2.0535,
          2.2428,
          2.2915,
          2.1353,
          2.1433,
          2.1641,
          2.2903,
          2.0562,
          2.2074,
          2.1351,
          2.1369,
          2.3143,
          2.179,
          2.2974,
          2.2643,
          2.1892,
          2.2156,
          2.1043,
          2.1329,
          2.161,
          2.1404,
          2.2863,
          2.2055,
          2.0631,
          2.2022,
          2.2809,
          2.0862,
          2.1041,
          2.2969,
          2.3189,
          2.1466,
          2.1391,
          2.2132,
          2.1239,
          2.3057,
          2.0308,
          2.0968,
          2.2527,
          2.0085,
          2.1725,
          2.2185,
          2.1178,
          2.22,
          2.2651,
          2.2248,
          2.0465,
          2.2728,
          2.217,
          2.2969,
          2.1723,
          2.0006,
          2.2896,
          1.8953,
          2.1504,
          2.1242,
          2.3607,
          2.2453,
          2.3423,
          2.2126,
          2.2562,
          2.2807,
          2.24,
          2.2431,
          2.2821,
          2.182,
          2.2018,
          2.3042,
          2.1601,
          2.1891,
          2.2166,
          2.2419,
          2.2194,
          1.99,
          2.0952,
          2.2935,
          2.3139,
          2.0082,
          2.1858,
          2.2575,
          2.0047
         ]
        },
        {
         "name": "Best Value",
         "type": "scatter",
         "x": [
          0,
          1,
          2,
          3,
          4,
          5,
          6,
          7,
          8,
          9,
          10,
          11,
          12,
          13,
          14,
          15,
          16,
          17,
          18,
          19,
          20,
          21,
          22,
          23,
          24,
          25,
          26,
          27,
          28,
          29,
          30,
          31,
          32,
          33,
          34,
          35,
          36,
          37,
          38,
          39,
          40,
          41,
          42,
          43,
          44,
          45,
          46,
          47,
          48,
          49,
          50,
          51,
          52,
          53,
          54,
          55,
          56,
          57,
          58,
          59,
          60,
          61,
          62,
          63,
          64,
          65,
          66,
          67,
          68,
          69,
          70,
          71,
          72,
          73,
          74,
          75,
          76,
          77,
          78,
          79,
          80,
          81,
          82,
          83,
          84,
          85,
          86,
          87,
          88,
          89,
          90,
          91,
          92,
          93,
          94,
          95,
          96,
          97,
          98,
          99
         ],
         "y": [
          2.1157,
          2.2173,
          2.2173,
          2.2173,
          2.2173,
          2.2173,
          2.2173,
          2.2173,
          2.2173,
          2.2173,
          2.2173,
          2.309,
          2.309,
          2.309,
          2.309,
          2.309,
          2.309,
          2.309,
          2.309,
          2.309,
          2.309,
          2.309,
          2.309,
          2.309,
          2.309,
          2.309,
          2.309,
          2.309,
          2.309,
          2.309,
          2.309,
          2.3143,
          2.3143,
          2.3143,
          2.3143,
          2.3143,
          2.3143,
          2.3143,
          2.3143,
          2.3143,
          2.3143,
          2.3143,
          2.3143,
          2.3143,
          2.3143,
          2.3143,
          2.3143,
          2.3143,
          2.3143,
          2.3189,
          2.3189,
          2.3189,
          2.3189,
          2.3189,
          2.3189,
          2.3189,
          2.3189,
          2.3189,
          2.3189,
          2.3189,
          2.3189,
          2.3189,
          2.3189,
          2.3189,
          2.3189,
          2.3189,
          2.3189,
          2.3189,
          2.3189,
          2.3189,
          2.3189,
          2.3189,
          2.3189,
          2.3189,
          2.3189,
          2.3607,
          2.3607,
          2.3607,
          2.3607,
          2.3607,
          2.3607,
          2.3607,
          2.3607,
          2.3607,
          2.3607,
          2.3607,
          2.3607,
          2.3607,
          2.3607,
          2.3607,
          2.3607,
          2.3607,
          2.3607,
          2.3607,
          2.3607,
          2.3607,
          2.3607,
          2.3607,
          2.3607,
          2.3607
         ]
        }
       ],
       "layout": {
        "autosize": true,
        "template": {
         "data": {
          "bar": [
           {
            "error_x": {
             "color": "#2a3f5f"
            },
            "error_y": {
             "color": "#2a3f5f"
            },
            "marker": {
             "line": {
              "color": "#E5ECF6",
              "width": 0.5
             },
             "pattern": {
              "fillmode": "overlay",
              "size": 10,
              "solidity": 0.2
             }
            },
            "type": "bar"
           }
          ],
          "barpolar": [
           {
            "marker": {
             "line": {
              "color": "#E5ECF6",
              "width": 0.5
             },
             "pattern": {
              "fillmode": "overlay",
              "size": 10,
              "solidity": 0.2
             }
            },
            "type": "barpolar"
           }
          ],
          "carpet": [
           {
            "aaxis": {
             "endlinecolor": "#2a3f5f",
             "gridcolor": "white",
             "linecolor": "white",
             "minorgridcolor": "white",
             "startlinecolor": "#2a3f5f"
            },
            "baxis": {
             "endlinecolor": "#2a3f5f",
             "gridcolor": "white",
             "linecolor": "white",
             "minorgridcolor": "white",
             "startlinecolor": "#2a3f5f"
            },
            "type": "carpet"
           }
          ],
          "choropleth": [
           {
            "colorbar": {
             "outlinewidth": 0,
             "ticks": ""
            },
            "type": "choropleth"
           }
          ],
          "contour": [
           {
            "colorbar": {
             "outlinewidth": 0,
             "ticks": ""
            },
            "colorscale": [
             [
              0,
              "#0d0887"
             ],
             [
              0.1111111111111111,
              "#46039f"
             ],
             [
              0.2222222222222222,
              "#7201a8"
             ],
             [
              0.3333333333333333,
              "#9c179e"
             ],
             [
              0.4444444444444444,
              "#bd3786"
             ],
             [
              0.5555555555555556,
              "#d8576b"
             ],
             [
              0.6666666666666666,
              "#ed7953"
             ],
             [
              0.7777777777777778,
              "#fb9f3a"
             ],
             [
              0.8888888888888888,
              "#fdca26"
             ],
             [
              1,
              "#f0f921"
             ]
            ],
            "type": "contour"
           }
          ],
          "contourcarpet": [
           {
            "colorbar": {
             "outlinewidth": 0,
             "ticks": ""
            },
            "type": "contourcarpet"
           }
          ],
          "heatmap": [
           {
            "colorbar": {
             "outlinewidth": 0,
             "ticks": ""
            },
            "colorscale": [
             [
              0,
              "#0d0887"
             ],
             [
              0.1111111111111111,
              "#46039f"
             ],
             [
              0.2222222222222222,
              "#7201a8"
             ],
             [
              0.3333333333333333,
              "#9c179e"
             ],
             [
              0.4444444444444444,
              "#bd3786"
             ],
             [
              0.5555555555555556,
              "#d8576b"
             ],
             [
              0.6666666666666666,
              "#ed7953"
             ],
             [
              0.7777777777777778,
              "#fb9f3a"
             ],
             [
              0.8888888888888888,
              "#fdca26"
             ],
             [
              1,
              "#f0f921"
             ]
            ],
            "type": "heatmap"
           }
          ],
          "heatmapgl": [
           {
            "colorbar": {
             "outlinewidth": 0,
             "ticks": ""
            },
            "colorscale": [
             [
              0,
              "#0d0887"
             ],
             [
              0.1111111111111111,
              "#46039f"
             ],
             [
              0.2222222222222222,
              "#7201a8"
             ],
             [
              0.3333333333333333,
              "#9c179e"
             ],
             [
              0.4444444444444444,
              "#bd3786"
             ],
             [
              0.5555555555555556,
              "#d8576b"
             ],
             [
              0.6666666666666666,
              "#ed7953"
             ],
             [
              0.7777777777777778,
              "#fb9f3a"
             ],
             [
              0.8888888888888888,
              "#fdca26"
             ],
             [
              1,
              "#f0f921"
             ]
            ],
            "type": "heatmapgl"
           }
          ],
          "histogram": [
           {
            "marker": {
             "pattern": {
              "fillmode": "overlay",
              "size": 10,
              "solidity": 0.2
             }
            },
            "type": "histogram"
           }
          ],
          "histogram2d": [
           {
            "colorbar": {
             "outlinewidth": 0,
             "ticks": ""
            },
            "colorscale": [
             [
              0,
              "#0d0887"
             ],
             [
              0.1111111111111111,
              "#46039f"
             ],
             [
              0.2222222222222222,
              "#7201a8"
             ],
             [
              0.3333333333333333,
              "#9c179e"
             ],
             [
              0.4444444444444444,
              "#bd3786"
             ],
             [
              0.5555555555555556,
              "#d8576b"
             ],
             [
              0.6666666666666666,
              "#ed7953"
             ],
             [
              0.7777777777777778,
              "#fb9f3a"
             ],
             [
              0.8888888888888888,
              "#fdca26"
             ],
             [
              1,
              "#f0f921"
             ]
            ],
            "type": "histogram2d"
           }
          ],
          "histogram2dcontour": [
           {
            "colorbar": {
             "outlinewidth": 0,
             "ticks": ""
            },
            "colorscale": [
             [
              0,
              "#0d0887"
             ],
             [
              0.1111111111111111,
              "#46039f"
             ],
             [
              0.2222222222222222,
              "#7201a8"
             ],
             [
              0.3333333333333333,
              "#9c179e"
             ],
             [
              0.4444444444444444,
              "#bd3786"
             ],
             [
              0.5555555555555556,
              "#d8576b"
             ],
             [
              0.6666666666666666,
              "#ed7953"
             ],
             [
              0.7777777777777778,
              "#fb9f3a"
             ],
             [
              0.8888888888888888,
              "#fdca26"
             ],
             [
              1,
              "#f0f921"
             ]
            ],
            "type": "histogram2dcontour"
           }
          ],
          "mesh3d": [
           {
            "colorbar": {
             "outlinewidth": 0,
             "ticks": ""
            },
            "type": "mesh3d"
           }
          ],
          "parcoords": [
           {
            "line": {
             "colorbar": {
              "outlinewidth": 0,
              "ticks": ""
             }
            },
            "type": "parcoords"
           }
          ],
          "pie": [
           {
            "automargin": true,
            "type": "pie"
           }
          ],
          "scatter": [
           {
            "fillpattern": {
             "fillmode": "overlay",
             "size": 10,
             "solidity": 0.2
            },
            "type": "scatter"
           }
          ],
          "scatter3d": [
           {
            "line": {
             "colorbar": {
              "outlinewidth": 0,
              "ticks": ""
             }
            },
            "marker": {
             "colorbar": {
              "outlinewidth": 0,
              "ticks": ""
             }
            },
            "type": "scatter3d"
           }
          ],
          "scattercarpet": [
           {
            "marker": {
             "colorbar": {
              "outlinewidth": 0,
              "ticks": ""
             }
            },
            "type": "scattercarpet"
           }
          ],
          "scattergeo": [
           {
            "marker": {
             "colorbar": {
              "outlinewidth": 0,
              "ticks": ""
             }
            },
            "type": "scattergeo"
           }
          ],
          "scattergl": [
           {
            "marker": {
             "colorbar": {
              "outlinewidth": 0,
              "ticks": ""
             }
            },
            "type": "scattergl"
           }
          ],
          "scattermapbox": [
           {
            "marker": {
             "colorbar": {
              "outlinewidth": 0,
              "ticks": ""
             }
            },
            "type": "scattermapbox"
           }
          ],
          "scatterpolar": [
           {
            "marker": {
             "colorbar": {
              "outlinewidth": 0,
              "ticks": ""
             }
            },
            "type": "scatterpolar"
           }
          ],
          "scatterpolargl": [
           {
            "marker": {
             "colorbar": {
              "outlinewidth": 0,
              "ticks": ""
             }
            },
            "type": "scatterpolargl"
           }
          ],
          "scatterternary": [
           {
            "marker": {
             "colorbar": {
              "outlinewidth": 0,
              "ticks": ""
             }
            },
            "type": "scatterternary"
           }
          ],
          "surface": [
           {
            "colorbar": {
             "outlinewidth": 0,
             "ticks": ""
            },
            "colorscale": [
             [
              0,
              "#0d0887"
             ],
             [
              0.1111111111111111,
              "#46039f"
             ],
             [
              0.2222222222222222,
              "#7201a8"
             ],
             [
              0.3333333333333333,
              "#9c179e"
             ],
             [
              0.4444444444444444,
              "#bd3786"
             ],
             [
              0.5555555555555556,
              "#d8576b"
             ],
             [
              0.6666666666666666,
              "#ed7953"
             ],
             [
              0.7777777777777778,
              "#fb9f3a"
             ],
             [
              0.8888888888888888,
              "#fdca26"
             ],
             [
              1,
              "#f0f921"
             ]
            ],
            "type": "surface"
           }
          ],
          "table": [
           {
            "cells": {
             "fill": {
              "color": "#EBF0F8"
             },
             "line": {
              "color": "white"
             }
            },
            "header": {
             "fill": {
              "color": "#C8D4E3"
             },
             "line": {
              "color": "white"
             }
            },
            "type": "table"
           }
          ]
         },
         "layout": {
          "annotationdefaults": {
           "arrowcolor": "#2a3f5f",
           "arrowhead": 0,
           "arrowwidth": 1
          },
          "autotypenumbers": "strict",
          "coloraxis": {
           "colorbar": {
            "outlinewidth": 0,
            "ticks": ""
           }
          },
          "colorscale": {
           "diverging": [
            [
             0,
             "#8e0152"
            ],
            [
             0.1,
             "#c51b7d"
            ],
            [
             0.2,
             "#de77ae"
            ],
            [
             0.3,
             "#f1b6da"
            ],
            [
             0.4,
             "#fde0ef"
            ],
            [
             0.5,
             "#f7f7f7"
            ],
            [
             0.6,
             "#e6f5d0"
            ],
            [
             0.7,
             "#b8e186"
            ],
            [
             0.8,
             "#7fbc41"
            ],
            [
             0.9,
             "#4d9221"
            ],
            [
             1,
             "#276419"
            ]
           ],
           "sequential": [
            [
             0,
             "#0d0887"
            ],
            [
             0.1111111111111111,
             "#46039f"
            ],
            [
             0.2222222222222222,
             "#7201a8"
            ],
            [
             0.3333333333333333,
             "#9c179e"
            ],
            [
             0.4444444444444444,
             "#bd3786"
            ],
            [
             0.5555555555555556,
             "#d8576b"
            ],
            [
             0.6666666666666666,
             "#ed7953"
            ],
            [
             0.7777777777777778,
             "#fb9f3a"
            ],
            [
             0.8888888888888888,
             "#fdca26"
            ],
            [
             1,
             "#f0f921"
            ]
           ],
           "sequentialminus": [
            [
             0,
             "#0d0887"
            ],
            [
             0.1111111111111111,
             "#46039f"
            ],
            [
             0.2222222222222222,
             "#7201a8"
            ],
            [
             0.3333333333333333,
             "#9c179e"
            ],
            [
             0.4444444444444444,
             "#bd3786"
            ],
            [
             0.5555555555555556,
             "#d8576b"
            ],
            [
             0.6666666666666666,
             "#ed7953"
            ],
            [
             0.7777777777777778,
             "#fb9f3a"
            ],
            [
             0.8888888888888888,
             "#fdca26"
            ],
            [
             1,
             "#f0f921"
            ]
           ]
          },
          "colorway": [
           "#636efa",
           "#EF553B",
           "#00cc96",
           "#ab63fa",
           "#FFA15A",
           "#19d3f3",
           "#FF6692",
           "#B6E880",
           "#FF97FF",
           "#FECB52"
          ],
          "font": {
           "color": "#2a3f5f"
          },
          "geo": {
           "bgcolor": "white",
           "lakecolor": "white",
           "landcolor": "#E5ECF6",
           "showlakes": true,
           "showland": true,
           "subunitcolor": "white"
          },
          "hoverlabel": {
           "align": "left"
          },
          "hovermode": "closest",
          "mapbox": {
           "style": "light"
          },
          "paper_bgcolor": "white",
          "plot_bgcolor": "#E5ECF6",
          "polar": {
           "angularaxis": {
            "gridcolor": "white",
            "linecolor": "white",
            "ticks": ""
           },
           "bgcolor": "#E5ECF6",
           "radialaxis": {
            "gridcolor": "white",
            "linecolor": "white",
            "ticks": ""
           }
          },
          "scene": {
           "xaxis": {
            "backgroundcolor": "#E5ECF6",
            "gridcolor": "white",
            "gridwidth": 2,
            "linecolor": "white",
            "showbackground": true,
            "ticks": "",
            "zerolinecolor": "white"
           },
           "yaxis": {
            "backgroundcolor": "#E5ECF6",
            "gridcolor": "white",
            "gridwidth": 2,
            "linecolor": "white",
            "showbackground": true,
            "ticks": "",
            "zerolinecolor": "white"
           },
           "zaxis": {
            "backgroundcolor": "#E5ECF6",
            "gridcolor": "white",
            "gridwidth": 2,
            "linecolor": "white",
            "showbackground": true,
            "ticks": "",
            "zerolinecolor": "white"
           }
          },
          "shapedefaults": {
           "line": {
            "color": "#2a3f5f"
           }
          },
          "ternary": {
           "aaxis": {
            "gridcolor": "white",
            "linecolor": "white",
            "ticks": ""
           },
           "baxis": {
            "gridcolor": "white",
            "linecolor": "white",
            "ticks": ""
           },
           "bgcolor": "#E5ECF6",
           "caxis": {
            "gridcolor": "white",
            "linecolor": "white",
            "ticks": ""
           }
          },
          "title": {
           "x": 0.05
          },
          "xaxis": {
           "automargin": true,
           "gridcolor": "white",
           "linecolor": "white",
           "ticks": "",
           "title": {
            "standoff": 15
           },
           "zerolinecolor": "white",
           "zerolinewidth": 2
          },
          "yaxis": {
           "automargin": true,
           "gridcolor": "white",
           "linecolor": "white",
           "ticks": "",
           "title": {
            "standoff": 15
           },
           "zerolinecolor": "white",
           "zerolinewidth": 2
          }
         }
        },
        "title": {
         "text": "Optimization History Plot"
        },
        "xaxis": {
         "autorange": true,
         "range": [
          -6.3524488530688155,
          105.35244885306882
         ],
         "title": {
          "text": "Trial"
         },
         "type": "linear"
        },
        "yaxis": {
         "autorange": true,
         "range": [
          1.7442024271844658,
          2.407697572815534
         ],
         "title": {
          "text": "Objective Value"
         },
         "type": "linear"
        }
       }
      },
      "image/png": "[encoded data removed]",
      "text/html": [
       "<div>                            <div id=\"6c969bfb-4c32-4e77-9c82-808cebfcfcf9\" class=\"plotly-graph-div\" style=\"height:525px; width:100%;\"></div>            <script type=\"text/javascript\">                require([\"plotly\"], function(Plotly) {                    window.PLOTLYENV=window.PLOTLYENV || {};                                    if (document.getElementById(\"6c969bfb-4c32-4e77-9c82-808cebfcfcf9\")) {                    Plotly.newPlot(                        \"6c969bfb-4c32-4e77-9c82-808cebfcfcf9\",                        [{\"mode\":\"markers\",\"name\":\"Objective Value\",\"x\":[0,1,2,3,4,5,6,7,8,9,10,11,12,13,14,15,16,17,18,19,20,21,22,23,24,25,26,27,28,29,30,31,32,33,34,35,36,37,38,39,40,41,42,43,44,45,46,47,48,49,50,51,52,53,54,55,56,57,58,59,60,61,62,63,64,65,66,67,68,69,70,71,72,73,74,75,76,77,78,79,80,81,82,83,84,85,86,87,88,89,90,91,92,93,94,95,96,97,98,99],\"y\":[2.1157,2.2173,2.1988,2.1813,2.1619,1.7912,2.0218,2.0906,2.0514,2.0996,1.9967,2.309,2.279,2.2484,2.1474,2.1054,2.2524,2.2099,2.1856,2.1358,2.0535,2.2428,2.2915,2.1353,2.1433,2.1641,2.2903,2.0562,2.2074,2.1351,2.1369,2.3143,2.179,2.2974,2.2643,2.1892,2.2156,2.1043,2.1329,2.161,2.1404,2.2863,2.2055,2.0631,2.2022,2.2809,2.0862,2.1041,2.2969,2.3189,2.1466,2.1391,2.2132,2.1239,2.3057,2.0308,2.0968,2.2527,2.0085,2.1725,2.2185,2.1178,2.22,2.2651,2.2248,2.0465,2.2728,2.217,2.2969,2.1723,2.0006,2.2896,1.8953,2.1504,2.1242,2.3607,2.2453,2.3423,2.2126,2.2562,2.2807,2.24,2.2431,2.2821,2.182,2.2018,2.3042,2.1601,2.1891,2.2166,2.2419,2.2194,1.99,2.0952,2.2935,2.3139,2.0082,2.1858,2.2575,2.0047],\"type\":\"scatter\"},{\"name\":\"Best Value\",\"x\":[0,1,2,3,4,5,6,7,8,9,10,11,12,13,14,15,16,17,18,19,20,21,22,23,24,25,26,27,28,29,30,31,32,33,34,35,36,37,38,39,40,41,42,43,44,45,46,47,48,49,50,51,52,53,54,55,56,57,58,59,60,61,62,63,64,65,66,67,68,69,70,71,72,73,74,75,76,77,78,79,80,81,82,83,84,85,86,87,88,89,90,91,92,93,94,95,96,97,98,99],\"y\":[2.1157,2.2173,2.2173,2.2173,2.2173,2.2173,2.2173,2.2173,2.2173,2.2173,2.2173,2.309,2.309,2.309,2.309,2.309,2.309,2.309,2.309,2.309,2.309,2.309,2.309,2.309,2.309,2.309,2.309,2.309,2.309,2.309,2.309,2.3143,2.3143,2.3143,2.3143,2.3143,2.3143,2.3143,2.3143,2.3143,2.3143,2.3143,2.3143,2.3143,2.3143,2.3143,2.3143,2.3143,2.3143,2.3189,2.3189,2.3189,2.3189,2.3189,2.3189,2.3189,2.3189,2.3189,2.3189,2.3189,2.3189,2.3189,2.3189,2.3189,2.3189,2.3189,2.3189,2.3189,2.3189,2.3189,2.3189,2.3189,2.3189,2.3189,2.3189,2.3607,2.3607,2.3607,2.3607,2.3607,2.3607,2.3607,2.3607,2.3607,2.3607,2.3607,2.3607,2.3607,2.3607,2.3607,2.3607,2.3607,2.3607,2.3607,2.3607,2.3607,2.3607,2.3607,2.3607,2.3607],\"type\":\"scatter\"}],                        {\"title\":{\"text\":\"Optimization History Plot\"},\"xaxis\":{\"title\":{\"text\":\"Trial\"}},\"yaxis\":{\"title\":{\"text\":\"Objective Value\"}},\"template\":{\"data\":{\"histogram2dcontour\":[{\"type\":\"histogram2dcontour\",\"colorbar\":{\"outlinewidth\":0,\"ticks\":\"\"},\"colorscale\":[[0.0,\"#0d0887\"],[0.1111111111111111,\"#46039f\"],[0.2222222222222222,\"#7201a8\"],[0.3333333333333333,\"#9c179e\"],[0.4444444444444444,\"#bd3786\"],[0.5555555555555556,\"#d8576b\"],[0.6666666666666666,\"#ed7953\"],[0.7777777777777778,\"#fb9f3a\"],[0.8888888888888888,\"#fdca26\"],[1.0,\"#f0f921\"]]}],\"choropleth\":[{\"type\":\"choropleth\",\"colorbar\":{\"outlinewidth\":0,\"ticks\":\"\"}}],\"histogram2d\":[{\"type\":\"histogram2d\",\"colorbar\":{\"outlinewidth\":0,\"ticks\":\"\"},\"colorscale\":[[0.0,\"#0d0887\"],[0.1111111111111111,\"#46039f\"],[0.2222222222222222,\"#7201a8\"],[0.3333333333333333,\"#9c179e\"],[0.4444444444444444,\"#bd3786\"],[0.5555555555555556,\"#d8576b\"],[0.6666666666666666,\"#ed7953\"],[0.7777777777777778,\"#fb9f3a\"],[0.8888888888888888,\"#fdca26\"],[1.0,\"#f0f921\"]]}],\"heatmap\":[{\"type\":\"heatmap\",\"colorbar\":{\"outlinewidth\":0,\"ticks\":\"\"},\"colorscale\":[[0.0,\"#0d0887\"],[0.1111111111111111,\"#46039f\"],[0.2222222222222222,\"#7201a8\"],[0.3333333333333333,\"#9c179e\"],[0.4444444444444444,\"#bd3786\"],[0.5555555555555556,\"#d8576b\"],[0.6666666666666666,\"#ed7953\"],[0.7777777777777778,\"#fb9f3a\"],[0.8888888888888888,\"#fdca26\"],[1.0,\"#f0f921\"]]}],\"heatmapgl\":[{\"type\":\"heatmapgl\",\"colorbar\":{\"outlinewidth\":0,\"ticks\":\"\"},\"colorscale\":[[0.0,\"#0d0887\"],[0.1111111111111111,\"#46039f\"],[0.2222222222222222,\"#7201a8\"],[0.3333333333333333,\"#9c179e\"],[0.4444444444444444,\"#bd3786\"],[0.5555555555555556,\"#d8576b\"],[0.6666666666666666,\"#ed7953\"],[0.7777777777777778,\"#fb9f3a\"],[0.8888888888888888,\"#fdca26\"],[1.0,\"#f0f921\"]]}],\"contourcarpet\":[{\"type\":\"contourcarpet\",\"colorbar\":{\"outlinewidth\":0,\"ticks\":\"\"}}],\"contour\":[{\"type\":\"contour\",\"colorbar\":{\"outlinewidth\":0,\"ticks\":\"\"},\"colorscale\":[[0.0,\"#0d0887\"],[0.1111111111111111,\"#46039f\"],[0.2222222222222222,\"#7201a8\"],[0.3333333333333333,\"#9c179e\"],[0.4444444444444444,\"#bd3786\"],[0.5555555555555556,\"#d8576b\"],[0.6666666666666666,\"#ed7953\"],[0.7777777777777778,\"#fb9f3a\"],[0.8888888888888888,\"#fdca26\"],[1.0,\"#f0f921\"]]}],\"surface\":[{\"type\":\"surface\",\"colorbar\":{\"outlinewidth\":0,\"ticks\":\"\"},\"colorscale\":[[0.0,\"#0d0887\"],[0.1111111111111111,\"#46039f\"],[0.2222222222222222,\"#7201a8\"],[0.3333333333333333,\"#9c179e\"],[0.4444444444444444,\"#bd3786\"],[0.5555555555555556,\"#d8576b\"],[0.6666666666666666,\"#ed7953\"],[0.7777777777777778,\"#fb9f3a\"],[0.8888888888888888,\"#fdca26\"],[1.0,\"#f0f921\"]]}],\"mesh3d\":[{\"type\":\"mesh3d\",\"colorbar\":{\"outlinewidth\":0,\"ticks\":\"\"}}],\"scatter\":[{\"fillpattern\":{\"fillmode\":\"overlay\",\"size\":10,\"solidity\":0.2},\"type\":\"scatter\"}],\"parcoords\":[{\"type\":\"parcoords\",\"line\":{\"colorbar\":{\"outlinewidth\":0,\"ticks\":\"\"}}}],\"scatterpolargl\":[{\"type\":\"scatterpolargl\",\"marker\":{\"colorbar\":{\"outlinewidth\":0,\"ticks\":\"\"}}}],\"bar\":[{\"error_x\":{\"color\":\"#2a3f5f\"},\"error_y\":{\"color\":\"#2a3f5f\"},\"marker\":{\"line\":{\"color\":\"#E5ECF6\",\"width\":0.5},\"pattern\":{\"fillmode\":\"overlay\",\"size\":10,\"solidity\":0.2}},\"type\":\"bar\"}],\"scattergeo\":[{\"type\":\"scattergeo\",\"marker\":{\"colorbar\":{\"outlinewidth\":0,\"ticks\":\"\"}}}],\"scatterpolar\":[{\"type\":\"scatterpolar\",\"marker\":{\"colorbar\":{\"outlinewidth\":0,\"ticks\":\"\"}}}],\"histogram\":[{\"marker\":{\"pattern\":{\"fillmode\":\"overlay\",\"size\":10,\"solidity\":0.2}},\"type\":\"histogram\"}],\"scattergl\":[{\"type\":\"scattergl\",\"marker\":{\"colorbar\":{\"outlinewidth\":0,\"ticks\":\"\"}}}],\"scatter3d\":[{\"type\":\"scatter3d\",\"line\":{\"colorbar\":{\"outlinewidth\":0,\"ticks\":\"\"}},\"marker\":{\"colorbar\":{\"outlinewidth\":0,\"ticks\":\"\"}}}],\"scattermapbox\":[{\"type\":\"scattermapbox\",\"marker\":{\"colorbar\":{\"outlinewidth\":0,\"ticks\":\"\"}}}],\"scatterternary\":[{\"type\":\"scatterternary\",\"marker\":{\"colorbar\":{\"outlinewidth\":0,\"ticks\":\"\"}}}],\"scattercarpet\":[{\"type\":\"scattercarpet\",\"marker\":{\"colorbar\":{\"outlinewidth\":0,\"ticks\":\"\"}}}],\"carpet\":[{\"aaxis\":{\"endlinecolor\":\"#2a3f5f\",\"gridcolor\":\"white\",\"linecolor\":\"white\",\"minorgridcolor\":\"white\",\"startlinecolor\":\"#2a3f5f\"},\"baxis\":{\"endlinecolor\":\"#2a3f5f\",\"gridcolor\":\"white\",\"linecolor\":\"white\",\"minorgridcolor\":\"white\",\"startlinecolor\":\"#2a3f5f\"},\"type\":\"carpet\"}],\"table\":[{\"cells\":{\"fill\":{\"color\":\"#EBF0F8\"},\"line\":{\"color\":\"white\"}},\"header\":{\"fill\":{\"color\":\"#C8D4E3\"},\"line\":{\"color\":\"white\"}},\"type\":\"table\"}],\"barpolar\":[{\"marker\":{\"line\":{\"color\":\"#E5ECF6\",\"width\":0.5},\"pattern\":{\"fillmode\":\"overlay\",\"size\":10,\"solidity\":0.2}},\"type\":\"barpolar\"}],\"pie\":[{\"automargin\":true,\"type\":\"pie\"}]},\"layout\":{\"autotypenumbers\":\"strict\",\"colorway\":[\"#636efa\",\"#EF553B\",\"#00cc96\",\"#ab63fa\",\"#FFA15A\",\"#19d3f3\",\"#FF6692\",\"#B6E880\",\"#FF97FF\",\"#FECB52\"],\"font\":{\"color\":\"#2a3f5f\"},\"hovermode\":\"closest\",\"hoverlabel\":{\"align\":\"left\"},\"paper_bgcolor\":\"white\",\"plot_bgcolor\":\"#E5ECF6\",\"polar\":{\"bgcolor\":\"#E5ECF6\",\"angularaxis\":{\"gridcolor\":\"white\",\"linecolor\":\"white\",\"ticks\":\"\"},\"radialaxis\":{\"gridcolor\":\"white\",\"linecolor\":\"white\",\"ticks\":\"\"}},\"ternary\":{\"bgcolor\":\"#E5ECF6\",\"aaxis\":{\"gridcolor\":\"white\",\"linecolor\":\"white\",\"ticks\":\"\"},\"baxis\":{\"gridcolor\":\"white\",\"linecolor\":\"white\",\"ticks\":\"\"},\"caxis\":{\"gridcolor\":\"white\",\"linecolor\":\"white\",\"ticks\":\"\"}},\"coloraxis\":{\"colorbar\":{\"outlinewidth\":0,\"ticks\":\"\"}},\"colorscale\":{\"sequential\":[[0.0,\"#0d0887\"],[0.1111111111111111,\"#46039f\"],[0.2222222222222222,\"#7201a8\"],[0.3333333333333333,\"#9c179e\"],[0.4444444444444444,\"#bd3786\"],[0.5555555555555556,\"#d8576b\"],[0.6666666666666666,\"#ed7953\"],[0.7777777777777778,\"#fb9f3a\"],[0.8888888888888888,\"#fdca26\"],[1.0,\"#f0f921\"]],\"sequentialminus\":[[0.0,\"#0d0887\"],[0.1111111111111111,\"#46039f\"],[0.2222222222222222,\"#7201a8\"],[0.3333333333333333,\"#9c179e\"],[0.4444444444444444,\"#bd3786\"],[0.5555555555555556,\"#d8576b\"],[0.6666666666666666,\"#ed7953\"],[0.7777777777777778,\"#fb9f3a\"],[0.8888888888888888,\"#fdca26\"],[1.0,\"#f0f921\"]],\"diverging\":[[0,\"#8e0152\"],[0.1,\"#c51b7d\"],[0.2,\"#de77ae\"],[0.3,\"#f1b6da\"],[0.4,\"#fde0ef\"],[0.5,\"#f7f7f7\"],[0.6,\"#e6f5d0\"],[0.7,\"#b8e186\"],[0.8,\"#7fbc41\"],[0.9,\"#4d9221\"],[1,\"#276419\"]]},\"xaxis\":{\"gridcolor\":\"white\",\"linecolor\":\"white\",\"ticks\":\"\",\"title\":{\"standoff\":15},\"zerolinecolor\":\"white\",\"automargin\":true,\"zerolinewidth\":2},\"yaxis\":{\"gridcolor\":\"white\",\"linecolor\":\"white\",\"ticks\":\"\",\"title\":{\"standoff\":15},\"zerolinecolor\":\"white\",\"automargin\":true,\"zerolinewidth\":2},\"scene\":{\"xaxis\":{\"backgroundcolor\":\"#E5ECF6\",\"gridcolor\":\"white\",\"linecolor\":\"white\",\"showbackground\":true,\"ticks\":\"\",\"zerolinecolor\":\"white\",\"gridwidth\":2},\"yaxis\":{\"backgroundcolor\":\"#E5ECF6\",\"gridcolor\":\"white\",\"linecolor\":\"white\",\"showbackground\":true,\"ticks\":\"\",\"zerolinecolor\":\"white\",\"gridwidth\":2},\"zaxis\":{\"backgroundcolor\":\"#E5ECF6\",\"gridcolor\":\"white\",\"linecolor\":\"white\",\"showbackground\":true,\"ticks\":\"\",\"zerolinecolor\":\"white\",\"gridwidth\":2}},\"shapedefaults\":{\"line\":{\"color\":\"#2a3f5f\"}},\"annotationdefaults\":{\"arrowcolor\":\"#2a3f5f\",\"arrowhead\":0,\"arrowwidth\":1},\"geo\":{\"bgcolor\":\"white\",\"landcolor\":\"#E5ECF6\",\"subunitcolor\":\"white\",\"showland\":true,\"showlakes\":true,\"lakecolor\":\"white\"},\"title\":{\"x\":0.05},\"mapbox\":{\"style\":\"light\"}}}},                        {\"responsive\": true}                    ).then(function(){\n",
       "                            \n",
       "var gd = document.getElementById('6c969bfb-4c32-4e77-9c82-808cebfcfcf9');\n",
       "var x = new MutationObserver(function (mutations, observer) {{\n",
       "        var display = window.getComputedStyle(gd).display;\n",
       "        if (!display || display === 'none') {{\n",
       "            console.log([gd, 'removed!']);\n",
       "            Plotly.purge(gd);\n",
       "            observer.disconnect();\n",
       "        }}\n",
       "}});\n",
       "\n",
       "// Listen for the removal of the full notebook cells\n",
       "var notebookContainer = gd.closest('#notebook-container');\n",
       "if (notebookContainer) {{\n",
       "    x.observe(notebookContainer, {childList: true});\n",
       "}}\n",
       "\n",
       "// Listen for the clearing of the current output cell\n",
       "var outputEl = gd.closest('.output');\n",
       "if (outputEl) {{\n",
       "    x.observe(outputEl, {childList: true});\n",
       "}}\n",
       "\n",
       "                        })                };                });            </script>        </div>"
      ]
     },
     "metadata": {},
     "output_type": "display_data"
    }
   ],
   "source": [
    "optuna.visualization.plot_optimization_history(study)"
   ]
  },
  {
   "cell_type": "code",
   "execution_count": null,
   "id": "ba87f8e3",
   "metadata": {},
   "outputs": [],
   "source": []
  },
  {
   "cell_type": "code",
   "execution_count": null,
   "id": "9f708f79",
   "metadata": {},
   "outputs": [],
   "source": []
  },
  {
   "cell_type": "code",
   "execution_count": null,
   "id": "6d13ee10",
   "metadata": {},
   "outputs": [],
   "source": [
    "asdf"
   ]
  },
  {
   "cell_type": "code",
   "execution_count": null,
   "id": "787677c2",
   "metadata": {},
   "outputs": [],
   "source": [
    "def plot_history(model):\n",
    "    hist = model.history\n",
    "    for label, values in hist.history.items():\n",
    "        if label.endswith('_auc'):\n",
    "            plt.plot(values, label=label)\n",
    "\n",
    "    plt.axhline(y=0.819, color='r', linestyle='--')\n",
    "    plt.axhline(y=0.792, color='orange', linestyle='--')\n",
    "    plt.axhline(y=0.835, color='g', linestyle='--')\n",
    "    plt.legend(loc='lower right')  # Display the legend (labels)\n",
    "    plt.show()  # Display the plot"
   ]
  },
  {
   "cell_type": "code",
   "execution_count": null,
   "id": "0b9c33ee",
   "metadata": {},
   "outputs": [
    {
     "name": "stderr",
     "output_type": "stream",
     "text": [
      "/home/minkoo/.conda/envs/tf/lib/python3.9/site-packages/pytorch_tabnet/abstract_model.py:75: UserWarning: Device used : cpu\n",
      "  warnings.warn(f\"Device used : {self.device}\")\n"
     ]
    },
    {
     "name": "stdout",
     "output_type": "stream",
     "text": [
      "epoch 0  | loss: 0.16667 | train_auc: 0.76083 | test_icu_auc: 0.68754 | test_covid_auc: 0.80347 | valid_auc: 0.76045 |  0:00:49s\n",
      "epoch 1  | loss: 0.14986 | train_auc: 0.76783 | test_icu_auc: 0.68598 | test_covid_auc: 0.73723 | valid_auc: 0.76438 |  0:01:37s\n",
      "epoch 2  | loss: 0.14728 | train_auc: 0.78156 | test_icu_auc: 0.71073 | test_covid_auc: 0.82782 | valid_auc: 0.77565 |  0:02:25s\n",
      "epoch 3  | loss: 0.14523 | train_auc: 0.79038 | test_icu_auc: 0.7155  | test_covid_auc: 0.78204 | valid_auc: 0.78092 |  0:03:14s\n",
      "epoch 4  | loss: 0.14296 | train_auc: 0.80248 | test_icu_auc: 0.71279 | test_covid_auc: 0.7658  | valid_auc: 0.8018  |  0:04:03s\n"
     ]
    },
    {
     "ename": "KeyboardInterrupt",
     "evalue": "",
     "output_type": "error",
     "traceback": [
      "\u001b[0;31m---------------------------------------------------------------------------\u001b[0m",
      "\u001b[0;31mKeyboardInterrupt\u001b[0m                         Traceback (most recent call last)",
      "\u001b[1;32m/home/minkoo/serverity_prediction/notebook/severity_tabnet.ipynb Cell 6\u001b[0m in \u001b[0;36m<cell line: 21>\u001b[0;34m()\u001b[0m\n\u001b[1;32m      <a href='vscode-notebook-cell://ssh-remote%2Bbuild-38.201/home/minkoo/serverity_prediction/notebook/severity_tabnet.ipynb#Y145sdnNjb2RlLXJlbW90ZQ%3D%3D?line=3'>4</a>\u001b[0m \u001b[39mfrom\u001b[39;00m \u001b[39mpytorch_tabnet\u001b[39;00m\u001b[39m.\u001b[39;00m\u001b[39mtab_model\u001b[39;00m \u001b[39mimport\u001b[39;00m TabNetClassifier\n\u001b[1;32m      <a href='vscode-notebook-cell://ssh-remote%2Bbuild-38.201/home/minkoo/serverity_prediction/notebook/severity_tabnet.ipynb#Y145sdnNjb2RlLXJlbW90ZQ%3D%3D?line=5'>6</a>\u001b[0m classifier \u001b[39m=\u001b[39m TabNetClassifier(\n\u001b[1;32m      <a href='vscode-notebook-cell://ssh-remote%2Bbuild-38.201/home/minkoo/serverity_prediction/notebook/severity_tabnet.ipynb#Y145sdnNjb2RlLXJlbW90ZQ%3D%3D?line=6'>7</a>\u001b[0m     n_d\u001b[39m=\u001b[39m\u001b[39m8\u001b[39m, \u001b[39m# 8~64\u001b[39;00m\n\u001b[1;32m      <a href='vscode-notebook-cell://ssh-remote%2Bbuild-38.201/home/minkoo/serverity_prediction/notebook/severity_tabnet.ipynb#Y145sdnNjb2RlLXJlbW90ZQ%3D%3D?line=7'>8</a>\u001b[0m     n_a\u001b[39m=\u001b[39m\u001b[39m8\u001b[39m, \u001b[39m#  ==n_d\u001b[39;00m\n\u001b[0;32m   (...)\u001b[0m\n\u001b[1;32m     <a href='vscode-notebook-cell://ssh-remote%2Bbuild-38.201/home/minkoo/serverity_prediction/notebook/severity_tabnet.ipynb#Y145sdnNjb2RlLXJlbW90ZQ%3D%3D?line=17'>18</a>\u001b[0m     \u001b[39m#model_name\u001b[39;00m\n\u001b[1;32m     <a href='vscode-notebook-cell://ssh-remote%2Bbuild-38.201/home/minkoo/serverity_prediction/notebook/severity_tabnet.ipynb#Y145sdnNjb2RlLXJlbW90ZQ%3D%3D?line=18'>19</a>\u001b[0m     )\n\u001b[0;32m---> <a href='vscode-notebook-cell://ssh-remote%2Bbuild-38.201/home/minkoo/serverity_prediction/notebook/severity_tabnet.ipynb#Y145sdnNjb2RlLXJlbW90ZQ%3D%3D?line=20'>21</a>\u001b[0m classifier\u001b[39m.\u001b[39;49mfit(X_train\u001b[39m=\u001b[39;49mflat_x[\u001b[39m0\u001b[39;49m], y_train\u001b[39m=\u001b[39;49my[\u001b[39m0\u001b[39;49m],\n\u001b[1;32m     <a href='vscode-notebook-cell://ssh-remote%2Bbuild-38.201/home/minkoo/serverity_prediction/notebook/severity_tabnet.ipynb#Y145sdnNjb2RlLXJlbW90ZQ%3D%3D?line=21'>22</a>\u001b[0m                eval_set\u001b[39m=\u001b[39;49m[(flat_x[\u001b[39m0\u001b[39;49m], y[\u001b[39m0\u001b[39;49m]), (flat_x[\u001b[39m2\u001b[39;49m], y[\u001b[39m2\u001b[39;49m]), (flat_x[\u001b[39m3\u001b[39;49m], y[\u001b[39m3\u001b[39;49m]), (flat_x[\u001b[39m1\u001b[39;49m], y[\u001b[39m1\u001b[39;49m])],\n\u001b[1;32m     <a href='vscode-notebook-cell://ssh-remote%2Bbuild-38.201/home/minkoo/serverity_prediction/notebook/severity_tabnet.ipynb#Y145sdnNjb2RlLXJlbW90ZQ%3D%3D?line=22'>23</a>\u001b[0m                eval_name\u001b[39m=\u001b[39;49m[\u001b[39m'\u001b[39;49m\u001b[39mtrain\u001b[39;49m\u001b[39m'\u001b[39;49m, \u001b[39m'\u001b[39;49m\u001b[39mtest_icu\u001b[39;49m\u001b[39m'\u001b[39;49m, \u001b[39m'\u001b[39;49m\u001b[39mtest_covid\u001b[39;49m\u001b[39m'\u001b[39;49m, \u001b[39m'\u001b[39;49m\u001b[39mvalid\u001b[39;49m\u001b[39m'\u001b[39;49m],\n\u001b[1;32m     <a href='vscode-notebook-cell://ssh-remote%2Bbuild-38.201/home/minkoo/serverity_prediction/notebook/severity_tabnet.ipynb#Y145sdnNjb2RlLXJlbW90ZQ%3D%3D?line=23'>24</a>\u001b[0m                eval_metric\u001b[39m=\u001b[39;49m[\u001b[39m'\u001b[39;49m\u001b[39mauc\u001b[39;49m\u001b[39m'\u001b[39;49m],\n\u001b[1;32m     <a href='vscode-notebook-cell://ssh-remote%2Bbuild-38.201/home/minkoo/serverity_prediction/notebook/severity_tabnet.ipynb#Y145sdnNjb2RlLXJlbW90ZQ%3D%3D?line=24'>25</a>\u001b[0m                max_epochs\u001b[39m=\u001b[39;49m\u001b[39m50\u001b[39;49m,\n\u001b[1;32m     <a href='vscode-notebook-cell://ssh-remote%2Bbuild-38.201/home/minkoo/serverity_prediction/notebook/severity_tabnet.ipynb#Y145sdnNjb2RlLXJlbW90ZQ%3D%3D?line=25'>26</a>\u001b[0m                patience\u001b[39m=\u001b[39;49m\u001b[39m10\u001b[39;49m,\n\u001b[1;32m     <a href='vscode-notebook-cell://ssh-remote%2Bbuild-38.201/home/minkoo/serverity_prediction/notebook/severity_tabnet.ipynb#Y145sdnNjb2RlLXJlbW90ZQ%3D%3D?line=26'>27</a>\u001b[0m                weights\u001b[39m=\u001b[39;49m\u001b[39m0\u001b[39;49m, \u001b[39m# 0 no sample / 1 --> sampling considering class weight\u001b[39;49;00m\n\u001b[1;32m     <a href='vscode-notebook-cell://ssh-remote%2Bbuild-38.201/home/minkoo/serverity_prediction/notebook/severity_tabnet.ipynb#Y145sdnNjb2RlLXJlbW90ZQ%3D%3D?line=27'>28</a>\u001b[0m                \u001b[39m# loss = CE\u001b[39;49;00m\n\u001b[1;32m     <a href='vscode-notebook-cell://ssh-remote%2Bbuild-38.201/home/minkoo/serverity_prediction/notebook/severity_tabnet.ipynb#Y145sdnNjb2RlLXJlbW90ZQ%3D%3D?line=28'>29</a>\u001b[0m                batch_size\u001b[39m=\u001b[39;49m\u001b[39m1024\u001b[39;49m,\n\u001b[1;32m     <a href='vscode-notebook-cell://ssh-remote%2Bbuild-38.201/home/minkoo/serverity_prediction/notebook/severity_tabnet.ipynb#Y145sdnNjb2RlLXJlbW90ZQ%3D%3D?line=29'>30</a>\u001b[0m                virtual_batch_size\u001b[39m=\u001b[39;49m\u001b[39m128\u001b[39;49m,\n\u001b[1;32m     <a href='vscode-notebook-cell://ssh-remote%2Bbuild-38.201/home/minkoo/serverity_prediction/notebook/severity_tabnet.ipynb#Y145sdnNjb2RlLXJlbW90ZQ%3D%3D?line=30'>31</a>\u001b[0m                num_workers \u001b[39m=\u001b[39;49m \u001b[39m8\u001b[39;49m, \u001b[39m# number of workers used in torch dataloader\u001b[39;49;00m\n\u001b[1;32m     <a href='vscode-notebook-cell://ssh-remote%2Bbuild-38.201/home/minkoo/serverity_prediction/notebook/severity_tabnet.ipynb#Y145sdnNjb2RlLXJlbW90ZQ%3D%3D?line=31'>32</a>\u001b[0m                drop_last\u001b[39m=\u001b[39;49m \u001b[39mFalse\u001b[39;49;00m,\n\u001b[1;32m     <a href='vscode-notebook-cell://ssh-remote%2Bbuild-38.201/home/minkoo/serverity_prediction/notebook/severity_tabnet.ipynb#Y145sdnNjb2RlLXJlbW90ZQ%3D%3D?line=32'>33</a>\u001b[0m                callbacks\u001b[39m=\u001b[39;49m\u001b[39mNone\u001b[39;49;00m,\n\u001b[1;32m     <a href='vscode-notebook-cell://ssh-remote%2Bbuild-38.201/home/minkoo/serverity_prediction/notebook/severity_tabnet.ipynb#Y145sdnNjb2RlLXJlbW90ZQ%3D%3D?line=33'>34</a>\u001b[0m                \u001b[39m#pretraining_ratio  for pretrainer only\u001b[39;49;00m\n\u001b[1;32m     <a href='vscode-notebook-cell://ssh-remote%2Bbuild-38.201/home/minkoo/serverity_prediction/notebook/severity_tabnet.ipynb#Y145sdnNjb2RlLXJlbW90ZQ%3D%3D?line=34'>35</a>\u001b[0m                )\n\u001b[1;32m     <a href='vscode-notebook-cell://ssh-remote%2Bbuild-38.201/home/minkoo/serverity_prediction/notebook/severity_tabnet.ipynb#Y145sdnNjb2RlLXJlbW90ZQ%3D%3D?line=35'>36</a>\u001b[0m plot_history(classifier)\n",
      "File \u001b[0;32m~/.conda/envs/tf/lib/python3.9/site-packages/pytorch_tabnet/abstract_model.py:241\u001b[0m, in \u001b[0;36mTabModel.fit\u001b[0;34m(self, X_train, y_train, eval_set, eval_name, eval_metric, loss_fn, weights, max_epochs, patience, batch_size, virtual_batch_size, num_workers, drop_last, callbacks, pin_memory, from_unsupervised, warm_start, augmentations)\u001b[0m\n\u001b[1;32m    236\u001b[0m \u001b[39mfor\u001b[39;00m epoch_idx \u001b[39min\u001b[39;00m \u001b[39mrange\u001b[39m(\u001b[39mself\u001b[39m\u001b[39m.\u001b[39mmax_epochs):\n\u001b[1;32m    237\u001b[0m \n\u001b[1;32m    238\u001b[0m     \u001b[39m# Call method on_epoch_begin for all callbacks\u001b[39;00m\n\u001b[1;32m    239\u001b[0m     \u001b[39mself\u001b[39m\u001b[39m.\u001b[39m_callback_container\u001b[39m.\u001b[39mon_epoch_begin(epoch_idx)\n\u001b[0;32m--> 241\u001b[0m     \u001b[39mself\u001b[39;49m\u001b[39m.\u001b[39;49m_train_epoch(train_dataloader)\n\u001b[1;32m    243\u001b[0m     \u001b[39m# Apply predict epoch to all eval sets\u001b[39;00m\n\u001b[1;32m    244\u001b[0m     \u001b[39mfor\u001b[39;00m eval_name, valid_dataloader \u001b[39min\u001b[39;00m \u001b[39mzip\u001b[39m(eval_names, valid_dataloaders):\n",
      "File \u001b[0;32m~/.conda/envs/tf/lib/python3.9/site-packages/pytorch_tabnet/abstract_model.py:454\u001b[0m, in \u001b[0;36mTabModel._train_epoch\u001b[0;34m(self, train_loader)\u001b[0m\n\u001b[1;32m    444\u001b[0m \u001b[39m\"\"\"\u001b[39;00m\n\u001b[1;32m    445\u001b[0m \u001b[39mTrains one epoch of the network in self.network\u001b[39;00m\n\u001b[1;32m    446\u001b[0m \n\u001b[0;32m   (...)\u001b[0m\n\u001b[1;32m    450\u001b[0m \u001b[39m    DataLoader with train set\u001b[39;00m\n\u001b[1;32m    451\u001b[0m \u001b[39m\"\"\"\u001b[39;00m\n\u001b[1;32m    452\u001b[0m \u001b[39mself\u001b[39m\u001b[39m.\u001b[39mnetwork\u001b[39m.\u001b[39mtrain()\n\u001b[0;32m--> 454\u001b[0m \u001b[39mfor\u001b[39;00m batch_idx, (X, y) \u001b[39min\u001b[39;00m \u001b[39menumerate\u001b[39m(train_loader):\n\u001b[1;32m    455\u001b[0m     \u001b[39mself\u001b[39m\u001b[39m.\u001b[39m_callback_container\u001b[39m.\u001b[39mon_batch_begin(batch_idx)\n\u001b[1;32m    457\u001b[0m     batch_logs \u001b[39m=\u001b[39m \u001b[39mself\u001b[39m\u001b[39m.\u001b[39m_train_batch(X, y)\n",
      "File \u001b[0;32m~/.conda/envs/tf/lib/python3.9/site-packages/torch/utils/data/dataloader.py:628\u001b[0m, in \u001b[0;36m_BaseDataLoaderIter.__next__\u001b[0;34m(self)\u001b[0m\n\u001b[1;32m    625\u001b[0m \u001b[39mif\u001b[39;00m \u001b[39mself\u001b[39m\u001b[39m.\u001b[39m_sampler_iter \u001b[39mis\u001b[39;00m \u001b[39mNone\u001b[39;00m:\n\u001b[1;32m    626\u001b[0m     \u001b[39m# TODO(https://github.com/pytorch/pytorch/issues/76750)\u001b[39;00m\n\u001b[1;32m    627\u001b[0m     \u001b[39mself\u001b[39m\u001b[39m.\u001b[39m_reset()  \u001b[39m# type: ignore[call-arg]\u001b[39;00m\n\u001b[0;32m--> 628\u001b[0m data \u001b[39m=\u001b[39m \u001b[39mself\u001b[39;49m\u001b[39m.\u001b[39;49m_next_data()\n\u001b[1;32m    629\u001b[0m \u001b[39mself\u001b[39m\u001b[39m.\u001b[39m_num_yielded \u001b[39m+\u001b[39m\u001b[39m=\u001b[39m \u001b[39m1\u001b[39m\n\u001b[1;32m    630\u001b[0m \u001b[39mif\u001b[39;00m \u001b[39mself\u001b[39m\u001b[39m.\u001b[39m_dataset_kind \u001b[39m==\u001b[39m _DatasetKind\u001b[39m.\u001b[39mIterable \u001b[39mand\u001b[39;00m \\\n\u001b[1;32m    631\u001b[0m         \u001b[39mself\u001b[39m\u001b[39m.\u001b[39m_IterableDataset_len_called \u001b[39mis\u001b[39;00m \u001b[39mnot\u001b[39;00m \u001b[39mNone\u001b[39;00m \u001b[39mand\u001b[39;00m \\\n\u001b[1;32m    632\u001b[0m         \u001b[39mself\u001b[39m\u001b[39m.\u001b[39m_num_yielded \u001b[39m>\u001b[39m \u001b[39mself\u001b[39m\u001b[39m.\u001b[39m_IterableDataset_len_called:\n",
      "File \u001b[0;32m~/.conda/envs/tf/lib/python3.9/site-packages/torch/utils/data/dataloader.py:1316\u001b[0m, in \u001b[0;36m_MultiProcessingDataLoaderIter._next_data\u001b[0;34m(self)\u001b[0m\n\u001b[1;32m   1313\u001b[0m     \u001b[39mreturn\u001b[39;00m \u001b[39mself\u001b[39m\u001b[39m.\u001b[39m_process_data(data)\n\u001b[1;32m   1315\u001b[0m \u001b[39massert\u001b[39;00m \u001b[39mnot\u001b[39;00m \u001b[39mself\u001b[39m\u001b[39m.\u001b[39m_shutdown \u001b[39mand\u001b[39;00m \u001b[39mself\u001b[39m\u001b[39m.\u001b[39m_tasks_outstanding \u001b[39m>\u001b[39m \u001b[39m0\u001b[39m\n\u001b[0;32m-> 1316\u001b[0m idx, data \u001b[39m=\u001b[39m \u001b[39mself\u001b[39;49m\u001b[39m.\u001b[39;49m_get_data()\n\u001b[1;32m   1317\u001b[0m \u001b[39mself\u001b[39m\u001b[39m.\u001b[39m_tasks_outstanding \u001b[39m-\u001b[39m\u001b[39m=\u001b[39m \u001b[39m1\u001b[39m\n\u001b[1;32m   1318\u001b[0m \u001b[39mif\u001b[39;00m \u001b[39mself\u001b[39m\u001b[39m.\u001b[39m_dataset_kind \u001b[39m==\u001b[39m _DatasetKind\u001b[39m.\u001b[39mIterable:\n\u001b[1;32m   1319\u001b[0m     \u001b[39m# Check for _IterableDatasetStopIteration\u001b[39;00m\n",
      "File \u001b[0;32m~/.conda/envs/tf/lib/python3.9/site-packages/torch/utils/data/dataloader.py:1282\u001b[0m, in \u001b[0;36m_MultiProcessingDataLoaderIter._get_data\u001b[0;34m(self)\u001b[0m\n\u001b[1;32m   1278\u001b[0m     \u001b[39m# In this case, `self._data_queue` is a `queue.Queue`,. But we don't\u001b[39;00m\n\u001b[1;32m   1279\u001b[0m     \u001b[39m# need to call `.task_done()` because we don't use `.join()`.\u001b[39;00m\n\u001b[1;32m   1280\u001b[0m \u001b[39melse\u001b[39;00m:\n\u001b[1;32m   1281\u001b[0m     \u001b[39mwhile\u001b[39;00m \u001b[39mTrue\u001b[39;00m:\n\u001b[0;32m-> 1282\u001b[0m         success, data \u001b[39m=\u001b[39m \u001b[39mself\u001b[39;49m\u001b[39m.\u001b[39;49m_try_get_data()\n\u001b[1;32m   1283\u001b[0m         \u001b[39mif\u001b[39;00m success:\n\u001b[1;32m   1284\u001b[0m             \u001b[39mreturn\u001b[39;00m data\n",
      "File \u001b[0;32m~/.conda/envs/tf/lib/python3.9/site-packages/torch/utils/data/dataloader.py:1120\u001b[0m, in \u001b[0;36m_MultiProcessingDataLoaderIter._try_get_data\u001b[0;34m(self, timeout)\u001b[0m\n\u001b[1;32m   1107\u001b[0m \u001b[39mdef\u001b[39;00m \u001b[39m_try_get_data\u001b[39m(\u001b[39mself\u001b[39m, timeout\u001b[39m=\u001b[39m_utils\u001b[39m.\u001b[39mMP_STATUS_CHECK_INTERVAL):\n\u001b[1;32m   1108\u001b[0m     \u001b[39m# Tries to fetch data from `self._data_queue` once for a given timeout.\u001b[39;00m\n\u001b[1;32m   1109\u001b[0m     \u001b[39m# This can also be used as inner loop of fetching without timeout, with\u001b[39;00m\n\u001b[0;32m   (...)\u001b[0m\n\u001b[1;32m   1117\u001b[0m     \u001b[39m# Returns a 2-tuple:\u001b[39;00m\n\u001b[1;32m   1118\u001b[0m     \u001b[39m#   (bool: whether successfully get data, any: data if successful else None)\u001b[39;00m\n\u001b[1;32m   1119\u001b[0m     \u001b[39mtry\u001b[39;00m:\n\u001b[0;32m-> 1120\u001b[0m         data \u001b[39m=\u001b[39m \u001b[39mself\u001b[39;49m\u001b[39m.\u001b[39;49m_data_queue\u001b[39m.\u001b[39;49mget(timeout\u001b[39m=\u001b[39;49mtimeout)\n\u001b[1;32m   1121\u001b[0m         \u001b[39mreturn\u001b[39;00m (\u001b[39mTrue\u001b[39;00m, data)\n\u001b[1;32m   1122\u001b[0m     \u001b[39mexcept\u001b[39;00m \u001b[39mException\u001b[39;00m \u001b[39mas\u001b[39;00m e:\n\u001b[1;32m   1123\u001b[0m         \u001b[39m# At timeout and error, we manually check whether any worker has\u001b[39;00m\n\u001b[1;32m   1124\u001b[0m         \u001b[39m# failed. Note that this is the only mechanism for Windows to detect\u001b[39;00m\n\u001b[1;32m   1125\u001b[0m         \u001b[39m# worker failures.\u001b[39;00m\n",
      "File \u001b[0;32m~/.conda/envs/tf/lib/python3.9/multiprocessing/queues.py:113\u001b[0m, in \u001b[0;36mQueue.get\u001b[0;34m(self, block, timeout)\u001b[0m\n\u001b[1;32m    111\u001b[0m \u001b[39mif\u001b[39;00m block:\n\u001b[1;32m    112\u001b[0m     timeout \u001b[39m=\u001b[39m deadline \u001b[39m-\u001b[39m time\u001b[39m.\u001b[39mmonotonic()\n\u001b[0;32m--> 113\u001b[0m     \u001b[39mif\u001b[39;00m \u001b[39mnot\u001b[39;00m \u001b[39mself\u001b[39;49m\u001b[39m.\u001b[39;49m_poll(timeout):\n\u001b[1;32m    114\u001b[0m         \u001b[39mraise\u001b[39;00m Empty\n\u001b[1;32m    115\u001b[0m \u001b[39melif\u001b[39;00m \u001b[39mnot\u001b[39;00m \u001b[39mself\u001b[39m\u001b[39m.\u001b[39m_poll():\n",
      "File \u001b[0;32m~/.conda/envs/tf/lib/python3.9/multiprocessing/connection.py:262\u001b[0m, in \u001b[0;36m_ConnectionBase.poll\u001b[0;34m(self, timeout)\u001b[0m\n\u001b[1;32m    260\u001b[0m \u001b[39mself\u001b[39m\u001b[39m.\u001b[39m_check_closed()\n\u001b[1;32m    261\u001b[0m \u001b[39mself\u001b[39m\u001b[39m.\u001b[39m_check_readable()\n\u001b[0;32m--> 262\u001b[0m \u001b[39mreturn\u001b[39;00m \u001b[39mself\u001b[39;49m\u001b[39m.\u001b[39;49m_poll(timeout)\n",
      "File \u001b[0;32m~/.conda/envs/tf/lib/python3.9/multiprocessing/connection.py:429\u001b[0m, in \u001b[0;36mConnection._poll\u001b[0;34m(self, timeout)\u001b[0m\n\u001b[1;32m    428\u001b[0m \u001b[39mdef\u001b[39;00m \u001b[39m_poll\u001b[39m(\u001b[39mself\u001b[39m, timeout):\n\u001b[0;32m--> 429\u001b[0m     r \u001b[39m=\u001b[39m wait([\u001b[39mself\u001b[39;49m], timeout)\n\u001b[1;32m    430\u001b[0m     \u001b[39mreturn\u001b[39;00m \u001b[39mbool\u001b[39m(r)\n",
      "File \u001b[0;32m~/.conda/envs/tf/lib/python3.9/multiprocessing/connection.py:930\u001b[0m, in \u001b[0;36mwait\u001b[0;34m(object_list, timeout)\u001b[0m\n\u001b[1;32m    928\u001b[0m \u001b[39mwith\u001b[39;00m _WaitSelector() \u001b[39mas\u001b[39;00m selector:\n\u001b[1;32m    929\u001b[0m     \u001b[39mfor\u001b[39;00m obj \u001b[39min\u001b[39;00m object_list:\n\u001b[0;32m--> 930\u001b[0m         selector\u001b[39m.\u001b[39;49mregister(obj, selectors\u001b[39m.\u001b[39mEVENT_READ)\n\u001b[1;32m    932\u001b[0m     \u001b[39mif\u001b[39;00m timeout \u001b[39mis\u001b[39;00m \u001b[39mnot\u001b[39;00m \u001b[39mNone\u001b[39;00m:\n\u001b[1;32m    933\u001b[0m         deadline \u001b[39m=\u001b[39m time\u001b[39m.\u001b[39mmonotonic() \u001b[39m+\u001b[39m timeout\n",
      "\u001b[0;31mKeyboardInterrupt\u001b[0m: "
     ]
    }
   ],
   "source": [
    "# do plane tabnet training\n",
    "# here we use default value\n",
    "\n",
    "from pytorch_tabnet.tab_model import TabNetClassifier\n",
    "\n",
    "classifier = TabNetClassifier(\n",
    "    n_d=8, # 8~64\n",
    "    n_a=8, #  ==n_d\n",
    "    n_steps=3, # 3~10\n",
    "    n_independent=2, # 1~5\n",
    "    n_shared = 2, #1~5\n",
    "    optimizer_fn=torch.optim.Adam, # default\n",
    "    optimizer_params=dict(lr=1e-2),\n",
    "    scheduler_fn = None,\n",
    "    lambda_sparse = 1e-3,\n",
    "    device_name = 'auto',\n",
    "    mask_type='sparsemax'# \"sparsemax\", entmax\n",
    "    #model_name\n",
    "    )\n",
    "\n",
    "classifier.fit(X_train=flat_x[0], y_train=y[0],\n",
    "               eval_set=[(flat_x[0], y[0]), (flat_x[2], y[2]), (flat_x[3], y[3]), (flat_x[1], y[1])],\n",
    "               eval_name=['train', 'test_icu', 'test_covid', 'valid'],\n",
    "               eval_metric=['auc'],\n",
    "               max_epochs=50,\n",
    "               patience=10,\n",
    "               weights=0, # 0 no sample / 1 --> sampling considering class weight\n",
    "               # loss = CE\n",
    "               batch_size=1024,\n",
    "               virtual_batch_size=128,\n",
    "               num_workers = 8, # number of workers used in torch dataloader\n",
    "               drop_last= False,\n",
    "               callbacks=None,\n",
    "               #pretraining_ratio  for pretrainer only\n",
    "               )\n",
    "plot_history(classifier)"
   ]
  },
  {
   "cell_type": "code",
   "execution_count": null,
   "id": "c6fc0ad9",
   "metadata": {},
   "outputs": [
    {
     "data": {
      "image/png": "[encoded data removed]",
      "text/plain": [
       "<Figure size 432x288 with 1 Axes>"
      ]
     },
     "metadata": {
      "needs_background": "light"
     },
     "output_type": "display_data"
    }
   ],
   "source": [
    "plot_history(classifier)"
   ]
  },
  {
   "cell_type": "code",
   "execution_count": null,
   "id": "3eca76f1",
   "metadata": {},
   "outputs": [
    {
     "name": "stderr",
     "output_type": "stream",
     "text": [
      "/home/minkoo/.conda/envs/tf/lib/python3.9/site-packages/pytorch_tabnet/abstract_model.py:75: UserWarning: Device used : cpu\n",
      "  warnings.warn(f\"Device used : {self.device}\")\n"
     ]
    },
    {
     "name": "stdout",
     "output_type": "stream",
     "text": [
      "epoch 0  | loss: 0.56299 | train_auc: 0.8055  | test_icu_auc: 0.72492 | test_covid_auc: 0.79415 | valid_auc: 0.79996 |  0:00:49s\n"
     ]
    },
    {
     "ename": "KeyboardInterrupt",
     "evalue": "",
     "output_type": "error",
     "traceback": [
      "\u001b[0;31m---------------------------------------------------------------------------\u001b[0m",
      "\u001b[0;31mKeyboardInterrupt\u001b[0m                         Traceback (most recent call last)",
      "\u001b[1;32m/home/minkoo/serverity_prediction/notebook/severity_tabnet.ipynb Cell 7\u001b[0m in \u001b[0;36m<cell line: 16>\u001b[0;34m()\u001b[0m\n\u001b[1;32m      <a href='vscode-notebook-cell://ssh-remote%2Bbuild-38.201/home/minkoo/serverity_prediction/notebook/severity_tabnet.ipynb#Y150sdnNjb2RlLXJlbW90ZQ%3D%3D?line=0'>1</a>\u001b[0m \u001b[39m# change weight\u001b[39;00m\n\u001b[1;32m      <a href='vscode-notebook-cell://ssh-remote%2Bbuild-38.201/home/minkoo/serverity_prediction/notebook/severity_tabnet.ipynb#Y150sdnNjb2RlLXJlbW90ZQ%3D%3D?line=2'>3</a>\u001b[0m classifier2 \u001b[39m=\u001b[39m TabNetClassifier(\n\u001b[1;32m      <a href='vscode-notebook-cell://ssh-remote%2Bbuild-38.201/home/minkoo/serverity_prediction/notebook/severity_tabnet.ipynb#Y150sdnNjb2RlLXJlbW90ZQ%3D%3D?line=3'>4</a>\u001b[0m     n_d\u001b[39m=\u001b[39m\u001b[39m8\u001b[39m, \u001b[39m# 8~64\u001b[39;00m\n\u001b[1;32m      <a href='vscode-notebook-cell://ssh-remote%2Bbuild-38.201/home/minkoo/serverity_prediction/notebook/severity_tabnet.ipynb#Y150sdnNjb2RlLXJlbW90ZQ%3D%3D?line=4'>5</a>\u001b[0m     n_a\u001b[39m=\u001b[39m\u001b[39m8\u001b[39m, \u001b[39m#  ==n_d\u001b[39;00m\n\u001b[0;32m   (...)\u001b[0m\n\u001b[1;32m     <a href='vscode-notebook-cell://ssh-remote%2Bbuild-38.201/home/minkoo/serverity_prediction/notebook/severity_tabnet.ipynb#Y150sdnNjb2RlLXJlbW90ZQ%3D%3D?line=12'>13</a>\u001b[0m     \u001b[39m#model_name\u001b[39;00m\n\u001b[1;32m     <a href='vscode-notebook-cell://ssh-remote%2Bbuild-38.201/home/minkoo/serverity_prediction/notebook/severity_tabnet.ipynb#Y150sdnNjb2RlLXJlbW90ZQ%3D%3D?line=13'>14</a>\u001b[0m     )\n\u001b[0;32m---> <a href='vscode-notebook-cell://ssh-remote%2Bbuild-38.201/home/minkoo/serverity_prediction/notebook/severity_tabnet.ipynb#Y150sdnNjb2RlLXJlbW90ZQ%3D%3D?line=15'>16</a>\u001b[0m classifier2\u001b[39m.\u001b[39;49mfit(X_train\u001b[39m=\u001b[39;49mflat_x[\u001b[39m0\u001b[39;49m], y_train\u001b[39m=\u001b[39;49my[\u001b[39m0\u001b[39;49m],\n\u001b[1;32m     <a href='vscode-notebook-cell://ssh-remote%2Bbuild-38.201/home/minkoo/serverity_prediction/notebook/severity_tabnet.ipynb#Y150sdnNjb2RlLXJlbW90ZQ%3D%3D?line=16'>17</a>\u001b[0m                eval_set\u001b[39m=\u001b[39;49m[(flat_x[\u001b[39m0\u001b[39;49m], y[\u001b[39m0\u001b[39;49m]), (flat_x[\u001b[39m2\u001b[39;49m], y[\u001b[39m2\u001b[39;49m]), (flat_x[\u001b[39m3\u001b[39;49m], y[\u001b[39m3\u001b[39;49m]), (flat_x[\u001b[39m1\u001b[39;49m], y[\u001b[39m1\u001b[39;49m])],\n\u001b[1;32m     <a href='vscode-notebook-cell://ssh-remote%2Bbuild-38.201/home/minkoo/serverity_prediction/notebook/severity_tabnet.ipynb#Y150sdnNjb2RlLXJlbW90ZQ%3D%3D?line=17'>18</a>\u001b[0m                eval_name\u001b[39m=\u001b[39;49m[\u001b[39m'\u001b[39;49m\u001b[39mtrain\u001b[39;49m\u001b[39m'\u001b[39;49m, \u001b[39m'\u001b[39;49m\u001b[39mtest_icu\u001b[39;49m\u001b[39m'\u001b[39;49m, \u001b[39m'\u001b[39;49m\u001b[39mtest_covid\u001b[39;49m\u001b[39m'\u001b[39;49m, \u001b[39m'\u001b[39;49m\u001b[39mvalid\u001b[39;49m\u001b[39m'\u001b[39;49m],\n\u001b[1;32m     <a href='vscode-notebook-cell://ssh-remote%2Bbuild-38.201/home/minkoo/serverity_prediction/notebook/severity_tabnet.ipynb#Y150sdnNjb2RlLXJlbW90ZQ%3D%3D?line=18'>19</a>\u001b[0m                eval_metric\u001b[39m=\u001b[39;49m[\u001b[39m'\u001b[39;49m\u001b[39mauc\u001b[39;49m\u001b[39m'\u001b[39;49m],\n\u001b[1;32m     <a href='vscode-notebook-cell://ssh-remote%2Bbuild-38.201/home/minkoo/serverity_prediction/notebook/severity_tabnet.ipynb#Y150sdnNjb2RlLXJlbW90ZQ%3D%3D?line=19'>20</a>\u001b[0m                max_epochs\u001b[39m=\u001b[39;49m\u001b[39m50\u001b[39;49m,\n\u001b[1;32m     <a href='vscode-notebook-cell://ssh-remote%2Bbuild-38.201/home/minkoo/serverity_prediction/notebook/severity_tabnet.ipynb#Y150sdnNjb2RlLXJlbW90ZQ%3D%3D?line=20'>21</a>\u001b[0m                patience\u001b[39m=\u001b[39;49m\u001b[39m10\u001b[39;49m,\n\u001b[1;32m     <a href='vscode-notebook-cell://ssh-remote%2Bbuild-38.201/home/minkoo/serverity_prediction/notebook/severity_tabnet.ipynb#Y150sdnNjb2RlLXJlbW90ZQ%3D%3D?line=21'>22</a>\u001b[0m                weights\u001b[39m=\u001b[39;49m\u001b[39m1\u001b[39;49m, \u001b[39m# 0 no sample / 1 --> sampling considering class weight\u001b[39;49;00m\n\u001b[1;32m     <a href='vscode-notebook-cell://ssh-remote%2Bbuild-38.201/home/minkoo/serverity_prediction/notebook/severity_tabnet.ipynb#Y150sdnNjb2RlLXJlbW90ZQ%3D%3D?line=22'>23</a>\u001b[0m                \u001b[39m# loss = CE\u001b[39;49;00m\n\u001b[1;32m     <a href='vscode-notebook-cell://ssh-remote%2Bbuild-38.201/home/minkoo/serverity_prediction/notebook/severity_tabnet.ipynb#Y150sdnNjb2RlLXJlbW90ZQ%3D%3D?line=23'>24</a>\u001b[0m                batch_size\u001b[39m=\u001b[39;49m\u001b[39m1024\u001b[39;49m,\n\u001b[1;32m     <a href='vscode-notebook-cell://ssh-remote%2Bbuild-38.201/home/minkoo/serverity_prediction/notebook/severity_tabnet.ipynb#Y150sdnNjb2RlLXJlbW90ZQ%3D%3D?line=24'>25</a>\u001b[0m                virtual_batch_size\u001b[39m=\u001b[39;49m\u001b[39m128\u001b[39;49m,\n\u001b[1;32m     <a href='vscode-notebook-cell://ssh-remote%2Bbuild-38.201/home/minkoo/serverity_prediction/notebook/severity_tabnet.ipynb#Y150sdnNjb2RlLXJlbW90ZQ%3D%3D?line=25'>26</a>\u001b[0m                num_workers \u001b[39m=\u001b[39;49m \u001b[39m8\u001b[39;49m, \u001b[39m# number of workers used in torch dataloader\u001b[39;49;00m\n\u001b[1;32m     <a href='vscode-notebook-cell://ssh-remote%2Bbuild-38.201/home/minkoo/serverity_prediction/notebook/severity_tabnet.ipynb#Y150sdnNjb2RlLXJlbW90ZQ%3D%3D?line=26'>27</a>\u001b[0m                drop_last\u001b[39m=\u001b[39;49m \u001b[39mFalse\u001b[39;49;00m,\n\u001b[1;32m     <a href='vscode-notebook-cell://ssh-remote%2Bbuild-38.201/home/minkoo/serverity_prediction/notebook/severity_tabnet.ipynb#Y150sdnNjb2RlLXJlbW90ZQ%3D%3D?line=27'>28</a>\u001b[0m                callbacks\u001b[39m=\u001b[39;49m\u001b[39mNone\u001b[39;49;00m,\n\u001b[1;32m     <a href='vscode-notebook-cell://ssh-remote%2Bbuild-38.201/home/minkoo/serverity_prediction/notebook/severity_tabnet.ipynb#Y150sdnNjb2RlLXJlbW90ZQ%3D%3D?line=28'>29</a>\u001b[0m                \u001b[39m#pretraining_ratio  for pretrainer only\u001b[39;49;00m\n\u001b[1;32m     <a href='vscode-notebook-cell://ssh-remote%2Bbuild-38.201/home/minkoo/serverity_prediction/notebook/severity_tabnet.ipynb#Y150sdnNjb2RlLXJlbW90ZQ%3D%3D?line=29'>30</a>\u001b[0m                )\n\u001b[1;32m     <a href='vscode-notebook-cell://ssh-remote%2Bbuild-38.201/home/minkoo/serverity_prediction/notebook/severity_tabnet.ipynb#Y150sdnNjb2RlLXJlbW90ZQ%3D%3D?line=30'>31</a>\u001b[0m plot_history(classifier2)\n",
      "File \u001b[0;32m~/.conda/envs/tf/lib/python3.9/site-packages/pytorch_tabnet/abstract_model.py:245\u001b[0m, in \u001b[0;36mTabModel.fit\u001b[0;34m(self, X_train, y_train, eval_set, eval_name, eval_metric, loss_fn, weights, max_epochs, patience, batch_size, virtual_batch_size, num_workers, drop_last, callbacks, pin_memory, from_unsupervised, warm_start, augmentations)\u001b[0m\n\u001b[1;32m    243\u001b[0m \u001b[39m# Apply predict epoch to all eval sets\u001b[39;00m\n\u001b[1;32m    244\u001b[0m \u001b[39mfor\u001b[39;00m eval_name, valid_dataloader \u001b[39min\u001b[39;00m \u001b[39mzip\u001b[39m(eval_names, valid_dataloaders):\n\u001b[0;32m--> 245\u001b[0m     \u001b[39mself\u001b[39;49m\u001b[39m.\u001b[39;49m_predict_epoch(eval_name, valid_dataloader)\n\u001b[1;32m    247\u001b[0m \u001b[39m# Call method on_epoch_end for all callbacks\u001b[39;00m\n\u001b[1;32m    248\u001b[0m \u001b[39mself\u001b[39m\u001b[39m.\u001b[39m_callback_container\u001b[39m.\u001b[39mon_epoch_end(\n\u001b[1;32m    249\u001b[0m     epoch_idx, logs\u001b[39m=\u001b[39m\u001b[39mself\u001b[39m\u001b[39m.\u001b[39mhistory\u001b[39m.\u001b[39mepoch_metrics\n\u001b[1;32m    250\u001b[0m )\n",
      "File \u001b[0;32m~/.conda/envs/tf/lib/python3.9/site-packages/pytorch_tabnet/abstract_model.py:530\u001b[0m, in \u001b[0;36mTabModel._predict_epoch\u001b[0;34m(self, name, loader)\u001b[0m\n\u001b[1;32m    528\u001b[0m \u001b[39m# Main loop\u001b[39;00m\n\u001b[1;32m    529\u001b[0m \u001b[39mfor\u001b[39;00m batch_idx, (X, y) \u001b[39min\u001b[39;00m \u001b[39menumerate\u001b[39m(loader):\n\u001b[0;32m--> 530\u001b[0m     scores \u001b[39m=\u001b[39m \u001b[39mself\u001b[39;49m\u001b[39m.\u001b[39;49m_predict_batch(X)\n\u001b[1;32m    531\u001b[0m     list_y_true\u001b[39m.\u001b[39mappend(y)\n\u001b[1;32m    532\u001b[0m     list_y_score\u001b[39m.\u001b[39mappend(scores)\n",
      "File \u001b[0;32m~/.conda/envs/tf/lib/python3.9/site-packages/pytorch_tabnet/abstract_model.py:558\u001b[0m, in \u001b[0;36mTabModel._predict_batch\u001b[0;34m(self, X)\u001b[0m\n\u001b[1;32m    555\u001b[0m X \u001b[39m=\u001b[39m X\u001b[39m.\u001b[39mto(\u001b[39mself\u001b[39m\u001b[39m.\u001b[39mdevice)\u001b[39m.\u001b[39mfloat()\n\u001b[1;32m    557\u001b[0m \u001b[39m# compute model output\u001b[39;00m\n\u001b[0;32m--> 558\u001b[0m scores, _ \u001b[39m=\u001b[39m \u001b[39mself\u001b[39;49m\u001b[39m.\u001b[39;49mnetwork(X)\n\u001b[1;32m    560\u001b[0m \u001b[39mif\u001b[39;00m \u001b[39misinstance\u001b[39m(scores, \u001b[39mlist\u001b[39m):\n\u001b[1;32m    561\u001b[0m     scores \u001b[39m=\u001b[39m [x\u001b[39m.\u001b[39mcpu()\u001b[39m.\u001b[39mdetach()\u001b[39m.\u001b[39mnumpy() \u001b[39mfor\u001b[39;00m x \u001b[39min\u001b[39;00m scores]\n",
      "File \u001b[0;32m~/.conda/envs/tf/lib/python3.9/site-packages/torch/nn/modules/module.py:1194\u001b[0m, in \u001b[0;36mModule._call_impl\u001b[0;34m(self, *input, **kwargs)\u001b[0m\n\u001b[1;32m   1190\u001b[0m \u001b[39m# If we don't have any hooks, we want to skip the rest of the logic in\u001b[39;00m\n\u001b[1;32m   1191\u001b[0m \u001b[39m# this function, and just call forward.\u001b[39;00m\n\u001b[1;32m   1192\u001b[0m \u001b[39mif\u001b[39;00m \u001b[39mnot\u001b[39;00m (\u001b[39mself\u001b[39m\u001b[39m.\u001b[39m_backward_hooks \u001b[39mor\u001b[39;00m \u001b[39mself\u001b[39m\u001b[39m.\u001b[39m_forward_hooks \u001b[39mor\u001b[39;00m \u001b[39mself\u001b[39m\u001b[39m.\u001b[39m_forward_pre_hooks \u001b[39mor\u001b[39;00m _global_backward_hooks\n\u001b[1;32m   1193\u001b[0m         \u001b[39mor\u001b[39;00m _global_forward_hooks \u001b[39mor\u001b[39;00m _global_forward_pre_hooks):\n\u001b[0;32m-> 1194\u001b[0m     \u001b[39mreturn\u001b[39;00m forward_call(\u001b[39m*\u001b[39;49m\u001b[39minput\u001b[39;49m, \u001b[39m*\u001b[39;49m\u001b[39m*\u001b[39;49mkwargs)\n\u001b[1;32m   1195\u001b[0m \u001b[39m# Do not call functions when jit is used\u001b[39;00m\n\u001b[1;32m   1196\u001b[0m full_backward_hooks, non_full_backward_hooks \u001b[39m=\u001b[39m [], []\n",
      "File \u001b[0;32m~/.conda/envs/tf/lib/python3.9/site-packages/pytorch_tabnet/tab_network.py:586\u001b[0m, in \u001b[0;36mTabNet.forward\u001b[0;34m(self, x)\u001b[0m\n\u001b[1;32m    584\u001b[0m \u001b[39mdef\u001b[39;00m \u001b[39mforward\u001b[39m(\u001b[39mself\u001b[39m, x):\n\u001b[1;32m    585\u001b[0m     x \u001b[39m=\u001b[39m \u001b[39mself\u001b[39m\u001b[39m.\u001b[39membedder(x)\n\u001b[0;32m--> 586\u001b[0m     \u001b[39mreturn\u001b[39;00m \u001b[39mself\u001b[39;49m\u001b[39m.\u001b[39;49mtabnet(x)\n",
      "File \u001b[0;32m~/.conda/envs/tf/lib/python3.9/site-packages/torch/nn/modules/module.py:1194\u001b[0m, in \u001b[0;36mModule._call_impl\u001b[0;34m(self, *input, **kwargs)\u001b[0m\n\u001b[1;32m   1190\u001b[0m \u001b[39m# If we don't have any hooks, we want to skip the rest of the logic in\u001b[39;00m\n\u001b[1;32m   1191\u001b[0m \u001b[39m# this function, and just call forward.\u001b[39;00m\n\u001b[1;32m   1192\u001b[0m \u001b[39mif\u001b[39;00m \u001b[39mnot\u001b[39;00m (\u001b[39mself\u001b[39m\u001b[39m.\u001b[39m_backward_hooks \u001b[39mor\u001b[39;00m \u001b[39mself\u001b[39m\u001b[39m.\u001b[39m_forward_hooks \u001b[39mor\u001b[39;00m \u001b[39mself\u001b[39m\u001b[39m.\u001b[39m_forward_pre_hooks \u001b[39mor\u001b[39;00m _global_backward_hooks\n\u001b[1;32m   1193\u001b[0m         \u001b[39mor\u001b[39;00m _global_forward_hooks \u001b[39mor\u001b[39;00m _global_forward_pre_hooks):\n\u001b[0;32m-> 1194\u001b[0m     \u001b[39mreturn\u001b[39;00m forward_call(\u001b[39m*\u001b[39;49m\u001b[39minput\u001b[39;49m, \u001b[39m*\u001b[39;49m\u001b[39m*\u001b[39;49mkwargs)\n\u001b[1;32m   1195\u001b[0m \u001b[39m# Do not call functions when jit is used\u001b[39;00m\n\u001b[1;32m   1196\u001b[0m full_backward_hooks, non_full_backward_hooks \u001b[39m=\u001b[39m [], []\n",
      "File \u001b[0;32m~/.conda/envs/tf/lib/python3.9/site-packages/pytorch_tabnet/tab_network.py:471\u001b[0m, in \u001b[0;36mTabNetNoEmbeddings.forward\u001b[0;34m(self, x)\u001b[0m\n\u001b[1;32m    469\u001b[0m \u001b[39mdef\u001b[39;00m \u001b[39mforward\u001b[39m(\u001b[39mself\u001b[39m, x):\n\u001b[1;32m    470\u001b[0m     res \u001b[39m=\u001b[39m \u001b[39m0\u001b[39m\n\u001b[0;32m--> 471\u001b[0m     steps_output, M_loss \u001b[39m=\u001b[39m \u001b[39mself\u001b[39;49m\u001b[39m.\u001b[39;49mencoder(x)\n\u001b[1;32m    472\u001b[0m     res \u001b[39m=\u001b[39m torch\u001b[39m.\u001b[39msum(torch\u001b[39m.\u001b[39mstack(steps_output, dim\u001b[39m=\u001b[39m\u001b[39m0\u001b[39m), dim\u001b[39m=\u001b[39m\u001b[39m0\u001b[39m)\n\u001b[1;32m    474\u001b[0m     \u001b[39mif\u001b[39;00m \u001b[39mself\u001b[39m\u001b[39m.\u001b[39mis_multi_task:\n\u001b[1;32m    475\u001b[0m         \u001b[39m# Result will be in list format\u001b[39;00m\n",
      "File \u001b[0;32m~/.conda/envs/tf/lib/python3.9/site-packages/torch/nn/modules/module.py:1194\u001b[0m, in \u001b[0;36mModule._call_impl\u001b[0;34m(self, *input, **kwargs)\u001b[0m\n\u001b[1;32m   1190\u001b[0m \u001b[39m# If we don't have any hooks, we want to skip the rest of the logic in\u001b[39;00m\n\u001b[1;32m   1191\u001b[0m \u001b[39m# this function, and just call forward.\u001b[39;00m\n\u001b[1;32m   1192\u001b[0m \u001b[39mif\u001b[39;00m \u001b[39mnot\u001b[39;00m (\u001b[39mself\u001b[39m\u001b[39m.\u001b[39m_backward_hooks \u001b[39mor\u001b[39;00m \u001b[39mself\u001b[39m\u001b[39m.\u001b[39m_forward_hooks \u001b[39mor\u001b[39;00m \u001b[39mself\u001b[39m\u001b[39m.\u001b[39m_forward_pre_hooks \u001b[39mor\u001b[39;00m _global_backward_hooks\n\u001b[1;32m   1193\u001b[0m         \u001b[39mor\u001b[39;00m _global_forward_hooks \u001b[39mor\u001b[39;00m _global_forward_pre_hooks):\n\u001b[0;32m-> 1194\u001b[0m     \u001b[39mreturn\u001b[39;00m forward_call(\u001b[39m*\u001b[39;49m\u001b[39minput\u001b[39;49m, \u001b[39m*\u001b[39;49m\u001b[39m*\u001b[39;49mkwargs)\n\u001b[1;32m   1195\u001b[0m \u001b[39m# Do not call functions when jit is used\u001b[39;00m\n\u001b[1;32m   1196\u001b[0m full_backward_hooks, non_full_backward_hooks \u001b[39m=\u001b[39m [], []\n",
      "File \u001b[0;32m~/.conda/envs/tf/lib/python3.9/site-packages/pytorch_tabnet/tab_network.py:156\u001b[0m, in \u001b[0;36mTabNetEncoder.forward\u001b[0;34m(self, x, prior)\u001b[0m\n\u001b[1;32m    153\u001b[0m     prior \u001b[39m=\u001b[39m torch\u001b[39m.\u001b[39mones(x\u001b[39m.\u001b[39mshape)\u001b[39m.\u001b[39mto(x\u001b[39m.\u001b[39mdevice)\n\u001b[1;32m    155\u001b[0m M_loss \u001b[39m=\u001b[39m \u001b[39m0\u001b[39m\n\u001b[0;32m--> 156\u001b[0m att \u001b[39m=\u001b[39m \u001b[39mself\u001b[39;49m\u001b[39m.\u001b[39;49minitial_splitter(x)[:, \u001b[39mself\u001b[39m\u001b[39m.\u001b[39mn_d :]\n\u001b[1;32m    158\u001b[0m steps_output \u001b[39m=\u001b[39m []\n\u001b[1;32m    159\u001b[0m \u001b[39mfor\u001b[39;00m step \u001b[39min\u001b[39;00m \u001b[39mrange\u001b[39m(\u001b[39mself\u001b[39m\u001b[39m.\u001b[39mn_steps):\n",
      "File \u001b[0;32m~/.conda/envs/tf/lib/python3.9/site-packages/torch/nn/modules/module.py:1194\u001b[0m, in \u001b[0;36mModule._call_impl\u001b[0;34m(self, *input, **kwargs)\u001b[0m\n\u001b[1;32m   1190\u001b[0m \u001b[39m# If we don't have any hooks, we want to skip the rest of the logic in\u001b[39;00m\n\u001b[1;32m   1191\u001b[0m \u001b[39m# this function, and just call forward.\u001b[39;00m\n\u001b[1;32m   1192\u001b[0m \u001b[39mif\u001b[39;00m \u001b[39mnot\u001b[39;00m (\u001b[39mself\u001b[39m\u001b[39m.\u001b[39m_backward_hooks \u001b[39mor\u001b[39;00m \u001b[39mself\u001b[39m\u001b[39m.\u001b[39m_forward_hooks \u001b[39mor\u001b[39;00m \u001b[39mself\u001b[39m\u001b[39m.\u001b[39m_forward_pre_hooks \u001b[39mor\u001b[39;00m _global_backward_hooks\n\u001b[1;32m   1193\u001b[0m         \u001b[39mor\u001b[39;00m _global_forward_hooks \u001b[39mor\u001b[39;00m _global_forward_pre_hooks):\n\u001b[0;32m-> 1194\u001b[0m     \u001b[39mreturn\u001b[39;00m forward_call(\u001b[39m*\u001b[39;49m\u001b[39minput\u001b[39;49m, \u001b[39m*\u001b[39;49m\u001b[39m*\u001b[39;49mkwargs)\n\u001b[1;32m   1195\u001b[0m \u001b[39m# Do not call functions when jit is used\u001b[39;00m\n\u001b[1;32m   1196\u001b[0m full_backward_hooks, non_full_backward_hooks \u001b[39m=\u001b[39m [], []\n",
      "File \u001b[0;32m~/.conda/envs/tf/lib/python3.9/site-packages/pytorch_tabnet/tab_network.py:706\u001b[0m, in \u001b[0;36mFeatTransformer.forward\u001b[0;34m(self, x)\u001b[0m\n\u001b[1;32m    705\u001b[0m \u001b[39mdef\u001b[39;00m \u001b[39mforward\u001b[39m(\u001b[39mself\u001b[39m, x):\n\u001b[0;32m--> 706\u001b[0m     x \u001b[39m=\u001b[39m \u001b[39mself\u001b[39;49m\u001b[39m.\u001b[39;49mshared(x)\n\u001b[1;32m    707\u001b[0m     x \u001b[39m=\u001b[39m \u001b[39mself\u001b[39m\u001b[39m.\u001b[39mspecifics(x)\n\u001b[1;32m    708\u001b[0m     \u001b[39mreturn\u001b[39;00m x\n",
      "File \u001b[0;32m~/.conda/envs/tf/lib/python3.9/site-packages/torch/nn/modules/module.py:1194\u001b[0m, in \u001b[0;36mModule._call_impl\u001b[0;34m(self, *input, **kwargs)\u001b[0m\n\u001b[1;32m   1190\u001b[0m \u001b[39m# If we don't have any hooks, we want to skip the rest of the logic in\u001b[39;00m\n\u001b[1;32m   1191\u001b[0m \u001b[39m# this function, and just call forward.\u001b[39;00m\n\u001b[1;32m   1192\u001b[0m \u001b[39mif\u001b[39;00m \u001b[39mnot\u001b[39;00m (\u001b[39mself\u001b[39m\u001b[39m.\u001b[39m_backward_hooks \u001b[39mor\u001b[39;00m \u001b[39mself\u001b[39m\u001b[39m.\u001b[39m_forward_hooks \u001b[39mor\u001b[39;00m \u001b[39mself\u001b[39m\u001b[39m.\u001b[39m_forward_pre_hooks \u001b[39mor\u001b[39;00m _global_backward_hooks\n\u001b[1;32m   1193\u001b[0m         \u001b[39mor\u001b[39;00m _global_forward_hooks \u001b[39mor\u001b[39;00m _global_forward_pre_hooks):\n\u001b[0;32m-> 1194\u001b[0m     \u001b[39mreturn\u001b[39;00m forward_call(\u001b[39m*\u001b[39;49m\u001b[39minput\u001b[39;49m, \u001b[39m*\u001b[39;49m\u001b[39m*\u001b[39;49mkwargs)\n\u001b[1;32m   1195\u001b[0m \u001b[39m# Do not call functions when jit is used\u001b[39;00m\n\u001b[1;32m   1196\u001b[0m full_backward_hooks, non_full_backward_hooks \u001b[39m=\u001b[39m [], []\n",
      "File \u001b[0;32m~/.conda/envs/tf/lib/python3.9/site-packages/pytorch_tabnet/tab_network.py:750\u001b[0m, in \u001b[0;36mGLU_Block.forward\u001b[0;34m(self, x)\u001b[0m\n\u001b[1;32m    748\u001b[0m \u001b[39mfor\u001b[39;00m glu_id \u001b[39min\u001b[39;00m layers_left:\n\u001b[1;32m    749\u001b[0m     x \u001b[39m=\u001b[39m torch\u001b[39m.\u001b[39madd(x, \u001b[39mself\u001b[39m\u001b[39m.\u001b[39mglu_layers[glu_id](x))\n\u001b[0;32m--> 750\u001b[0m     x \u001b[39m=\u001b[39m x \u001b[39m*\u001b[39;49m scale\n\u001b[1;32m    751\u001b[0m \u001b[39mreturn\u001b[39;00m x\n",
      "\u001b[0;31mKeyboardInterrupt\u001b[0m: "
     ]
    }
   ],
   "source": [
    "# change weight\n",
    "\n",
    "classifier2 = TabNetClassifier(\n",
    "    n_d=8, # 8~64\n",
    "    n_a=8, #  ==n_d\n",
    "    n_steps=3, # 3~10\n",
    "    n_independent=2, # 1~5\n",
    "    n_shared = 2, #1~5\n",
    "    optimizer_fn=torch.optim.Adam, # default\n",
    "    optimizer_params=dict(lr=1e-2),\n",
    "    scheduler_fn = None,\n",
    "    mask_type='sparsemax'# \"sparsemax\", entmax\n",
    "    #model_name\n",
    "    )\n",
    "\n",
    "classifier2.fit(X_train=flat_x[0], y_train=y[0],\n",
    "               eval_set=[(flat_x[0], y[0]), (flat_x[2], y[2]), (flat_x[3], y[3]), (flat_x[1], y[1])],\n",
    "               eval_name=['train', 'test_icu', 'test_covid', 'valid'],\n",
    "               eval_metric=['auc'],\n",
    "               max_epochs=50,\n",
    "               patience=10,\n",
    "               weights=1, # 0 no sample / 1 --> sampling considering class weight\n",
    "               # loss = CE\n",
    "               batch_size=1024,\n",
    "               virtual_batch_size=128,\n",
    "               num_workers = 8, # number of workers used in torch dataloader\n",
    "               drop_last= False,\n",
    "               callbacks=None,\n",
    "               #pretraining_ratio  for pretrainer only\n",
    "               )\n",
    "plot_history(classifier2)"
   ]
  },
  {
   "cell_type": "code",
   "execution_count": null,
   "id": "544ee319",
   "metadata": {},
   "outputs": [
    {
     "data": {
      "image/png": "[encoded data removed]",
      "text/plain": [
       "<Figure size 1440x1440 with 3 Axes>"
      ]
     },
     "metadata": {
      "needs_background": "light"
     },
     "output_type": "display_data"
    }
   ],
   "source": [
    "\n",
    "explain_matrix, masks = classifier.explain(flat_x[1])\n",
    "\n",
    "fig, axs = plt.subplots(1, 3, figsize=(20,20))\n",
    "for i in range(3):\n",
    "    axs[i].imshow(masks[i][:50])\n",
    "    axs[i].set_title(f\"mask {i}\")"
   ]
  },
  {
   "cell_type": "code",
   "execution_count": null,
   "id": "fb0f6563",
   "metadata": {},
   "outputs": [],
   "source": []
  },
  {
   "cell_type": "markdown",
   "id": "58064b12",
   "metadata": {},
   "source": [
    "Hyperparameter search using optuna"
   ]
  },
  {
   "cell_type": "code",
   "execution_count": null,
   "id": "62e75020",
   "metadata": {},
   "outputs": [
    {
     "ename": "IndentationError",
     "evalue": "unexpected indent (1084955490.py, line 4)",
     "output_type": "error",
     "traceback": [
      "\u001b[0;36m  Input \u001b[0;32mIn [72]\u001b[0;36m\u001b[0m\n\u001b[0;31m    def __init__(\u001b[0m\n\u001b[0m    ^\u001b[0m\n\u001b[0;31mIndentationError\u001b[0m\u001b[0;31m:\u001b[0m unexpected indent\n"
     ]
    }
   ],
   "source": [
    "import optuna\n",
    "from optuna import Trial, visualization\n",
    "\n",
    "    # def __init__(\n",
    "    #     self,\n",
    "    #     num_features,\n",
    "    #     feature_dim,\n",
    "    #     output_dim,\n",
    "    #     n_step = 2,\n",
    "    #     n_total = 4,\n",
    "    #     n_shared = 2,\n",
    "    #     relaxation_factor = 1.5,\n",
    "    #     bn_epsilon = 1e-5,\n",
    "    #     bn_momentum = 0.7,\n",
    "    #     sparsity_coefficient = 1e-5\n",
    "    # ):\n",
    "# classifier2 = TabNetClassifier(\n",
    "#     n_d=8, # 8~64    == feature_dim\n",
    "#     n_a=8, #  ==n_d   == num_features\n",
    "#     gamma=1.3\n",
    "#     n_steps=3, # 3~10\n",
    "#     n_independent=2, # 1~5\n",
    "#     n_shared = 2, #1~5\n",
    "#     optimizer_fn=torch.optim.Adam, # default\n",
    "#     optimizer_params=dict(lr=1e-2),\n",
    "#     scheduler_fn = None,\n",
    "#     lambda_sparse = 1e-3,\n",
    "#     momentum = 0.02,\n",
    "#     mask_type='sparsemax'# \"sparsemax\", entmax\n",
    "#     #model_name\n",
    "#     )\n",
    "\n",
    "def Objective(trial):\n",
    "    feature_dim = trial.suggest_categorical(\"n_d\", [8,16,32, 64, 128])\n",
    "    n_step = trial.suggest_int(\"n_step\", 2, 9, step=1)\n",
    "    n_shared = trial.suggest_int(\"n_shared\", 0, 4, step=1)\n",
    "    relaxation_factor = trial.suggest_float(\"gamma\", 1., 3., step=0.1)\n",
    "    sparsity_coefficient = trial.suggest_float(\"lambda_sparse\", 0.00000001, 0.1, log=True)\n",
    "    bn_momentum = trial.suggest_float('momentum', 0.9, 0.9999)\n",
    "    tabnet_params = dict(num_features=flat_x[0].shape[1],\n",
    "                         output_dim=feature_dim,\n",
    "                         feature_dim=feature_dim,\n",
    "                         n_step=n_step, \n",
    "                         relaxation_factor=relaxation_factor,\n",
    "                         sparsity_coefficient=sparsity_coefficient,\n",
    "                         n_shared = n_shared,\n",
    "                         bn_momentum = bn_momentum\n",
    "                     )\n",
    "    class_weight =  trial.suggest_int(\"class_weight\", 1, 10.5, step=0.5)\n",
    "    \n",
    "    cbs = [tf.keras.callbacks.EarlyStopping(\n",
    "            monitor=\"val_loss\", patience=5, restore_best_weights=True\n",
    "        )]\n",
    "    \n",
    "    tn = TabNetClassifier(**tabnet_params)\n",
    "    optimizer = tf.keras.optimizers.Adam(learning_rate=0.001,clipnorm=10)\n",
    "    loss = [tf.keras.losses.CategoricalCrossentropy(from_logits=False),None]\n",
    "    \n",
    "    tn.compile(\n",
    "            optimizer,\n",
    "            loss=loss)\n",
    "\n",
    "    tn.fit(train_ds, \n",
    "          epochs=100, \n",
    "          validation_data=val_ds,\n",
    "          callbacks=cbs,\n",
    "          verbose=1)\n",
    "    \n",
    "    \n",
    "    val_preds, _ =  tn.predict(val_ds)\n",
    "    pr_auc = average_precision_score(val_y, val_preds[:,1])\n",
    "    \n",
    "    return pr_auc\n",
    "\n",
    "study = optuna.create_study(direction=\"maximize\", study_name='TabNet optimization')\n",
    "study.optimize(Objective, n_jobs=1, n_trials=100, gc_after_trial=True, show_progress_bar=True) "
   ]
  },
  {
   "cell_type": "code",
   "execution_count": null,
   "id": "cd618649",
   "metadata": {},
   "outputs": [],
   "source": []
  }
 ],
 "metadata": {
  "kernelspec": {
   "display_name": "Python 3 (ipykernel)",
   "language": "python",
   "name": "python3"
  },
  "language_info": {
   "codemirror_mode": {
    "name": "ipython",
    "version": 3
   },
   "file_extension": ".py",
   "mimetype": "text/x-python",
   "name": "python",
   "nbconvert_exporter": "python",
   "pygments_lexer": "ipython3",
   "version": "3.9.12"
  }
 },
 "nbformat": 4,
 "nbformat_minor": 5
}
