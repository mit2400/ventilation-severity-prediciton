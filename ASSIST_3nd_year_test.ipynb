{
 "cells": [
  {
   "attachments": {},
   "cell_type": "markdown",
   "metadata": {},
   "source": [
    "## 평가환경 및 장비"
   ]
  },
  {
   "cell_type": "code",
   "execution_count": 16,
   "metadata": {},
   "outputs": [
    {
     "name": "stdout",
     "output_type": "stream",
     "text": [
      "HW: \n",
      "NVIDIA GeForce RTX 2080\n",
      "\n",
      "OS: \n",
      "DISTRIB_DESCRIPTION=\"Ubuntu 20.04.6 LTS\"\n",
      "\n",
      "Deep learning library : \n",
      "2.8.0\n",
      "\n",
      "Memory : \n",
      "              total        used        free      shared  buff/cache   available\n",
      "Mem:           62Gi       6.0Gi        36Gi        28Mi        20Gi        56Gi\n",
      "Swap:         2.0Gi        54Mi       1.9Gi\n"
     ]
    }
   ],
   "source": [
    "import tensorflow as tf\n",
    "import numpy as np\n",
    "print(\"HW: \")\n",
    "!nvidia-smi --query-gpu=name --format=csv,noheader\n",
    "print(\"\\nOS: \")\n",
    "!cat /etc/*release | grep \"DESCRIPTION\"\n",
    "print(\"\\nDeep learning library : \")\n",
    "print(tf.__version__)\n",
    "print(\"\\nMemory : \")\n",
    "!free -h "
   ]
  },
  {
   "attachments": {},
   "cell_type": "markdown",
   "metadata": {},
   "source": [
    "## 데이터 및 모델 불러오기"
   ]
  },
  {
   "cell_type": "code",
   "execution_count": 17,
   "metadata": {},
   "outputs": [
    {
     "name": "stdout",
     "output_type": "stream",
     "text": [
      "loading pretrained model from ./logs/best_model/lstm_dp04.h5\n",
      "loading pretrained model from logs/tuning_0.1/checkpoint/run_158\n",
      "Model: \"severity_prediction\"\n",
      "_________________________________________________________________\n",
      " Layer (type)                Output Shape              Param #   \n",
      "=================================================================\n",
      " input_2 (InputLayer)        [(None, 6, 25)]           0         \n",
      "                                                                 \n",
      " dropout_4 (Dropout)         (None, 6, 25)             0         \n",
      "                                                                 \n",
      " bidirectional_3 (Bidirectio  (None, 6, 16)            2176      \n",
      " nal)                                                            \n",
      "                                                                 \n",
      " dropout_5 (Dropout)         (None, 6, 16)             0         \n",
      "                                                                 \n",
      " bidirectional_4 (Bidirectio  (None, 6, 16)            1600      \n",
      " nal)                                                            \n",
      "                                                                 \n",
      " dropout_6 (Dropout)         (None, 6, 16)             0         \n",
      "                                                                 \n",
      " bidirectional_5 (Bidirectio  (None, 16)               1600      \n",
      " nal)                                                            \n",
      "                                                                 \n",
      " dropout_7 (Dropout)         (None, 16)                0         \n",
      "                                                                 \n",
      " dense_1 (Dense)             (None, 1)                 17        \n",
      "                                                                 \n",
      "=================================================================\n",
      "Total params: 5,393\n",
      "Trainable params: 5,393\n",
      "Non-trainable params: 0\n",
      "_________________________________________________________________\n",
      "(1035751, 6, 30)\n",
      "(257314, 6, 30)\n",
      "(114869, 6, 30)\n",
      "(13710, 6, 30)\n",
      "(21805, 6, 30)\n",
      "(11486, 6, 30)\n",
      "(103383, 6, 30)\n",
      "7\n",
      "3231/3231 [==============================] - 10s 3ms/step - loss: 0.5190 - auc: 0.7974\n",
      "3231/3231 [==============================] - 11s 3ms/step - loss: 0.4024 - auc: 0.8698 - ap: 0.1454\n"
     ]
    }
   ],
   "source": [
    "from model.load_model import get_trained_model_ckpt, get_trained_model_h5\n",
    "from utils.load_data import get_datasets, get_datasets_np\n",
    "from utils.utils import set_seed\n",
    "\n",
    "model_configs = {\n",
    "  \"impute\": 1,\n",
    "  \"drop_rate\": 0.4,\n",
    "  \"num_units\": 8,\n",
    "  \"num_layer\": 3,\n",
    "  \"regularize\": 0.01,\n",
    "  \"learning_rate\": 0.001,\n",
    "  \"label_smoothing\": 0.2,\n",
    "  \"class_weight\": 0,\n",
    "  \"batch_size\": 128,\n",
    "  \"epochs\": 20,\n",
    "  \"input_shape\": [6,25],\n",
    "  \"isAttention\":0\n",
    "}\n",
    "\n",
    "\n",
    "set_seed(0)\n",
    "\n",
    "origin_model = get_trained_model_h5()\n",
    "model = get_trained_model_ckpt('logs/tuning_0.1',configs=model_configs,epoch=None)\n",
    "X,Y, class_weights = get_datasets_np(tuning=True)\n",
    "\n",
    "print(len(X))\n",
    "\n",
    "idx=6 \n",
    "# 0 mimic-trian, 1 mimic-valid, 2 KU-ICU, 3 KU-COVID, 4 KU-ICU-3rd year, 5 KU-ICU-tuning, 6 KU-ICU-test\n",
    "#  \n",
    "X_KU_ICU = X[idx][:, :, :-5]\n",
    "Y_KU_ICU = Y[idx]\n",
    "\n",
    "# origin_model.evaluate(X_KU_ICU,Y_KU_ICU)\n",
    "# model.evaluate(X_KU_ICU,Y_KU_ICU)\n",
    "\n",
    "origin_pred = origin_model.predict(X_KU_ICU)\n",
    "pred = model.predict(X_KU_ICU)"
   ]
  },
  {
   "cell_type": "code",
   "execution_count": 18,
   "metadata": {},
   "outputs": [
    {
     "name": "stdout",
     "output_type": "stream",
     "text": [
      "['Rox', 'MEWS', 'NEWS', 'Sofa', 'MV-EWS', 'MV-EWS-FT']\n",
      "[0.7425283806348657, 0.6769888289960205, 0.709905680677196, 0.6987926842766499, 0.7974864952129603, 0.8701072664143208]\n",
      "[0.05061828325887155, 0.029878887640163387, 0.03710423791274712, 0.04551635147092142, 0.06269750064775138, 0.14585506130958664]\n",
      "[0.9890310786106032, 0.010968921389396709, 0.010968921389396709, 0.010968921389396709, 0.8580230792296606, 0.9312652950678545]\n"
     ]
    }
   ],
   "source": [
    "from sklearn.metrics import roc_auc_score, average_precision_score,accuracy_score\n",
    "\n",
    "columns = ['Rox', 'MEWS', 'NEWS', 'Sofa', 'MV-EWS', 'MV-EWS-FT']\n",
    "y_probs = []\n",
    "total_auc = []\n",
    "total_ap = []\n",
    "total_acc = []\n",
    "\n",
    "\n",
    "def sigmoid(lst):\n",
    "    return 1 / (1 + np.exp(-np.array(lst)))\n",
    "\n",
    "\n",
    "for i in range(len(columns)):\n",
    "    if i == 0 : # rox index\n",
    "        y_prob = 1-sigmoid(X[idx][:,-1,-5+i])\n",
    "    elif i < len(columns)-2:\n",
    "        y_prob = sigmoid(X[idx][:,-1,-5+i])\n",
    "    elif i == len(columns)-2:\n",
    "        y_prob = origin_model.predict(X_KU_ICU)\n",
    "    else:\n",
    "        y_prob = model.predict(X_KU_ICU)\n",
    "    \n",
    "    y_probs.append(y_prob)\n",
    "    y_pred = np.where(np.array(y_prob) >= 0.5, 1, 0)\n",
    "\n",
    "    total_auc.append(roc_auc_score(Y[idx], y_prob, average=None))\n",
    "    total_ap.append(average_precision_score(Y[idx], y_prob))\n",
    "    total_acc.append(accuracy_score(Y[idx], y_pred))\n",
    "\n",
    "print(columns)\n",
    "print(total_auc)\n",
    "print(total_ap)\n",
    "print(total_acc)"
   ]
  },
  {
   "attachments": {},
   "cell_type": "markdown",
   "metadata": {},
   "source": []
  },
  {
   "cell_type": "code",
   "execution_count": 19,
   "metadata": {},
   "outputs": [],
   "source": [
    "import matplotlib.pyplot as plt\n",
    "from sklearn.metrics import roc_curve, auc, precision_recall_curve, roc_auc_score\n",
    "fpr_list = []\n",
    "tpr_list = []\n",
    "auc_list = []\n",
    "precision_list = []\n",
    "recall_list = []\n",
    "auprc_list = []\n",
    "\n",
    "for i in range(len(columns)):\n",
    "    fpr, tpr, _ = roc_curve(Y[idx], y_probs[i])\n",
    "    pr, rec, _ = precision_recall_curve(Y[idx], y_probs[i])\n",
    "    fpr_list.append(fpr)\n",
    "    tpr_list.append(tpr)\n",
    "    auc_list.append(auc(fpr,tpr))\n",
    "    precision_list.append(pr)\n",
    "    recall_list.append(rec)\n",
    "    auprc_list.append(auc(rec,pr))"
   ]
  },
  {
   "cell_type": "code",
   "execution_count": 24,
   "metadata": {},
   "outputs": [
    {
     "data": {
      "image/png": "[encoded data removed]",
      "text/plain": [
       "<Figure size 432x288 with 1 Axes>"
      ]
     },
     "metadata": {
      "needs_background": "light"
     },
     "output_type": "display_data"
    }
   ],
   "source": [
    "plt.figure()\n",
    "lw = 2\n",
    "columns = ['Rox', 'MEWS', 'NEWS', 'Sofa', 'MV-EWS', 'MV-EWS-FT']\n",
    "for i in range(len(columns)):\n",
    "    plt.plot(\n",
    "        fpr_list[i],\n",
    "        tpr_list[i],\n",
    "        lw=lw,\n",
    "        label=columns[i] + \"(%0.3f)\" %  round(auc_list[i], 3)\n",
    "    )\n",
    "\n",
    "plt.plot([0, 1], [0, 1], color=\"navy\", lw=lw, linestyle=\"--\")\n",
    "plt.xlim([0.0, 1.0])\n",
    "plt.ylim([0.0, 1.05])\n",
    "plt.xlabel(\"False Positive Rate\")\n",
    "plt.ylabel(\"True Positive Rate\")\n",
    "plt.title(\"ROC-curve: KU hospital Respiratory ICU\")\n",
    "plt.legend(loc=\"lower right\")\n",
    "plt.show()"
   ]
  },
  {
   "cell_type": "code",
   "execution_count": 38,
   "metadata": {},
   "outputs": [
    {
     "data": {
      "text/plain": [
       "[0.7425283806348657,\n",
       " 0.6769888289960205,\n",
       " 0.709905680677196,\n",
       " 0.6987926842766499,\n",
       " 0.7974864952129603,\n",
       " 0.8701072664143208]"
      ]
     },
     "execution_count": 38,
     "metadata": {},
     "output_type": "execute_result"
    }
   ],
   "source": [
    "auc_list"
   ]
  },
  {
   "cell_type": "code",
   "execution_count": 25,
   "metadata": {},
   "outputs": [
    {
     "data": {
      "image/png": "[encoded data removed]",
      "text/plain": [
       "<Figure size 432x288 with 1 Axes>"
      ]
     },
     "metadata": {
      "needs_background": "light"
     },
     "output_type": "display_data"
    }
   ],
   "source": [
    "plt.figure()\n",
    "lw = 2\n",
    "\n",
    "for i in range(len(columns)):\n",
    "    plt.plot(\n",
    "        recall_list[i],\n",
    "        precision_list[i],\n",
    "        lw=lw,\n",
    "        label=columns[i] + \" (%0.3f)\" %  round(auprc_list[i], 3)\n",
    "    )\n",
    "plt.plot([0, 1], [0, 0], color=\"navy\", lw=lw, linestyle=\"--\")\n",
    "plt.xlim([0.0, 1.0])\n",
    "plt.ylim([0.0, 1.05])\n",
    "plt.xlabel(\"Recall\")\n",
    "plt.ylabel(\"Precision\")\n",
    "plt.title(\"PR-curve:  KU hospital Respiratory ICU\")\n",
    "plt.legend(loc=\"upper right\")\n",
    "plt.show()"
   ]
  },
  {
   "cell_type": "code",
   "execution_count": 22,
   "metadata": {},
   "outputs": [
    {
     "name": "stdout",
     "output_type": "stream",
     "text": [
      "Predict severity of patients using MV-EWS Model...\n",
      "\n",
      "Predicting on 0 fold\n",
      "  1/324 [..............................] - ETA: 4s"
     ]
    },
    {
     "name": "stdout",
     "output_type": "stream",
     "text": [
      "324/324 [==============================] - 1s 2ms/step\n",
      "Accuracy: 92.6782\n",
      "\n",
      "Predicting on 1 fold\n",
      "324/324 [==============================] - 1s 2ms/step\n",
      "Accuracy: 93.3166\n",
      "\n",
      "Predicting on 2 fold\n",
      "324/324 [==============================] - 1s 2ms/step\n",
      "Accuracy: 93.0554\n",
      "\n",
      "Predicting on 3 fold\n",
      "324/324 [==============================] - 1s 2ms/step\n",
      "Accuracy: 92.9967\n",
      "\n",
      "Predicting on 4 fold\n",
      "324/324 [==============================] - 1s 2ms/step\n",
      "Accuracy: 93.0838\n",
      "\n",
      "Predicting on 5 fold\n",
      "324/324 [==============================] - 1s 2ms/step\n",
      "Accuracy: 93.6932\n",
      "\n",
      "Predicting on 6 fold\n",
      "324/324 [==============================] - 1s 2ms/step\n",
      "Accuracy: 93.0547\n",
      "\n",
      "Predicting on 7 fold\n",
      "324/324 [==============================] - 1s 2ms/step\n",
      "Accuracy: 93.2289\n",
      "\n",
      "Predicting on 8 fold\n",
      "324/324 [==============================] - 1s 2ms/step\n",
      "Accuracy: 93.0064\n",
      "\n",
      "Predicting on 9 fold\n",
      "324/324 [==============================] - 1s 2ms/step\n",
      "Accuracy: 93.1515\n",
      "\n",
      "MV-EWS 모델 평균 정확도: 93.1265\n"
     ]
    }
   ],
   "source": [
    "print(\"Predict severity of patients using MV-EWS Model...\")\n",
    "\n",
    "data_folds = np.array_split(X_KU_ICU, 10)\n",
    "label_folds = np.array_split(Y_KU_ICU, 10)\n",
    "average_accuracy = 0\n",
    "for i,(data,label) in enumerate(zip(data_folds,label_folds)):\n",
    "    print(f\"\\nPredicting on {i} fold\")\n",
    "    prob = model.predict(data,verbose=True)\n",
    "    pred=np.where(prob>0.5,1,0)\n",
    "    acc = accuracy_score(label, pred)\n",
    "    average_accuracy = average_accuracy + acc\n",
    "    print(f\"Accuracy: {acc*100:.4f}\")\n",
    "\n",
    "print(f\"\\nMV-EWS 모델 평균 정확도: {average_accuracy*10:.4f}\")\n",
    "# print(\"\\nMV-EWS 모델 평균 정확도: %0.4f\" % (average_accuracy/10)*100)\n"
   ]
  },
  {
   "cell_type": "code",
   "execution_count": 23,
   "metadata": {},
   "outputs": [
    {
     "name": "stdout",
     "output_type": "stream",
     "text": [
      "3231/3231 [==============================] - 10s 3ms/step - loss: 0.4024 - auc: 0.8698 - ap: 0.1454\n"
     ]
    }
   ],
   "source": [
    "X_KU_ICU = X[idx][:, :, :-5]\n",
    "Y_KU_ICU = Y[idx]\n",
    "model.evaluate(X_KU_ICU,Y_KU_ICU)\n",
    "pred = model.predict(X_KU_ICU)\n",
    "total_acc.append(accuracy_score(Y[idx], y_pred))"
   ]
  },
  {
   "cell_type": "code",
   "execution_count": null,
   "metadata": {},
   "outputs": [],
   "source": [
    "asdf"
   ]
  },
  {
   "cell_type": "code",
   "execution_count": 39,
   "metadata": {},
   "outputs": [],
   "source": [
    "def sigmoid(lst):\n",
    "    return 1 / (1 + np.exp(-np.array(lst)))\n",
    "\n",
    "\n",
    "total_auc = []\n",
    "\n",
    "for idx in [1,6,3,4]:\n",
    "    auc = []\n",
    "    for i in range(len(columns)):\n",
    "        if i == 0 : # rox index\n",
    "            y_prob = 1-sigmoid(X[idx][:,-1,-5+i])\n",
    "        elif i < len(columns)-2:\n",
    "            y_prob = sigmoid(X[idx][:,-1,-5+i])\n",
    "        elif i == len(columns)-2:\n",
    "            y_prob = origin_model.predict(X[idx][:, :, :-5])\n",
    "        else:\n",
    "            y_prob = model.predict(X[idx][:, :, :-5])\n",
    "        \n",
    "        auc.append(roc_auc_score(Y[idx], y_prob, average=None))\n",
    "    total_auc.append(auc)\n",
    "    \n",
    "results = np.array(total_auc)"
   ]
  },
  {
   "cell_type": "code",
   "execution_count": 72,
   "metadata": {},
   "outputs": [],
   "source": [
    "results = np.array(total_auc)"
   ]
  },
  {
   "cell_type": "code",
   "execution_count": 75,
   "metadata": {},
   "outputs": [
    {
     "data": {
      "image/png": "[encoded data removed]",
      "text/plain": [
       "<Figure size 432x288 with 1 Axes>"
      ]
     },
     "metadata": {
      "needs_background": "light"
     },
     "output_type": "display_data"
    }
   ],
   "source": [
    "import matplotlib.pyplot as plt\n",
    "import matplotlib.colors as mcolors\n",
    "\n",
    "# Suppose the four values are:\n",
    "\n",
    "# MIMIC: 0.819’, ‘KU-ICU: 0.792', ‘KU-COVID: 0.835', ‘KU-ICU-test: 0.779’\n",
    "# ‘MIMIC: 0.798’, ‘KU-ICU: 0.819', ‘KU-COVID: 0.826', ‘KU-ICU-test: 0.793’\n",
    "\n",
    "methods = ['Rox', 'MEWS', 'NEWS', 'Sofa', 'MV-EWS', 'MV-EWS-FT']\n",
    "datasets = ['MIMIC', 'KU-ICU', 'KU-COVID', 'KU-TEST']\n",
    "\n",
    "new_order = [2, 1, 0, 3, 4, 5]  # A new order for the methods (swap A and C here)\n",
    "methods = [methods[i] for i in new_order]\n",
    "results = results[:, new_order]\n",
    "\n",
    "num_datasets = len(datasets)\n",
    "num_methods = len(methods)\n",
    "\n",
    "bar_width = 0.1  # adjust as needed to fit the plot\n",
    "indices = np.arange(num_datasets)\n",
    "\n",
    "for i in range(num_methods):\n",
    "    plt.bar(indices + i*bar_width, results[:, i], width=bar_width, label=methods[i])\n",
    "\n",
    "# Adding xticks\n",
    "plt.xticks(indices + bar_width*(num_methods-1)/2, datasets)\n",
    "\n",
    "plt.xlabel('Validation Datasets', fontweight='bold', fontsize=15)\n",
    "plt.ylabel('AUROC')\n",
    "plt.title('AUROC of MV-EWS, MV-EWS-FT among datasets')\n",
    "\n",
    "# Set y-axis range\n",
    "plt.ylim(0.5, 1)\n",
    "\n",
    "# plt.legend()\n",
    "\n",
    "plt.legend(loc='center left', bbox_to_anchor=(1, 0.5))\n",
    "\n",
    "plt.show()"
   ]
  },
  {
   "cell_type": "code",
   "execution_count": null,
   "metadata": {},
   "outputs": [],
   "source": [
    "import matplotlib.pyplot as plt\n",
    "import matplotlib.colors as mcolors\n",
    "\n",
    "# Suppose the four values are:\n",
    "\n",
    "# MIMIC: 0.819’, ‘KU-ICU: 0.792', ‘KU-COVID: 0.835', ‘KU-ICU-test: 0.779’\n",
    "# ‘MIMIC: 0.798’, ‘KU-ICU: 0.819', ‘KU-COVID: 0.826', ‘KU-ICU-test: 0.793’\n",
    "\n",
    "methods = ['Rox', 'MEWS', 'NEWS', 'Sofa', 'MV-EWS', 'MV-EWS-FT']\n",
    "datasets = ['MIMIC', 'KU-ICU', 'KU-COVID', 'KU-TEST']\n",
    "\n",
    "results  = np.array([\n",
    "    [0.819, 0.792, 0.835, 0.779],\n",
    "    [0.798, 0.819, 0.826, 0.793],\n",
    "])\n",
    "\n",
    "# position of bars on x axis\n",
    "barWidth = 0.25\n",
    "r1 = np.arange(len(datasets))\n",
    "r2 = [x + barWidth for x in r1]\n",
    "\n",
    "# Make the plot\n",
    "plt.bar(r1, results[0], color='b', width=barWidth, edgecolor='black', label=methods[0])\n",
    "plt.bar(r2, results[1], color='g', width=barWidth, edgecolor='black', label=methods[1])\n",
    "\n",
    "# Adding xticks\n",
    "plt.xlabel('Validation Datasets', fontweight='bold', fontsize=15)\n",
    "plt.xticks([r + barWidth/2 for r in range(len(datasets))], datasets)\n",
    "plt.ylabel('AUROC')\n",
    "plt.title('AUROC of MV-EWS, MV-EWS-FT among datasets')\n",
    "\n",
    "# Set y-axis range\n",
    "plt.ylim(0, 1)\n",
    "\n",
    "plt.legend()\n",
    "plt.show()"
   ]
  }
 ],
 "metadata": {
  "kernelspec": {
   "display_name": "Python 3.8.10 64-bit",
   "language": "python",
   "name": "python3"
  },
  "language_info": {
   "codemirror_mode": {
    "name": "ipython",
    "version": 3
   },
   "file_extension": ".py",
   "mimetype": "text/x-python",
   "name": "python",
   "nbconvert_exporter": "python",
   "pygments_lexer": "ipython3",
   "version": "3.9.0"
  },
  "vscode": {
   "interpreter": {
    "hash": "916dbcbb3f70747c44a77c7bcd40155683ae19c65e1c03b4aa3499c5328201f1"
   }
  }
 },
 "nbformat": 4,
 "nbformat_minor": 2
}
